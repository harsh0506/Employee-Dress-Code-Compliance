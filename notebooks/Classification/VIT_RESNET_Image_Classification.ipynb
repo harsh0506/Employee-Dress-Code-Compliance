{
  "nbformat": 4,
  "nbformat_minor": 0,
  "metadata": {
    "colab": {
      "provenance": [],
      "gpuType": "T4"
    },
    "kernelspec": {
      "name": "python3",
      "display_name": "Python 3"
    },
    "language_info": {
      "name": "python"
    },
    "accelerator": "GPU"
  },
  "cells": [
    {
      "cell_type": "markdown",
      "source": [
        "ViT(HARSH)"
      ],
      "metadata": {
        "id": "_qMx326jO6Pr"
      }
    },
    {
      "cell_type": "code",
      "source": [
        "import torchvision.transforms as transforms\n",
        "from torch.utils.data import DataLoader\n",
        "from torchvision.datasets import ImageFolder\n",
        "import torch\n",
        "from transformers import ViTForImageClassification, ViTFeatureExtractor\n",
        "from sklearn.metrics import classification_report, confusion_matrix\n",
        "from tqdm import tqdm"
      ],
      "metadata": {
        "id": "t17d3Ur1Ab_L"
      },
      "execution_count": null,
      "outputs": []
    },
    {
      "cell_type": "code",
      "source": [
        "from google.colab import drive\n",
        "drive.mount('/content/drive')"
      ],
      "metadata": {
        "colab": {
          "base_uri": "https://localhost:8080/"
        },
        "id": "ipaHv5BX-RaB",
        "outputId": "caeaa653-15e6-479f-ab9c-0745727c6160"
      },
      "execution_count": null,
      "outputs": [
        {
          "output_type": "stream",
          "name": "stdout",
          "text": [
            "Mounted at /content/drive\n"
          ]
        }
      ]
    },
    {
      "cell_type": "code",
      "execution_count": null,
      "metadata": {
        "id": "f2C0HNT1_rMl"
      },
      "outputs": [],
      "source": [
        "import torch\n",
        "from transformers import ViTForImageClassification, ViTFeatureExtractor\n",
        "from sklearn.metrics import classification_report, confusion_matrix\n",
        "from tqdm import tqdm\n",
        "\n",
        "class ViTEvaluator:\n",
        "    def __init__(self, class_names, device=None):\n",
        "        self.class_names = class_names\n",
        "        self.device = device or torch.device(\"cuda\" if torch.cuda.is_available() else \"cpu\")\n",
        "\n",
        "        # Load ViT model\n",
        "        self.model = ViTForImageClassification.from_pretrained(\n",
        "            \"google/vit-base-patch16-224-in21k\", num_labels=len(class_names)\n",
        "        )\n",
        "\n",
        "        self.model.eval()\n",
        "        self.model.to(self.device)\n",
        "\n",
        "        # Load feature extractor for input shape information\n",
        "        self.feature_extractor = ViTFeatureExtractor.from_pretrained(\n",
        "            \"google/vit-base-patch16-224-in21k\"\n",
        "        )\n",
        "\n",
        "    def predict_batch(self, images):\n",
        "        # Ensure images are in the correct shape\n",
        "        if images.shape[-2:] != (self.feature_extractor.size['height'], self.feature_extractor.size['width']):\n",
        "            raise ValueError(f\"Expected image size {self.feature_extractor.size['height']}x{self.feature_extractor.size['width']}, but got {images.shape[-2]}x{images.shape[-1]}\")\n",
        "\n",
        "        # Move images to the correct device\n",
        "        images = images.to(self.device)\n",
        "\n",
        "        with torch.no_grad():\n",
        "            outputs = self.model(pixel_values=images)\n",
        "            predictions = outputs.logits.argmax(-1)\n",
        "\n",
        "        return [self.class_names[pred.item()] for pred in predictions]\n",
        "\n",
        "    def evaluate(self, test_loader):\n",
        "        y_true = []\n",
        "        y_pred = []\n",
        "\n",
        "        for images, labels in tqdm(test_loader, desc=\"Evaluating\"):\n",
        "            predicted_classes = self.predict_batch(images)\n",
        "            y_true.extend([self.class_names[label.item()] for label in labels])\n",
        "            y_pred.extend(predicted_classes)\n",
        "\n",
        "        return classification_report(y_true, y_pred, target_names=self.class_names), \\\n",
        "               confusion_matrix(y_true, y_pred, labels=self.class_names)\n"
      ]
    },
    {
      "cell_type": "code",
      "source": [
        "from torch.utils.data import Dataset, DataLoader\n",
        "from torchvision import models, datasets, transforms\n",
        "import torch\n",
        "import random\n",
        "class RandomApply(object):\n",
        "    def __init__(self, transform, p=0.5):\n",
        "        self.transform = transform\n",
        "        self.p = p\n",
        "\n",
        "    def __call__(self, img):\n",
        "        if random.random() < self.p:\n",
        "            return self.transform(img)\n",
        "        return img\n",
        "\n",
        "# Define the augmentations and transformations\n",
        "transform_train = transforms.Compose([\n",
        "    transforms.RandomResizedCrop(224),  # Randomly crop and resize the image\n",
        "\n",
        "    # Geometric transformations\n",
        "    transforms.RandomHorizontalFlip(p=0.5),\n",
        "    transforms.RandomVerticalFlip(p=0.2),\n",
        "    transforms.RandomRotation(degrees=30),\n",
        "    transforms.RandomAffine(\n",
        "        degrees=0,\n",
        "        translate=(0.2, 0.2),\n",
        "        scale=(0.8, 1.2),\n",
        "        shear=15\n",
        "    ),\n",
        "    # Color transformations\n",
        "    transforms.ColorJitter(\n",
        "        brightness=0.4,\n",
        "        contrast=0.4,\n",
        "        saturation=0.4,\n",
        "        hue=0.2\n",
        "    ),\n",
        "    RandomApply(transforms.GaussianBlur(kernel_size=3), p=0.3),\n",
        "    transforms.ToTensor(),\n",
        "    transforms.Normalize([0.5, 0.5, 0.5], [0.5, 0.5, 0.5])\n",
        "])\n",
        "\n",
        "transform_val = transforms.Compose([\n",
        "    transforms.Resize(256),\n",
        "    transforms.CenterCrop(224),\n",
        "      transforms.RandomVerticalFlip(p=0.2),\n",
        "    transforms.RandomRotation(degrees=30),\n",
        "    transforms.RandomAffine(\n",
        "        degrees=0,\n",
        "        translate=(0.2, 0.2),\n",
        "        scale=(0.8, 1.2),\n",
        "        shear=15\n",
        "    ),\n",
        "    transforms.ToTensor(),\n",
        "    transforms.Normalize([0.5, 0.5, 0.5], [0.5, 0.5, 0.5])\n",
        "])\n",
        "\n",
        "# Load the dataset\n",
        "full_dataset = datasets.ImageFolder(root='/content/drive/MyDrive/clothing_data', transform=transform_train)\n",
        "\n",
        "# Split into train and validation sets\n",
        "train_size = int(0.6 * len(full_dataset))\n",
        "val_size = len(full_dataset) - train_size\n",
        "train_dataset, val_dataset = torch.utils.data.random_split(full_dataset, [train_size, val_size])\n",
        "\n",
        "# Apply transforms\n",
        "train_dataset.dataset.transform = transform_train\n",
        "val_dataset.dataset.transform = transform_val\n",
        "\n",
        "# Create data loaders\n",
        "train_loader = DataLoader(train_dataset, batch_size=8, shuffle=True)\n",
        "val_loader = DataLoader(val_dataset, batch_size=8, shuffle=False)"
      ],
      "metadata": {
        "id": "wenuxXoyAUsN"
      },
      "execution_count": null,
      "outputs": []
    },
    {
      "cell_type": "code",
      "source": [
        "# Get class names from the dataset\n",
        "class_names = full_dataset.classes\n",
        "\n",
        "# Print class names\n",
        "print(\"Class Names:\", class_names)  # Replace with your actual class names\n",
        "\n",
        "evaluator = ViTEvaluator(class_names)\n",
        "\n",
        "# Evaluate the model\n",
        "report, conf_matrix  = evaluator.evaluate(val_loader)\n",
        "\n",
        "print(\"Classification Report:\")\n",
        "print(report)\n",
        "print(\"\\nConfusion Matrix:\")\n",
        "print(conf_matrix)"
      ],
      "metadata": {
        "colab": {
          "base_uri": "https://localhost:8080/"
        },
        "id": "z3Xgn40i_1ZV",
        "outputId": "75b36a34-b497-403e-8951-fe517b184f2b"
      },
      "execution_count": null,
      "outputs": [
        {
          "output_type": "stream",
          "name": "stdout",
          "text": [
            "Class Names: ['female_bodycon', 'female_pant_suit_top', 'female_pants_bottom', 'informal_cloths_men', 'informal_cloths_women', 'male_pants', 'shirt_men', 'suits_men']\n"
          ]
        },
        {
          "output_type": "stream",
          "name": "stderr",
          "text": [
            "Some weights of ViTForImageClassification were not initialized from the model checkpoint at google/vit-base-patch16-224-in21k and are newly initialized: ['classifier.bias', 'classifier.weight']\n",
            "You should probably TRAIN this model on a down-stream task to be able to use it for predictions and inference.\n",
            "/usr/local/lib/python3.10/dist-packages/transformers/models/vit/feature_extraction_vit.py:28: FutureWarning: The class ViTFeatureExtractor is deprecated and will be removed in version 5 of Transformers. Please use ViTImageProcessor instead.\n",
            "  warnings.warn(\n",
            "Evaluating: 100%|██████████| 40/40 [01:49<00:00,  2.74s/it]"
          ]
        },
        {
          "output_type": "stream",
          "name": "stdout",
          "text": [
            "Classification Report:\n",
            "                       precision    recall  f1-score   support\n",
            "\n",
            "       female_bodycon       0.04      0.03      0.03        34\n",
            " female_pant_suit_top       0.21      0.42      0.28        38\n",
            "  female_pants_bottom       0.14      0.07      0.09        42\n",
            "  informal_cloths_men       0.08      0.05      0.06        42\n",
            "informal_cloths_women       0.08      0.19      0.12        32\n",
            "           male_pants       0.00      0.00      0.00        42\n",
            "            shirt_men       0.06      0.02      0.03        45\n",
            "            suits_men       0.00      0.00      0.00        45\n",
            "\n",
            "             accuracy                           0.09       320\n",
            "            macro avg       0.08      0.10      0.08       320\n",
            "         weighted avg       0.07      0.09      0.07       320\n",
            "\n",
            "\n",
            "Confusion Matrix:\n",
            "[[ 1  2  3  5 17  3  1  2]\n",
            " [ 2 16  0  7  8  2  1  2]\n",
            " [ 1  5  3  2 11  2  0 18]\n",
            " [ 6  9  6  2  5  2  7  5]\n",
            " [ 1  6  3  3  6  8  1  4]\n",
            " [ 0 10  3  1  8  0  3 17]\n",
            " [11  3  4  2 11 11  1  2]\n",
            " [ 5 27  0  2  6  3  2  0]]\n"
          ]
        },
        {
          "output_type": "stream",
          "name": "stderr",
          "text": [
            "\n"
          ]
        }
      ]
    },
    {
      "cell_type": "code",
      "source": [
        "import torch\n",
        "import torch.nn as nn\n",
        "import torch.optim as optim\n",
        "from torchvision import transforms, datasets\n",
        "from torch.utils.data import DataLoader, random_split\n",
        "from transformers import ViTForImageClassification, ViTFeatureExtractor\n",
        "from tqdm import tqdm\n",
        "import matplotlib.pyplot as plt\n",
        "from sklearn.metrics import classification_report, confusion_matrix\n",
        "import random\n",
        "\n",
        "class ViTTrainer:\n",
        "    def __init__(self, class_names, device=None):\n",
        "        self.class_names = class_names\n",
        "        self.device = device or torch.device(\"cuda\" if torch.cuda.is_available() else \"cpu\")\n",
        "\n",
        "        # Load ViT model\n",
        "        self.model = ViTForImageClassification.from_pretrained(\n",
        "            \"google/vit-base-patch16-224-in21k\", num_labels=len(class_names)\n",
        "        )\n",
        "        self.model.to(self.device)\n",
        "\n",
        "        # Load feature extractor for input shape information\n",
        "        self.feature_extractor = ViTFeatureExtractor.from_pretrained(\n",
        "            \"google/vit-base-patch16-224-in21k\"\n",
        "        )\n",
        "\n",
        "        # Define loss function and optimizer\n",
        "        self.criterion = nn.CrossEntropyLoss()\n",
        "        self.optimizer = optim.Adam(self.model.parameters(), lr=1e-4)\n",
        "\n",
        "    def train(self, train_loader, val_loader, num_epochs=10):\n",
        "        train_losses, train_accuracies = [], []\n",
        "        val_losses, val_accuracies = [], []\n",
        "\n",
        "        for epoch in range(num_epochs):\n",
        "            self.model.train()\n",
        "            train_loss, train_correct = 0, 0\n",
        "\n",
        "            for images, labels in tqdm(train_loader, desc=f\"Epoch {epoch+1}/{num_epochs}\"):\n",
        "                images, labels = images.to(self.device), labels.to(self.device)\n",
        "\n",
        "                self.optimizer.zero_grad()\n",
        "                outputs = self.model(pixel_values=images)\n",
        "                loss = self.criterion(outputs.logits, labels)\n",
        "                loss.backward()\n",
        "                self.optimizer.step()\n",
        "\n",
        "                train_loss += loss.item()\n",
        "                train_correct += (outputs.logits.argmax(1) == labels).sum().item()\n",
        "\n",
        "            train_loss /= len(train_loader)\n",
        "            train_accuracy = train_correct / len(train_loader.dataset)\n",
        "\n",
        "            train_losses.append(train_loss)\n",
        "            train_accuracies.append(train_accuracy)\n",
        "\n",
        "            # Validation\n",
        "            val_loss, val_accuracy = self.evaluate(val_loader)\n",
        "            val_losses.append(val_loss)\n",
        "            val_accuracies.append(val_accuracy)\n",
        "\n",
        "            print(f\"Epoch {epoch+1}/{num_epochs}\")\n",
        "            print(f\"Train Loss: {train_loss:.4f}, Train Accuracy: {train_accuracy:.4f}\")\n",
        "            print(f\"Val Loss: {val_loss:.4f}, Val Accuracy: {val_accuracy:.4f}\")\n",
        "\n",
        "        return train_losses, train_accuracies, val_losses, val_accuracies\n",
        "\n",
        "    def evaluate(self, loader):\n",
        "        self.model.eval()\n",
        "        total_loss, correct = 0, 0\n",
        "\n",
        "        with torch.no_grad():\n",
        "            for images, labels in loader:\n",
        "                images, labels = images.to(self.device), labels.to(self.device)\n",
        "                outputs = self.model(pixel_values=images)\n",
        "                loss = self.criterion(outputs.logits, labels)\n",
        "                total_loss += loss.item()\n",
        "                correct += (outputs.logits.argmax(1) == labels).sum().item()\n",
        "\n",
        "        return total_loss / len(loader), correct / len(loader.dataset)\n",
        "\n",
        "    def plot_learning_curves(self, train_losses, train_accuracies, val_losses, val_accuracies):\n",
        "        plt.figure(figsize=(12, 5))\n",
        "\n",
        "        plt.subplot(1, 2, 1)\n",
        "        plt.plot(train_losses, label='Train Loss')\n",
        "        plt.plot(val_losses, label='Validation Loss')\n",
        "        plt.xlabel('Epoch')\n",
        "        plt.ylabel('Loss')\n",
        "        plt.legend()\n",
        "        plt.title('Training and Validation Loss')\n",
        "\n",
        "        plt.subplot(1, 2, 2)\n",
        "        plt.plot(train_accuracies, label='Train Accuracy')\n",
        "        plt.plot(val_accuracies, label='Validation Accuracy')\n",
        "        plt.xlabel('Epoch')\n",
        "        plt.ylabel('Accuracy')\n",
        "        plt.legend()\n",
        "        plt.title('Training and Validation Accuracy')\n",
        "\n",
        "        plt.tight_layout()\n",
        "        plt.show()\n",
        "\n",
        "# Use the existing data loading and augmentation code\n",
        "\n",
        "# Initialize the trainer\n",
        "trainer = ViTTrainer(class_names)\n",
        "\n",
        "# Train the model and get the learning curves data\n",
        "train_losses, train_accuracies, val_losses, val_accuracies = trainer.train(train_loader, val_loader, num_epochs=100)\n",
        "\n",
        "# Plot the learning curves\n",
        "trainer.plot_learning_curves(train_losses, train_accuracies, val_losses, val_accuracies)\n",
        "\n",
        "# Save the trained model\n",
        "torch.save(trainer.model.state_dict(), \"vit_classification_model_final.pth\")\n",
        "\n",
        "# Evaluate the model on the validation set\n",
        "evaluator = ViTEvaluator(\"vit_classification_model_final.pth\", class_names)\n",
        "report, conf_matrix = evaluator.evaluate(val_loader)\n",
        "print(report)\n",
        "print(conf_matrix)"
      ],
      "metadata": {
        "colab": {
          "base_uri": "https://localhost:8080/",
          "height": 1000
        },
        "id": "kUlCBNlX2Sny",
        "outputId": "5502f31b-c433-4bb2-b8e1-c841cc232753"
      },
      "execution_count": null,
      "outputs": [
        {
          "output_type": "stream",
          "name": "stderr",
          "text": [
            "Some weights of ViTForImageClassification were not initialized from the model checkpoint at google/vit-base-patch16-224-in21k and are newly initialized: ['classifier.bias', 'classifier.weight']\n",
            "You should probably TRAIN this model on a down-stream task to be able to use it for predictions and inference.\n",
            "/usr/local/lib/python3.10/dist-packages/transformers/models/vit/feature_extraction_vit.py:28: FutureWarning: The class ViTFeatureExtractor is deprecated and will be removed in version 5 of Transformers. Please use ViTImageProcessor instead.\n",
            "  warnings.warn(\n",
            "Epoch 1/100: 100%|██████████| 60/60 [03:01<00:00,  3.03s/it]\n"
          ]
        },
        {
          "output_type": "stream",
          "name": "stdout",
          "text": [
            "Epoch 1/100\n",
            "Train Loss: 1.6210, Train Accuracy: 0.5062\n",
            "Val Loss: 1.1839, Val Accuracy: 0.6562\n"
          ]
        },
        {
          "output_type": "stream",
          "name": "stderr",
          "text": [
            "Epoch 2/100: 100%|██████████| 60/60 [00:19<00:00,  3.14it/s]\n"
          ]
        },
        {
          "output_type": "stream",
          "name": "stdout",
          "text": [
            "Epoch 2/100\n",
            "Train Loss: 0.8870, Train Accuracy: 0.7833\n",
            "Val Loss: 0.7270, Val Accuracy: 0.8031\n"
          ]
        },
        {
          "output_type": "stream",
          "name": "stderr",
          "text": [
            "Epoch 3/100: 100%|██████████| 60/60 [00:19<00:00,  3.12it/s]\n"
          ]
        },
        {
          "output_type": "stream",
          "name": "stdout",
          "text": [
            "Epoch 3/100\n",
            "Train Loss: 0.5326, Train Accuracy: 0.8688\n",
            "Val Loss: 0.6971, Val Accuracy: 0.7531\n"
          ]
        },
        {
          "output_type": "stream",
          "name": "stderr",
          "text": [
            "Epoch 4/100: 100%|██████████| 60/60 [00:19<00:00,  3.07it/s]\n"
          ]
        },
        {
          "output_type": "stream",
          "name": "stdout",
          "text": [
            "Epoch 4/100\n",
            "Train Loss: 0.4149, Train Accuracy: 0.9021\n",
            "Val Loss: 0.5022, Val Accuracy: 0.8375\n"
          ]
        },
        {
          "output_type": "stream",
          "name": "stderr",
          "text": [
            "Epoch 5/100: 100%|██████████| 60/60 [00:19<00:00,  3.07it/s]\n"
          ]
        },
        {
          "output_type": "stream",
          "name": "stdout",
          "text": [
            "Epoch 5/100\n",
            "Train Loss: 0.2668, Train Accuracy: 0.9333\n",
            "Val Loss: 0.5126, Val Accuracy: 0.8250\n"
          ]
        },
        {
          "output_type": "stream",
          "name": "stderr",
          "text": [
            "Epoch 6/100: 100%|██████████| 60/60 [00:19<00:00,  3.10it/s]\n"
          ]
        },
        {
          "output_type": "stream",
          "name": "stdout",
          "text": [
            "Epoch 6/100\n",
            "Train Loss: 0.3041, Train Accuracy: 0.9229\n",
            "Val Loss: 0.5848, Val Accuracy: 0.7875\n"
          ]
        },
        {
          "output_type": "stream",
          "name": "stderr",
          "text": [
            "Epoch 7/100: 100%|██████████| 60/60 [00:19<00:00,  3.09it/s]\n"
          ]
        },
        {
          "output_type": "stream",
          "name": "stdout",
          "text": [
            "Epoch 7/100\n",
            "Train Loss: 0.2058, Train Accuracy: 0.9563\n",
            "Val Loss: 0.6447, Val Accuracy: 0.7875\n"
          ]
        },
        {
          "output_type": "stream",
          "name": "stderr",
          "text": [
            "Epoch 8/100: 100%|██████████| 60/60 [00:19<00:00,  3.07it/s]\n"
          ]
        },
        {
          "output_type": "stream",
          "name": "stdout",
          "text": [
            "Epoch 8/100\n",
            "Train Loss: 0.1963, Train Accuracy: 0.9458\n",
            "Val Loss: 0.6322, Val Accuracy: 0.7781\n"
          ]
        },
        {
          "output_type": "stream",
          "name": "stderr",
          "text": [
            "Epoch 9/100: 100%|██████████| 60/60 [00:19<00:00,  3.07it/s]\n"
          ]
        },
        {
          "output_type": "stream",
          "name": "stdout",
          "text": [
            "Epoch 9/100\n",
            "Train Loss: 0.2426, Train Accuracy: 0.9354\n",
            "Val Loss: 0.6810, Val Accuracy: 0.7656\n"
          ]
        },
        {
          "output_type": "stream",
          "name": "stderr",
          "text": [
            "Epoch 10/100: 100%|██████████| 60/60 [00:19<00:00,  3.11it/s]\n"
          ]
        },
        {
          "output_type": "stream",
          "name": "stdout",
          "text": [
            "Epoch 10/100\n",
            "Train Loss: 0.1482, Train Accuracy: 0.9604\n",
            "Val Loss: 0.6362, Val Accuracy: 0.7906\n"
          ]
        },
        {
          "output_type": "stream",
          "name": "stderr",
          "text": [
            "Epoch 11/100: 100%|██████████| 60/60 [00:19<00:00,  3.05it/s]\n"
          ]
        },
        {
          "output_type": "stream",
          "name": "stdout",
          "text": [
            "Epoch 11/100\n",
            "Train Loss: 0.1863, Train Accuracy: 0.9521\n",
            "Val Loss: 0.9225, Val Accuracy: 0.7438\n"
          ]
        },
        {
          "output_type": "stream",
          "name": "stderr",
          "text": [
            "Epoch 12/100: 100%|██████████| 60/60 [00:19<00:00,  3.09it/s]\n"
          ]
        },
        {
          "output_type": "stream",
          "name": "stdout",
          "text": [
            "Epoch 12/100\n",
            "Train Loss: 0.1547, Train Accuracy: 0.9521\n",
            "Val Loss: 0.6509, Val Accuracy: 0.8000\n"
          ]
        },
        {
          "output_type": "stream",
          "name": "stderr",
          "text": [
            "Epoch 13/100: 100%|██████████| 60/60 [00:19<00:00,  3.08it/s]\n"
          ]
        },
        {
          "output_type": "stream",
          "name": "stdout",
          "text": [
            "Epoch 13/100\n",
            "Train Loss: 0.0884, Train Accuracy: 0.9750\n",
            "Val Loss: 0.8918, Val Accuracy: 0.7656\n"
          ]
        },
        {
          "output_type": "stream",
          "name": "stderr",
          "text": [
            "Epoch 14/100: 100%|██████████| 60/60 [00:19<00:00,  3.09it/s]\n"
          ]
        },
        {
          "output_type": "stream",
          "name": "stdout",
          "text": [
            "Epoch 14/100\n",
            "Train Loss: 0.0957, Train Accuracy: 0.9812\n",
            "Val Loss: 0.6244, Val Accuracy: 0.8094\n"
          ]
        },
        {
          "output_type": "stream",
          "name": "stderr",
          "text": [
            "Epoch 15/100: 100%|██████████| 60/60 [00:19<00:00,  3.10it/s]\n"
          ]
        },
        {
          "output_type": "stream",
          "name": "stdout",
          "text": [
            "Epoch 15/100\n",
            "Train Loss: 0.1034, Train Accuracy: 0.9729\n",
            "Val Loss: 0.7726, Val Accuracy: 0.7688\n"
          ]
        },
        {
          "output_type": "stream",
          "name": "stderr",
          "text": [
            "Epoch 16/100: 100%|██████████| 60/60 [00:19<00:00,  3.11it/s]\n"
          ]
        },
        {
          "output_type": "stream",
          "name": "stdout",
          "text": [
            "Epoch 16/100\n",
            "Train Loss: 0.1471, Train Accuracy: 0.9625\n",
            "Val Loss: 0.8000, Val Accuracy: 0.7688\n"
          ]
        },
        {
          "output_type": "stream",
          "name": "stderr",
          "text": [
            "Epoch 17/100: 100%|██████████| 60/60 [00:19<00:00,  3.07it/s]\n"
          ]
        },
        {
          "output_type": "stream",
          "name": "stdout",
          "text": [
            "Epoch 17/100\n",
            "Train Loss: 0.0949, Train Accuracy: 0.9792\n",
            "Val Loss: 0.6641, Val Accuracy: 0.8031\n"
          ]
        },
        {
          "output_type": "stream",
          "name": "stderr",
          "text": [
            "Epoch 18/100: 100%|██████████| 60/60 [00:19<00:00,  3.07it/s]\n"
          ]
        },
        {
          "output_type": "stream",
          "name": "stdout",
          "text": [
            "Epoch 18/100\n",
            "Train Loss: 0.1065, Train Accuracy: 0.9708\n",
            "Val Loss: 0.7800, Val Accuracy: 0.7562\n"
          ]
        },
        {
          "output_type": "stream",
          "name": "stderr",
          "text": [
            "Epoch 19/100: 100%|██████████| 60/60 [00:19<00:00,  3.11it/s]\n"
          ]
        },
        {
          "output_type": "stream",
          "name": "stdout",
          "text": [
            "Epoch 19/100\n",
            "Train Loss: 0.0588, Train Accuracy: 0.9833\n",
            "Val Loss: 0.8896, Val Accuracy: 0.7406\n"
          ]
        },
        {
          "output_type": "stream",
          "name": "stderr",
          "text": [
            "Epoch 20/100: 100%|██████████| 60/60 [00:19<00:00,  3.12it/s]\n"
          ]
        },
        {
          "output_type": "stream",
          "name": "stdout",
          "text": [
            "Epoch 20/100\n",
            "Train Loss: 0.1201, Train Accuracy: 0.9771\n",
            "Val Loss: 0.6061, Val Accuracy: 0.8313\n"
          ]
        },
        {
          "output_type": "stream",
          "name": "stderr",
          "text": [
            "Epoch 21/100: 100%|██████████| 60/60 [00:19<00:00,  3.11it/s]\n"
          ]
        },
        {
          "output_type": "stream",
          "name": "stdout",
          "text": [
            "Epoch 21/100\n",
            "Train Loss: 0.0660, Train Accuracy: 0.9875\n",
            "Val Loss: 0.7158, Val Accuracy: 0.7937\n"
          ]
        },
        {
          "output_type": "stream",
          "name": "stderr",
          "text": [
            "Epoch 22/100: 100%|██████████| 60/60 [00:19<00:00,  3.02it/s]\n"
          ]
        },
        {
          "output_type": "stream",
          "name": "stdout",
          "text": [
            "Epoch 22/100\n",
            "Train Loss: 0.1085, Train Accuracy: 0.9729\n",
            "Val Loss: 0.8501, Val Accuracy: 0.7781\n"
          ]
        },
        {
          "output_type": "stream",
          "name": "stderr",
          "text": [
            "Epoch 23/100: 100%|██████████| 60/60 [00:19<00:00,  3.09it/s]\n"
          ]
        },
        {
          "output_type": "stream",
          "name": "stdout",
          "text": [
            "Epoch 23/100\n",
            "Train Loss: 0.1093, Train Accuracy: 0.9708\n",
            "Val Loss: 0.7482, Val Accuracy: 0.7688\n"
          ]
        },
        {
          "output_type": "stream",
          "name": "stderr",
          "text": [
            "Epoch 24/100: 100%|██████████| 60/60 [00:19<00:00,  3.11it/s]\n"
          ]
        },
        {
          "output_type": "stream",
          "name": "stdout",
          "text": [
            "Epoch 24/100\n",
            "Train Loss: 0.0609, Train Accuracy: 0.9833\n",
            "Val Loss: 0.9785, Val Accuracy: 0.7375\n"
          ]
        },
        {
          "output_type": "stream",
          "name": "stderr",
          "text": [
            "Epoch 25/100: 100%|██████████| 60/60 [00:19<00:00,  3.11it/s]\n"
          ]
        },
        {
          "output_type": "stream",
          "name": "stdout",
          "text": [
            "Epoch 25/100\n",
            "Train Loss: 0.1715, Train Accuracy: 0.9396\n",
            "Val Loss: 1.0100, Val Accuracy: 0.7375\n"
          ]
        },
        {
          "output_type": "stream",
          "name": "stderr",
          "text": [
            "Epoch 26/100: 100%|██████████| 60/60 [00:19<00:00,  3.07it/s]\n"
          ]
        },
        {
          "output_type": "stream",
          "name": "stdout",
          "text": [
            "Epoch 26/100\n",
            "Train Loss: 0.1817, Train Accuracy: 0.9563\n",
            "Val Loss: 1.0393, Val Accuracy: 0.7250\n"
          ]
        },
        {
          "output_type": "stream",
          "name": "stderr",
          "text": [
            "Epoch 27/100: 100%|██████████| 60/60 [00:19<00:00,  3.08it/s]\n"
          ]
        },
        {
          "output_type": "stream",
          "name": "stdout",
          "text": [
            "Epoch 27/100\n",
            "Train Loss: 0.1154, Train Accuracy: 0.9625\n",
            "Val Loss: 0.8841, Val Accuracy: 0.7656\n"
          ]
        },
        {
          "output_type": "stream",
          "name": "stderr",
          "text": [
            "Epoch 28/100: 100%|██████████| 60/60 [00:19<00:00,  3.10it/s]\n"
          ]
        },
        {
          "output_type": "stream",
          "name": "stdout",
          "text": [
            "Epoch 28/100\n",
            "Train Loss: 0.0700, Train Accuracy: 0.9833\n",
            "Val Loss: 1.0456, Val Accuracy: 0.7312\n"
          ]
        },
        {
          "output_type": "stream",
          "name": "stderr",
          "text": [
            "Epoch 29/100: 100%|██████████| 60/60 [00:19<00:00,  3.11it/s]\n"
          ]
        },
        {
          "output_type": "stream",
          "name": "stdout",
          "text": [
            "Epoch 29/100\n",
            "Train Loss: 0.0941, Train Accuracy: 0.9729\n",
            "Val Loss: 1.0226, Val Accuracy: 0.7531\n"
          ]
        },
        {
          "output_type": "stream",
          "name": "stderr",
          "text": [
            "Epoch 30/100: 100%|██████████| 60/60 [00:19<00:00,  3.11it/s]\n"
          ]
        },
        {
          "output_type": "stream",
          "name": "stdout",
          "text": [
            "Epoch 30/100\n",
            "Train Loss: 0.0792, Train Accuracy: 0.9771\n",
            "Val Loss: 0.7373, Val Accuracy: 0.7969\n"
          ]
        },
        {
          "output_type": "stream",
          "name": "stderr",
          "text": [
            "Epoch 31/100: 100%|██████████| 60/60 [00:19<00:00,  3.07it/s]\n"
          ]
        },
        {
          "output_type": "stream",
          "name": "stdout",
          "text": [
            "Epoch 31/100\n",
            "Train Loss: 0.0317, Train Accuracy: 0.9917\n",
            "Val Loss: 0.6757, Val Accuracy: 0.8000\n"
          ]
        },
        {
          "output_type": "stream",
          "name": "stderr",
          "text": [
            "Epoch 32/100: 100%|██████████| 60/60 [00:19<00:00,  3.08it/s]\n"
          ]
        },
        {
          "output_type": "stream",
          "name": "stdout",
          "text": [
            "Epoch 32/100\n",
            "Train Loss: 0.0110, Train Accuracy: 1.0000\n",
            "Val Loss: 0.7768, Val Accuracy: 0.7969\n"
          ]
        },
        {
          "output_type": "stream",
          "name": "stderr",
          "text": [
            "Epoch 33/100: 100%|██████████| 60/60 [00:19<00:00,  3.08it/s]\n"
          ]
        },
        {
          "output_type": "stream",
          "name": "stdout",
          "text": [
            "Epoch 33/100\n",
            "Train Loss: 0.0138, Train Accuracy: 0.9979\n",
            "Val Loss: 0.9317, Val Accuracy: 0.7688\n"
          ]
        },
        {
          "output_type": "stream",
          "name": "stderr",
          "text": [
            "Epoch 34/100: 100%|██████████| 60/60 [00:19<00:00,  3.11it/s]\n"
          ]
        },
        {
          "output_type": "stream",
          "name": "stdout",
          "text": [
            "Epoch 34/100\n",
            "Train Loss: 0.0373, Train Accuracy: 0.9938\n",
            "Val Loss: 0.7615, Val Accuracy: 0.8000\n"
          ]
        },
        {
          "output_type": "stream",
          "name": "stderr",
          "text": [
            "Epoch 35/100: 100%|██████████| 60/60 [00:19<00:00,  3.04it/s]\n"
          ]
        },
        {
          "output_type": "stream",
          "name": "stdout",
          "text": [
            "Epoch 35/100\n",
            "Train Loss: 0.0516, Train Accuracy: 0.9792\n",
            "Val Loss: 0.9023, Val Accuracy: 0.7625\n"
          ]
        },
        {
          "output_type": "stream",
          "name": "stderr",
          "text": [
            "Epoch 36/100: 100%|██████████| 60/60 [00:19<00:00,  3.08it/s]\n"
          ]
        },
        {
          "output_type": "stream",
          "name": "stdout",
          "text": [
            "Epoch 36/100\n",
            "Train Loss: 0.0784, Train Accuracy: 0.9729\n",
            "Val Loss: 1.1624, Val Accuracy: 0.7125\n"
          ]
        },
        {
          "output_type": "stream",
          "name": "stderr",
          "text": [
            "Epoch 37/100: 100%|██████████| 60/60 [00:19<00:00,  3.10it/s]\n"
          ]
        },
        {
          "output_type": "stream",
          "name": "stdout",
          "text": [
            "Epoch 37/100\n",
            "Train Loss: 0.1926, Train Accuracy: 0.9354\n",
            "Val Loss: 0.9726, Val Accuracy: 0.7094\n"
          ]
        },
        {
          "output_type": "stream",
          "name": "stderr",
          "text": [
            "Epoch 38/100: 100%|██████████| 60/60 [00:19<00:00,  3.10it/s]\n"
          ]
        },
        {
          "output_type": "stream",
          "name": "stdout",
          "text": [
            "Epoch 38/100\n",
            "Train Loss: 0.0924, Train Accuracy: 0.9771\n",
            "Val Loss: 0.9725, Val Accuracy: 0.7500\n"
          ]
        },
        {
          "output_type": "stream",
          "name": "stderr",
          "text": [
            "Epoch 39/100: 100%|██████████| 60/60 [00:19<00:00,  3.11it/s]\n"
          ]
        },
        {
          "output_type": "stream",
          "name": "stdout",
          "text": [
            "Epoch 39/100\n",
            "Train Loss: 0.0367, Train Accuracy: 0.9938\n",
            "Val Loss: 0.7752, Val Accuracy: 0.7875\n"
          ]
        },
        {
          "output_type": "stream",
          "name": "stderr",
          "text": [
            "Epoch 40/100: 100%|██████████| 60/60 [00:19<00:00,  3.07it/s]\n"
          ]
        },
        {
          "output_type": "stream",
          "name": "stdout",
          "text": [
            "Epoch 40/100\n",
            "Train Loss: 0.0509, Train Accuracy: 0.9854\n",
            "Val Loss: 0.7669, Val Accuracy: 0.8000\n"
          ]
        },
        {
          "output_type": "stream",
          "name": "stderr",
          "text": [
            "Epoch 41/100: 100%|██████████| 60/60 [00:19<00:00,  3.08it/s]\n"
          ]
        },
        {
          "output_type": "stream",
          "name": "stdout",
          "text": [
            "Epoch 41/100\n",
            "Train Loss: 0.0359, Train Accuracy: 0.9917\n",
            "Val Loss: 0.9300, Val Accuracy: 0.7688\n"
          ]
        },
        {
          "output_type": "stream",
          "name": "stderr",
          "text": [
            "Epoch 42/100: 100%|██████████| 60/60 [00:19<00:00,  3.11it/s]\n"
          ]
        },
        {
          "output_type": "stream",
          "name": "stdout",
          "text": [
            "Epoch 42/100\n",
            "Train Loss: 0.0354, Train Accuracy: 0.9917\n",
            "Val Loss: 0.8701, Val Accuracy: 0.7656\n"
          ]
        },
        {
          "output_type": "stream",
          "name": "stderr",
          "text": [
            "Epoch 43/100: 100%|██████████| 60/60 [00:19<00:00,  3.10it/s]\n"
          ]
        },
        {
          "output_type": "stream",
          "name": "stdout",
          "text": [
            "Epoch 43/100\n",
            "Train Loss: 0.0484, Train Accuracy: 0.9854\n",
            "Val Loss: 0.7980, Val Accuracy: 0.7750\n"
          ]
        },
        {
          "output_type": "stream",
          "name": "stderr",
          "text": [
            "Epoch 44/100: 100%|██████████| 60/60 [00:19<00:00,  3.09it/s]\n"
          ]
        },
        {
          "output_type": "stream",
          "name": "stdout",
          "text": [
            "Epoch 44/100\n",
            "Train Loss: 0.0496, Train Accuracy: 0.9896\n",
            "Val Loss: 0.9636, Val Accuracy: 0.7656\n"
          ]
        },
        {
          "output_type": "stream",
          "name": "stderr",
          "text": [
            "Epoch 45/100: 100%|██████████| 60/60 [00:19<00:00,  3.08it/s]\n"
          ]
        },
        {
          "output_type": "stream",
          "name": "stdout",
          "text": [
            "Epoch 45/100\n",
            "Train Loss: 0.0477, Train Accuracy: 0.9833\n",
            "Val Loss: 0.9580, Val Accuracy: 0.7281\n"
          ]
        },
        {
          "output_type": "stream",
          "name": "stderr",
          "text": [
            "Epoch 46/100: 100%|██████████| 60/60 [00:19<00:00,  3.09it/s]\n"
          ]
        },
        {
          "output_type": "stream",
          "name": "stdout",
          "text": [
            "Epoch 46/100\n",
            "Train Loss: 0.0360, Train Accuracy: 0.9833\n",
            "Val Loss: 0.8563, Val Accuracy: 0.7906\n"
          ]
        },
        {
          "output_type": "stream",
          "name": "stderr",
          "text": [
            "Epoch 47/100: 100%|██████████| 60/60 [00:19<00:00,  3.04it/s]\n"
          ]
        },
        {
          "output_type": "stream",
          "name": "stdout",
          "text": [
            "Epoch 47/100\n",
            "Train Loss: 0.0254, Train Accuracy: 0.9917\n",
            "Val Loss: 0.7780, Val Accuracy: 0.7688\n"
          ]
        },
        {
          "output_type": "stream",
          "name": "stderr",
          "text": [
            "Epoch 48/100: 100%|██████████| 60/60 [00:19<00:00,  3.09it/s]\n"
          ]
        },
        {
          "output_type": "stream",
          "name": "stdout",
          "text": [
            "Epoch 48/100\n",
            "Train Loss: 0.0362, Train Accuracy: 0.9896\n",
            "Val Loss: 0.9804, Val Accuracy: 0.7812\n"
          ]
        },
        {
          "output_type": "stream",
          "name": "stderr",
          "text": [
            "Epoch 49/100: 100%|██████████| 60/60 [00:19<00:00,  3.07it/s]\n"
          ]
        },
        {
          "output_type": "stream",
          "name": "stdout",
          "text": [
            "Epoch 49/100\n",
            "Train Loss: 0.0136, Train Accuracy: 0.9958\n",
            "Val Loss: 0.9664, Val Accuracy: 0.7844\n"
          ]
        },
        {
          "output_type": "stream",
          "name": "stderr",
          "text": [
            "Epoch 50/100: 100%|██████████| 60/60 [00:19<00:00,  3.08it/s]\n"
          ]
        },
        {
          "output_type": "stream",
          "name": "stdout",
          "text": [
            "Epoch 50/100\n",
            "Train Loss: 0.0799, Train Accuracy: 0.9750\n",
            "Val Loss: 0.9362, Val Accuracy: 0.7250\n"
          ]
        },
        {
          "output_type": "stream",
          "name": "stderr",
          "text": [
            "Epoch 51/100: 100%|██████████| 60/60 [00:19<00:00,  3.10it/s]\n"
          ]
        },
        {
          "output_type": "stream",
          "name": "stdout",
          "text": [
            "Epoch 51/100\n",
            "Train Loss: 0.0419, Train Accuracy: 0.9833\n",
            "Val Loss: 0.9230, Val Accuracy: 0.7688\n"
          ]
        },
        {
          "output_type": "stream",
          "name": "stderr",
          "text": [
            "Epoch 52/100: 100%|██████████| 60/60 [00:19<00:00,  3.10it/s]\n"
          ]
        },
        {
          "output_type": "stream",
          "name": "stdout",
          "text": [
            "Epoch 52/100\n",
            "Train Loss: 0.0244, Train Accuracy: 0.9896\n",
            "Val Loss: 1.2430, Val Accuracy: 0.7406\n"
          ]
        },
        {
          "output_type": "stream",
          "name": "stderr",
          "text": [
            "Epoch 53/100: 100%|██████████| 60/60 [00:19<00:00,  3.09it/s]\n"
          ]
        },
        {
          "output_type": "stream",
          "name": "stdout",
          "text": [
            "Epoch 53/100\n",
            "Train Loss: 0.1116, Train Accuracy: 0.9729\n",
            "Val Loss: 1.2422, Val Accuracy: 0.6969\n"
          ]
        },
        {
          "output_type": "stream",
          "name": "stderr",
          "text": [
            "Epoch 54/100: 100%|██████████| 60/60 [00:19<00:00,  3.07it/s]\n"
          ]
        },
        {
          "output_type": "stream",
          "name": "stdout",
          "text": [
            "Epoch 54/100\n",
            "Train Loss: 0.0851, Train Accuracy: 0.9771\n",
            "Val Loss: 1.1245, Val Accuracy: 0.7406\n"
          ]
        },
        {
          "output_type": "stream",
          "name": "stderr",
          "text": [
            "Epoch 55/100: 100%|██████████| 60/60 [00:19<00:00,  3.09it/s]\n"
          ]
        },
        {
          "output_type": "stream",
          "name": "stdout",
          "text": [
            "Epoch 55/100\n",
            "Train Loss: 0.0450, Train Accuracy: 0.9896\n",
            "Val Loss: 1.1054, Val Accuracy: 0.7375\n"
          ]
        },
        {
          "output_type": "stream",
          "name": "stderr",
          "text": [
            "Epoch 56/100: 100%|██████████| 60/60 [00:19<00:00,  3.11it/s]\n"
          ]
        },
        {
          "output_type": "stream",
          "name": "stdout",
          "text": [
            "Epoch 56/100\n",
            "Train Loss: 0.1128, Train Accuracy: 0.9667\n",
            "Val Loss: 1.4850, Val Accuracy: 0.6625\n"
          ]
        },
        {
          "output_type": "stream",
          "name": "stderr",
          "text": [
            "Epoch 57/100: 100%|██████████| 60/60 [00:19<00:00,  3.12it/s]\n"
          ]
        },
        {
          "output_type": "stream",
          "name": "stdout",
          "text": [
            "Epoch 57/100\n",
            "Train Loss: 0.1226, Train Accuracy: 0.9625\n",
            "Val Loss: 1.3460, Val Accuracy: 0.6844\n"
          ]
        },
        {
          "output_type": "stream",
          "name": "stderr",
          "text": [
            "Epoch 58/100: 100%|██████████| 60/60 [00:19<00:00,  3.08it/s]\n"
          ]
        },
        {
          "output_type": "stream",
          "name": "stdout",
          "text": [
            "Epoch 58/100\n",
            "Train Loss: 0.1086, Train Accuracy: 0.9708\n",
            "Val Loss: 1.1674, Val Accuracy: 0.7312\n"
          ]
        },
        {
          "output_type": "stream",
          "name": "stderr",
          "text": [
            "Epoch 59/100: 100%|██████████| 60/60 [00:19<00:00,  3.07it/s]\n"
          ]
        },
        {
          "output_type": "stream",
          "name": "stdout",
          "text": [
            "Epoch 59/100\n",
            "Train Loss: 0.0990, Train Accuracy: 0.9750\n",
            "Val Loss: 0.9450, Val Accuracy: 0.7500\n"
          ]
        },
        {
          "output_type": "stream",
          "name": "stderr",
          "text": [
            "Epoch 60/100: 100%|██████████| 60/60 [00:19<00:00,  3.08it/s]\n"
          ]
        },
        {
          "output_type": "stream",
          "name": "stdout",
          "text": [
            "Epoch 60/100\n",
            "Train Loss: 0.0238, Train Accuracy: 0.9958\n",
            "Val Loss: 0.8358, Val Accuracy: 0.7812\n"
          ]
        },
        {
          "output_type": "stream",
          "name": "stderr",
          "text": [
            "Epoch 61/100: 100%|██████████| 60/60 [00:19<00:00,  3.12it/s]\n"
          ]
        },
        {
          "output_type": "stream",
          "name": "stdout",
          "text": [
            "Epoch 61/100\n",
            "Train Loss: 0.0211, Train Accuracy: 0.9938\n",
            "Val Loss: 0.8362, Val Accuracy: 0.7781\n"
          ]
        },
        {
          "output_type": "stream",
          "name": "stderr",
          "text": [
            "Epoch 62/100: 100%|██████████| 60/60 [00:19<00:00,  3.12it/s]\n"
          ]
        },
        {
          "output_type": "stream",
          "name": "stdout",
          "text": [
            "Epoch 62/100\n",
            "Train Loss: 0.0077, Train Accuracy: 1.0000\n",
            "Val Loss: 0.9682, Val Accuracy: 0.7812\n"
          ]
        },
        {
          "output_type": "stream",
          "name": "stderr",
          "text": [
            "Epoch 63/100: 100%|██████████| 60/60 [00:19<00:00,  3.12it/s]\n"
          ]
        },
        {
          "output_type": "stream",
          "name": "stdout",
          "text": [
            "Epoch 63/100\n",
            "Train Loss: 0.0167, Train Accuracy: 0.9979\n",
            "Val Loss: 0.9739, Val Accuracy: 0.7500\n"
          ]
        },
        {
          "output_type": "stream",
          "name": "stderr",
          "text": [
            "Epoch 64/100: 100%|██████████| 60/60 [00:19<00:00,  3.08it/s]\n"
          ]
        },
        {
          "output_type": "stream",
          "name": "stdout",
          "text": [
            "Epoch 64/100\n",
            "Train Loss: 0.0073, Train Accuracy: 1.0000\n",
            "Val Loss: 1.0012, Val Accuracy: 0.7562\n"
          ]
        },
        {
          "output_type": "stream",
          "name": "stderr",
          "text": [
            "Epoch 65/100: 100%|██████████| 60/60 [00:19<00:00,  3.08it/s]\n"
          ]
        },
        {
          "output_type": "stream",
          "name": "stdout",
          "text": [
            "Epoch 65/100\n",
            "Train Loss: 0.0268, Train Accuracy: 0.9917\n",
            "Val Loss: 1.2860, Val Accuracy: 0.7312\n"
          ]
        },
        {
          "output_type": "stream",
          "name": "stderr",
          "text": [
            "Epoch 66/100: 100%|██████████| 60/60 [00:19<00:00,  3.11it/s]\n"
          ]
        },
        {
          "output_type": "stream",
          "name": "stdout",
          "text": [
            "Epoch 66/100\n",
            "Train Loss: 0.1863, Train Accuracy: 0.9521\n",
            "Val Loss: 1.7257, Val Accuracy: 0.6062\n"
          ]
        },
        {
          "output_type": "stream",
          "name": "stderr",
          "text": [
            "Epoch 67/100: 100%|██████████| 60/60 [00:19<00:00,  3.11it/s]\n"
          ]
        },
        {
          "output_type": "stream",
          "name": "stdout",
          "text": [
            "Epoch 67/100\n",
            "Train Loss: 0.2149, Train Accuracy: 0.9375\n",
            "Val Loss: 0.9349, Val Accuracy: 0.7312\n"
          ]
        },
        {
          "output_type": "stream",
          "name": "stderr",
          "text": [
            "Epoch 68/100: 100%|██████████| 60/60 [00:19<00:00,  3.10it/s]\n"
          ]
        },
        {
          "output_type": "stream",
          "name": "stdout",
          "text": [
            "Epoch 68/100\n",
            "Train Loss: 0.0744, Train Accuracy: 0.9812\n",
            "Val Loss: 0.9407, Val Accuracy: 0.7250\n"
          ]
        },
        {
          "output_type": "stream",
          "name": "stderr",
          "text": [
            "Epoch 69/100: 100%|██████████| 60/60 [00:19<00:00,  3.08it/s]\n"
          ]
        },
        {
          "output_type": "stream",
          "name": "stdout",
          "text": [
            "Epoch 69/100\n",
            "Train Loss: 0.0132, Train Accuracy: 0.9979\n",
            "Val Loss: 0.8173, Val Accuracy: 0.7750\n"
          ]
        },
        {
          "output_type": "stream",
          "name": "stderr",
          "text": [
            "Epoch 70/100: 100%|██████████| 60/60 [00:19<00:00,  3.06it/s]\n"
          ]
        },
        {
          "output_type": "stream",
          "name": "stdout",
          "text": [
            "Epoch 70/100\n",
            "Train Loss: 0.0073, Train Accuracy: 1.0000\n",
            "Val Loss: 0.8476, Val Accuracy: 0.7781\n"
          ]
        },
        {
          "output_type": "stream",
          "name": "stderr",
          "text": [
            "Epoch 71/100: 100%|██████████| 60/60 [00:19<00:00,  3.10it/s]\n"
          ]
        },
        {
          "output_type": "stream",
          "name": "stdout",
          "text": [
            "Epoch 71/100\n",
            "Train Loss: 0.0347, Train Accuracy: 0.9875\n",
            "Val Loss: 0.9352, Val Accuracy: 0.7375\n"
          ]
        },
        {
          "output_type": "stream",
          "name": "stderr",
          "text": [
            "Epoch 72/100: 100%|██████████| 60/60 [00:19<00:00,  3.11it/s]\n"
          ]
        },
        {
          "output_type": "stream",
          "name": "stdout",
          "text": [
            "Epoch 72/100\n",
            "Train Loss: 0.0117, Train Accuracy: 0.9958\n",
            "Val Loss: 1.0964, Val Accuracy: 0.7406\n"
          ]
        },
        {
          "output_type": "stream",
          "name": "stderr",
          "text": [
            "Epoch 73/100: 100%|██████████| 60/60 [00:19<00:00,  3.08it/s]\n"
          ]
        },
        {
          "output_type": "stream",
          "name": "stdout",
          "text": [
            "Epoch 73/100\n",
            "Train Loss: 0.0139, Train Accuracy: 0.9958\n",
            "Val Loss: 0.8662, Val Accuracy: 0.7875\n"
          ]
        },
        {
          "output_type": "stream",
          "name": "stderr",
          "text": [
            "Epoch 74/100: 100%|██████████| 60/60 [00:19<00:00,  3.08it/s]\n"
          ]
        },
        {
          "output_type": "stream",
          "name": "stdout",
          "text": [
            "Epoch 74/100\n",
            "Train Loss: 0.0365, Train Accuracy: 0.9938\n",
            "Val Loss: 0.9005, Val Accuracy: 0.7781\n"
          ]
        },
        {
          "output_type": "stream",
          "name": "stderr",
          "text": [
            "Epoch 75/100: 100%|██████████| 60/60 [00:19<00:00,  3.10it/s]\n"
          ]
        },
        {
          "output_type": "stream",
          "name": "stdout",
          "text": [
            "Epoch 75/100\n",
            "Train Loss: 0.0118, Train Accuracy: 0.9979\n",
            "Val Loss: 1.0009, Val Accuracy: 0.7844\n"
          ]
        },
        {
          "output_type": "stream",
          "name": "stderr",
          "text": [
            "Epoch 76/100: 100%|██████████| 60/60 [00:19<00:00,  3.12it/s]\n"
          ]
        },
        {
          "output_type": "stream",
          "name": "stdout",
          "text": [
            "Epoch 76/100\n",
            "Train Loss: 0.0621, Train Accuracy: 0.9854\n",
            "Val Loss: 1.0614, Val Accuracy: 0.7531\n"
          ]
        },
        {
          "output_type": "stream",
          "name": "stderr",
          "text": [
            "Epoch 77/100: 100%|██████████| 60/60 [00:19<00:00,  3.09it/s]\n"
          ]
        },
        {
          "output_type": "stream",
          "name": "stdout",
          "text": [
            "Epoch 77/100\n",
            "Train Loss: 0.0474, Train Accuracy: 0.9875\n",
            "Val Loss: 0.8628, Val Accuracy: 0.7625\n"
          ]
        },
        {
          "output_type": "stream",
          "name": "stderr",
          "text": [
            "Epoch 78/100: 100%|██████████| 60/60 [00:19<00:00,  3.07it/s]\n"
          ]
        },
        {
          "output_type": "stream",
          "name": "stdout",
          "text": [
            "Epoch 78/100\n",
            "Train Loss: 0.0400, Train Accuracy: 0.9875\n",
            "Val Loss: 0.9819, Val Accuracy: 0.7281\n"
          ]
        },
        {
          "output_type": "stream",
          "name": "stderr",
          "text": [
            "Epoch 79/100: 100%|██████████| 60/60 [00:19<00:00,  3.09it/s]\n"
          ]
        },
        {
          "output_type": "stream",
          "name": "stdout",
          "text": [
            "Epoch 79/100\n",
            "Train Loss: 0.0273, Train Accuracy: 0.9917\n",
            "Val Loss: 0.8168, Val Accuracy: 0.7812\n"
          ]
        },
        {
          "output_type": "stream",
          "name": "stderr",
          "text": [
            "Epoch 80/100: 100%|██████████| 60/60 [00:19<00:00,  3.11it/s]\n"
          ]
        },
        {
          "output_type": "stream",
          "name": "stdout",
          "text": [
            "Epoch 80/100\n",
            "Train Loss: 0.0182, Train Accuracy: 0.9917\n",
            "Val Loss: 1.0374, Val Accuracy: 0.7469\n"
          ]
        },
        {
          "output_type": "stream",
          "name": "stderr",
          "text": [
            "Epoch 81/100: 100%|██████████| 60/60 [00:19<00:00,  3.11it/s]\n"
          ]
        },
        {
          "output_type": "stream",
          "name": "stdout",
          "text": [
            "Epoch 81/100\n",
            "Train Loss: 0.0201, Train Accuracy: 0.9979\n",
            "Val Loss: 0.8133, Val Accuracy: 0.7812\n"
          ]
        },
        {
          "output_type": "stream",
          "name": "stderr",
          "text": [
            "Epoch 82/100: 100%|██████████| 60/60 [00:19<00:00,  3.09it/s]\n"
          ]
        },
        {
          "output_type": "stream",
          "name": "stdout",
          "text": [
            "Epoch 82/100\n",
            "Train Loss: 0.0306, Train Accuracy: 0.9875\n",
            "Val Loss: 0.7824, Val Accuracy: 0.7812\n"
          ]
        },
        {
          "output_type": "stream",
          "name": "stderr",
          "text": [
            "Epoch 83/100: 100%|██████████| 60/60 [00:19<00:00,  3.09it/s]\n"
          ]
        },
        {
          "output_type": "stream",
          "name": "stdout",
          "text": [
            "Epoch 83/100\n",
            "Train Loss: 0.0083, Train Accuracy: 0.9958\n",
            "Val Loss: 1.1073, Val Accuracy: 0.7531\n"
          ]
        },
        {
          "output_type": "stream",
          "name": "stderr",
          "text": [
            "Epoch 84/100: 100%|██████████| 60/60 [00:19<00:00,  3.09it/s]\n"
          ]
        },
        {
          "output_type": "stream",
          "name": "stdout",
          "text": [
            "Epoch 84/100\n",
            "Train Loss: 0.0297, Train Accuracy: 0.9854\n",
            "Val Loss: 1.3133, Val Accuracy: 0.7063\n"
          ]
        },
        {
          "output_type": "stream",
          "name": "stderr",
          "text": [
            "Epoch 85/100: 100%|██████████| 60/60 [00:19<00:00,  3.11it/s]\n"
          ]
        },
        {
          "output_type": "stream",
          "name": "stdout",
          "text": [
            "Epoch 85/100\n",
            "Train Loss: 0.0452, Train Accuracy: 0.9812\n",
            "Val Loss: 1.1393, Val Accuracy: 0.7188\n"
          ]
        },
        {
          "output_type": "stream",
          "name": "stderr",
          "text": [
            "Epoch 86/100: 100%|██████████| 60/60 [00:19<00:00,  3.10it/s]\n"
          ]
        },
        {
          "output_type": "stream",
          "name": "stdout",
          "text": [
            "Epoch 86/100\n",
            "Train Loss: 0.0520, Train Accuracy: 0.9896\n",
            "Val Loss: 0.9532, Val Accuracy: 0.7562\n"
          ]
        },
        {
          "output_type": "stream",
          "name": "stderr",
          "text": [
            "Epoch 87/100: 100%|██████████| 60/60 [00:19<00:00,  3.08it/s]\n"
          ]
        },
        {
          "output_type": "stream",
          "name": "stdout",
          "text": [
            "Epoch 87/100\n",
            "Train Loss: 0.0590, Train Accuracy: 0.9833\n",
            "Val Loss: 1.2041, Val Accuracy: 0.7188\n"
          ]
        },
        {
          "output_type": "stream",
          "name": "stderr",
          "text": [
            "Epoch 88/100: 100%|██████████| 60/60 [00:19<00:00,  3.07it/s]\n"
          ]
        },
        {
          "output_type": "stream",
          "name": "stdout",
          "text": [
            "Epoch 88/100\n",
            "Train Loss: 0.0679, Train Accuracy: 0.9771\n",
            "Val Loss: 1.0596, Val Accuracy: 0.7219\n"
          ]
        },
        {
          "output_type": "stream",
          "name": "stderr",
          "text": [
            "Epoch 89/100: 100%|██████████| 60/60 [00:19<00:00,  3.09it/s]\n"
          ]
        },
        {
          "output_type": "stream",
          "name": "stdout",
          "text": [
            "Epoch 89/100\n",
            "Train Loss: 0.0633, Train Accuracy: 0.9833\n",
            "Val Loss: 1.0042, Val Accuracy: 0.7406\n"
          ]
        },
        {
          "output_type": "stream",
          "name": "stderr",
          "text": [
            "Epoch 90/100: 100%|██████████| 60/60 [00:19<00:00,  3.10it/s]\n"
          ]
        },
        {
          "output_type": "stream",
          "name": "stdout",
          "text": [
            "Epoch 90/100\n",
            "Train Loss: 0.0570, Train Accuracy: 0.9896\n",
            "Val Loss: 1.2260, Val Accuracy: 0.7031\n"
          ]
        },
        {
          "output_type": "stream",
          "name": "stderr",
          "text": [
            "Epoch 91/100: 100%|██████████| 60/60 [00:19<00:00,  3.11it/s]\n"
          ]
        },
        {
          "output_type": "stream",
          "name": "stdout",
          "text": [
            "Epoch 91/100\n",
            "Train Loss: 0.0093, Train Accuracy: 0.9958\n",
            "Val Loss: 1.1651, Val Accuracy: 0.7406\n"
          ]
        },
        {
          "output_type": "stream",
          "name": "stderr",
          "text": [
            "Epoch 92/100: 100%|██████████| 60/60 [00:19<00:00,  3.08it/s]\n"
          ]
        },
        {
          "output_type": "stream",
          "name": "stdout",
          "text": [
            "Epoch 92/100\n",
            "Train Loss: 0.0323, Train Accuracy: 0.9938\n",
            "Val Loss: 0.9755, Val Accuracy: 0.7531\n"
          ]
        },
        {
          "output_type": "stream",
          "name": "stderr",
          "text": [
            "Epoch 93/100: 100%|██████████| 60/60 [00:19<00:00,  3.09it/s]\n"
          ]
        },
        {
          "output_type": "stream",
          "name": "stdout",
          "text": [
            "Epoch 93/100\n",
            "Train Loss: 0.0441, Train Accuracy: 0.9917\n",
            "Val Loss: 1.1876, Val Accuracy: 0.7250\n"
          ]
        },
        {
          "output_type": "stream",
          "name": "stderr",
          "text": [
            "Epoch 94/100: 100%|██████████| 60/60 [00:19<00:00,  3.05it/s]\n"
          ]
        },
        {
          "output_type": "stream",
          "name": "stdout",
          "text": [
            "Epoch 94/100\n",
            "Train Loss: 0.0154, Train Accuracy: 0.9958\n",
            "Val Loss: 1.0812, Val Accuracy: 0.7812\n"
          ]
        },
        {
          "output_type": "stream",
          "name": "stderr",
          "text": [
            "Epoch 95/100: 100%|██████████| 60/60 [00:19<00:00,  3.11it/s]\n"
          ]
        },
        {
          "output_type": "stream",
          "name": "stdout",
          "text": [
            "Epoch 95/100\n",
            "Train Loss: 0.0240, Train Accuracy: 0.9917\n",
            "Val Loss: 1.5860, Val Accuracy: 0.6531\n"
          ]
        },
        {
          "output_type": "stream",
          "name": "stderr",
          "text": [
            "Epoch 96/100: 100%|██████████| 60/60 [00:19<00:00,  3.08it/s]\n"
          ]
        },
        {
          "output_type": "stream",
          "name": "stdout",
          "text": [
            "Epoch 96/100\n",
            "Train Loss: 0.1825, Train Accuracy: 0.9437\n",
            "Val Loss: 1.0492, Val Accuracy: 0.6781\n"
          ]
        },
        {
          "output_type": "stream",
          "name": "stderr",
          "text": [
            "Epoch 97/100: 100%|██████████| 60/60 [00:19<00:00,  3.07it/s]\n"
          ]
        },
        {
          "output_type": "stream",
          "name": "stdout",
          "text": [
            "Epoch 97/100\n",
            "Train Loss: 0.0565, Train Accuracy: 0.9771\n",
            "Val Loss: 0.9848, Val Accuracy: 0.7344\n"
          ]
        },
        {
          "output_type": "stream",
          "name": "stderr",
          "text": [
            "Epoch 98/100: 100%|██████████| 60/60 [00:19<00:00,  3.07it/s]\n"
          ]
        },
        {
          "output_type": "stream",
          "name": "stdout",
          "text": [
            "Epoch 98/100\n",
            "Train Loss: 0.0060, Train Accuracy: 1.0000\n",
            "Val Loss: 0.9178, Val Accuracy: 0.7781\n"
          ]
        },
        {
          "output_type": "stream",
          "name": "stderr",
          "text": [
            "Epoch 99/100: 100%|██████████| 60/60 [00:19<00:00,  3.11it/s]\n"
          ]
        },
        {
          "output_type": "stream",
          "name": "stdout",
          "text": [
            "Epoch 99/100\n",
            "Train Loss: 0.0067, Train Accuracy: 0.9979\n",
            "Val Loss: 0.8465, Val Accuracy: 0.7937\n"
          ]
        },
        {
          "output_type": "stream",
          "name": "stderr",
          "text": [
            "Epoch 100/100: 100%|██████████| 60/60 [00:19<00:00,  3.12it/s]\n"
          ]
        },
        {
          "output_type": "stream",
          "name": "stdout",
          "text": [
            "Epoch 100/100\n",
            "Train Loss: 0.0039, Train Accuracy: 1.0000\n",
            "Val Loss: 1.0188, Val Accuracy: 0.7719\n"
          ]
        },
        {
          "output_type": "display_data",
          "data": {
            "text/plain": [
              "<Figure size 1200x500 with 2 Axes>"
            ],
            "image/png": "[encoded data removed]"
          },
          "metadata": {}
        },
        {
          "output_type": "stream",
          "name": "stderr",
          "text": [
            "Some weights of ViTForImageClassification were not initialized from the model checkpoint at google/vit-base-patch16-224-in21k and are newly initialized: ['classifier.bias', 'classifier.weight']\n",
            "You should probably TRAIN this model on a down-stream task to be able to use it for predictions and inference.\n"
          ]
        },
        {
          "output_type": "error",
          "ename": "TypeError",
          "evalue": "to() received an invalid combination of arguments - got (list), but expected one of:\n * (torch.device device = None, torch.dtype dtype = None, bool non_blocking = False, bool copy = False, *, torch.memory_format memory_format = None)\n * (torch.dtype dtype, bool non_blocking = False, bool copy = False, *, torch.memory_format memory_format = None)\n * (Tensor tensor, bool non_blocking = False, bool copy = False, *, torch.memory_format memory_format = None)\n",
          "traceback": [
            "\u001b[0;31m---------------------------------------------------------------------------\u001b[0m",
            "\u001b[0;31mTypeError\u001b[0m                                 Traceback (most recent call last)",
            "\u001b[0;32m<ipython-input-9-84aced893b39>\u001b[0m in \u001b[0;36m<cell line: 120>\u001b[0;34m()\u001b[0m\n\u001b[1;32m    118\u001b[0m \u001b[0;34m\u001b[0m\u001b[0m\n\u001b[1;32m    119\u001b[0m \u001b[0;31m# Evaluate the model on the validation set\u001b[0m\u001b[0;34m\u001b[0m\u001b[0;34m\u001b[0m\u001b[0m\n\u001b[0;32m--> 120\u001b[0;31m \u001b[0mevaluator\u001b[0m \u001b[0;34m=\u001b[0m \u001b[0mViTEvaluator\u001b[0m\u001b[0;34m(\u001b[0m\u001b[0;34m\"vit_classification_model_final.pth\"\u001b[0m\u001b[0;34m,\u001b[0m \u001b[0mclass_names\u001b[0m\u001b[0;34m)\u001b[0m\u001b[0;34m\u001b[0m\u001b[0;34m\u001b[0m\u001b[0m\n\u001b[0m\u001b[1;32m    121\u001b[0m \u001b[0mreport\u001b[0m\u001b[0;34m,\u001b[0m \u001b[0mconf_matrix\u001b[0m \u001b[0;34m=\u001b[0m \u001b[0mevaluator\u001b[0m\u001b[0;34m.\u001b[0m\u001b[0mevaluate\u001b[0m\u001b[0;34m(\u001b[0m\u001b[0mval_loader\u001b[0m\u001b[0;34m)\u001b[0m\u001b[0;34m\u001b[0m\u001b[0;34m\u001b[0m\u001b[0m\n\u001b[1;32m    122\u001b[0m \u001b[0mprint\u001b[0m\u001b[0;34m(\u001b[0m\u001b[0mreport\u001b[0m\u001b[0;34m)\u001b[0m\u001b[0;34m\u001b[0m\u001b[0;34m\u001b[0m\u001b[0m\n",
            "\u001b[0;32m<ipython-input-3-50b39d04059a>\u001b[0m in \u001b[0;36m__init__\u001b[0;34m(self, class_names, device)\u001b[0m\n\u001b[1;32m     15\u001b[0m \u001b[0;34m\u001b[0m\u001b[0m\n\u001b[1;32m     16\u001b[0m         \u001b[0mself\u001b[0m\u001b[0;34m.\u001b[0m\u001b[0mmodel\u001b[0m\u001b[0;34m.\u001b[0m\u001b[0meval\u001b[0m\u001b[0;34m(\u001b[0m\u001b[0;34m)\u001b[0m\u001b[0;34m\u001b[0m\u001b[0;34m\u001b[0m\u001b[0m\n\u001b[0;32m---> 17\u001b[0;31m         \u001b[0mself\u001b[0m\u001b[0;34m.\u001b[0m\u001b[0mmodel\u001b[0m\u001b[0;34m.\u001b[0m\u001b[0mto\u001b[0m\u001b[0;34m(\u001b[0m\u001b[0mself\u001b[0m\u001b[0;34m.\u001b[0m\u001b[0mdevice\u001b[0m\u001b[0;34m)\u001b[0m\u001b[0;34m\u001b[0m\u001b[0;34m\u001b[0m\u001b[0m\n\u001b[0m\u001b[1;32m     18\u001b[0m \u001b[0;34m\u001b[0m\u001b[0m\n\u001b[1;32m     19\u001b[0m         \u001b[0;31m# Load feature extractor for input shape information\u001b[0m\u001b[0;34m\u001b[0m\u001b[0;34m\u001b[0m\u001b[0m\n",
            "\u001b[0;32m/usr/local/lib/python3.10/dist-packages/transformers/modeling_utils.py\u001b[0m in \u001b[0;36mto\u001b[0;34m(self, *args, **kwargs)\u001b[0m\n\u001b[1;32m   2903\u001b[0m                     \u001b[0;34m\" `dtype` by passing the correct `torch_dtype` argument.\"\u001b[0m\u001b[0;34m\u001b[0m\u001b[0;34m\u001b[0m\u001b[0m\n\u001b[1;32m   2904\u001b[0m                 )\n\u001b[0;32m-> 2905\u001b[0;31m         \u001b[0;32mreturn\u001b[0m \u001b[0msuper\u001b[0m\u001b[0;34m(\u001b[0m\u001b[0;34m)\u001b[0m\u001b[0;34m.\u001b[0m\u001b[0mto\u001b[0m\u001b[0;34m(\u001b[0m\u001b[0;34m*\u001b[0m\u001b[0margs\u001b[0m\u001b[0;34m,\u001b[0m \u001b[0;34m**\u001b[0m\u001b[0mkwargs\u001b[0m\u001b[0;34m)\u001b[0m\u001b[0;34m\u001b[0m\u001b[0;34m\u001b[0m\u001b[0m\n\u001b[0m\u001b[1;32m   2906\u001b[0m \u001b[0;34m\u001b[0m\u001b[0m\n\u001b[1;32m   2907\u001b[0m     \u001b[0;32mdef\u001b[0m \u001b[0mhalf\u001b[0m\u001b[0;34m(\u001b[0m\u001b[0mself\u001b[0m\u001b[0;34m,\u001b[0m \u001b[0;34m*\u001b[0m\u001b[0margs\u001b[0m\u001b[0;34m)\u001b[0m\u001b[0;34m:\u001b[0m\u001b[0;34m\u001b[0m\u001b[0;34m\u001b[0m\u001b[0m\n",
            "\u001b[0;32m/usr/local/lib/python3.10/dist-packages/torch/nn/modules/module.py\u001b[0m in \u001b[0;36mto\u001b[0;34m(self, *args, **kwargs)\u001b[0m\n\u001b[1;32m   1136\u001b[0m \u001b[0;34m\u001b[0m\u001b[0m\n\u001b[1;32m   1137\u001b[0m         \"\"\"\n\u001b[0;32m-> 1138\u001b[0;31m         \u001b[0mdevice\u001b[0m\u001b[0;34m,\u001b[0m \u001b[0mdtype\u001b[0m\u001b[0;34m,\u001b[0m \u001b[0mnon_blocking\u001b[0m\u001b[0;34m,\u001b[0m \u001b[0mconvert_to_format\u001b[0m \u001b[0;34m=\u001b[0m \u001b[0mtorch\u001b[0m\u001b[0;34m.\u001b[0m\u001b[0m_C\u001b[0m\u001b[0;34m.\u001b[0m\u001b[0m_nn\u001b[0m\u001b[0;34m.\u001b[0m\u001b[0m_parse_to\u001b[0m\u001b[0;34m(\u001b[0m\u001b[0;34m*\u001b[0m\u001b[0margs\u001b[0m\u001b[0;34m,\u001b[0m \u001b[0;34m**\u001b[0m\u001b[0mkwargs\u001b[0m\u001b[0;34m)\u001b[0m\u001b[0;34m\u001b[0m\u001b[0;34m\u001b[0m\u001b[0m\n\u001b[0m\u001b[1;32m   1139\u001b[0m \u001b[0;34m\u001b[0m\u001b[0m\n\u001b[1;32m   1140\u001b[0m         \u001b[0;32mif\u001b[0m \u001b[0mdtype\u001b[0m \u001b[0;32mis\u001b[0m \u001b[0;32mnot\u001b[0m \u001b[0;32mNone\u001b[0m\u001b[0;34m:\u001b[0m\u001b[0;34m\u001b[0m\u001b[0;34m\u001b[0m\u001b[0m\n",
            "\u001b[0;31mTypeError\u001b[0m: to() received an invalid combination of arguments - got (list), but expected one of:\n * (torch.device device = None, torch.dtype dtype = None, bool non_blocking = False, bool copy = False, *, torch.memory_format memory_format = None)\n * (torch.dtype dtype, bool non_blocking = False, bool copy = False, *, torch.memory_format memory_format = None)\n * (Tensor tensor, bool non_blocking = False, bool copy = False, *, torch.memory_format memory_format = None)\n"
          ]
        }
      ]
    },
    {
      "cell_type": "markdown",
      "source": [
        "Resnet50(1st try)"
      ],
      "metadata": {
        "id": "8EhLfefzPjv2"
      }
    },
    {
      "cell_type": "code",
      "source": [
        "import torch\n",
        "import torch.nn as nn\n",
        "import torch.optim as optim\n",
        "from torch.optim import lr_scheduler\n",
        "from torch.utils.data import DataLoader\n",
        "from torchvision import datasets, models, transforms\n",
        "import os\n",
        "import copy\n",
        "from collections import Counter\n",
        "from torch.utils.data.sampler import WeightedRandomSampler\n",
        "import numpy as np\n",
        "\n",
        "# Check if GPU is available\n",
        "device = torch.device(\"cuda:0\" if torch.cuda.is_available() else \"cpu\")\n",
        "\n",
        "# Data augmentation and normalization\n",
        "data_transforms = {\n",
        "    'train': transforms.Compose([\n",
        "        transforms.RandomResizedCrop(224),\n",
        "        transforms.RandomHorizontalFlip(),\n",
        "        transforms.ColorJitter(brightness=0.5, contrast=0.5, saturation=0.5, hue=0.5),\n",
        "        transforms.RandomRotation(20),\n",
        "        transforms.ToTensor(),\n",
        "        transforms.Normalize([0.485, 0.456, 0.406], [0.229, 0.224, 0.225])\n",
        "    ]),\n",
        "    'val': transforms.Compose([\n",
        "        transforms.Resize(256),\n",
        "        transforms.CenterCrop(224),\n",
        "        transforms.ToTensor(),\n",
        "        transforms.Normalize([0.485, 0.456, 0.406], [0.229, 0.224, 0.225])\n",
        "    ]),\n",
        "}\n",
        "\n",
        "# Data directory\n",
        "data_dir = '/content/drive/MyDrive/clothing_data'\n",
        "\n",
        "# Load the full dataset\n",
        "full_dataset = datasets.ImageFolder(data_dir, data_transforms['train'])\n",
        "\n",
        "# Split the dataset into training and validation sets (80/20 split)\n",
        "train_size = int(0.8 * len(full_dataset))\n",
        "val_size = len(full_dataset) - train_size\n",
        "train_dataset, val_dataset = torch.utils.data.random_split(full_dataset, [train_size, val_size])\n",
        "\n",
        "# Class balancing using WeightedRandomSampler\n",
        "class_count = Counter([label for _, label in train_dataset])\n",
        "class_weights = 1. / np.array([class_count[i] for i in range(len(class_count))])\n",
        "samples_weight = np.array([class_weights[t] for _, t in train_dataset])\n",
        "\n",
        "sampler = WeightedRandomSampler(samples_weight, len(samples_weight))\n",
        "\n",
        "# Create dataloaders for training and validation\n",
        "dataloaders = {\n",
        "    'train': DataLoader(train_dataset, batch_size=32, sampler=sampler, num_workers=4),\n",
        "    'val': DataLoader(val_dataset, batch_size=32, shuffle=False, num_workers=4)\n",
        "}\n",
        "\n",
        "dataset_sizes = {'train': len(train_dataset), 'val': len(val_dataset)}\n",
        "class_names = full_dataset.classes\n",
        "\n",
        "# Freeze layers and modify ResNet50 with Dropout and custom classifier\n",
        "def initialize_resnet50(num_classes):\n",
        "    model_ft = models.resnet50(pretrained=True)\n",
        "\n",
        "    # Freeze all layers in the ResNet model\n",
        "    for param in model_ft.parameters():\n",
        "        param.requires_grad = False\n",
        "\n",
        "    # Replace the FC layer with custom classifier for 8 classes and add Dropout\n",
        "    num_ftrs = model_ft.fc.in_features\n",
        "    model_ft.fc = nn.Sequential(\n",
        "        nn.Linear(num_ftrs, 512),      # Add a dense layer with 512 units\n",
        "        nn.ReLU(),                     # Activation\n",
        "        nn.Dropout(0.5),               # Dropout to prevent overfitting\n",
        "        nn.Linear(512, num_classes)    # Final output layer for 8 classes\n",
        "    )\n",
        "\n",
        "    return model_ft\n",
        "\n",
        "# Model initialization\n",
        "num_classes = 8  # for clothing dataset\n",
        "model_ft = initialize_resnet50(num_classes)\n",
        "model_ft = model_ft.to(device)\n",
        "\n",
        "# Loss function and optimizer\n",
        "criterion = nn.CrossEntropyLoss()\n",
        "optimizer_ft = optim.Adam(model_ft.fc.parameters(), lr=0.001)  # Only optimize the new layers\n",
        "\n",
        "# Learning rate scheduler\n",
        "exp_lr_scheduler = lr_scheduler.StepLR(optimizer_ft, step_size=7, gamma=0.1)\n",
        "\n",
        "# Train the model with early stopping and evaluation\n",
        "def train_model(model, dataloaders, criterion, optimizer, scheduler, num_epochs=50, patience=10):\n",
        "    best_model_wts = copy.deepcopy(model.state_dict())\n",
        "    best_acc = 0.0\n",
        "    early_stop_counter = 0\n",
        "\n",
        "    for epoch in range(num_epochs):\n",
        "        print(f'Epoch {epoch}/{num_epochs - 1}')\n",
        "        print('-' * 10)\n",
        "\n",
        "        # Each epoch has a training and validation phase\n",
        "        for phase in ['train', 'val']:\n",
        "            if phase == 'train':\n",
        "                model.train()  # Set model to training mode\n",
        "            else:\n",
        "                model.eval()   # Set model to evaluate mode\n",
        "\n",
        "            running_loss = 0.0\n",
        "            running_corrects = 0\n",
        "\n",
        "            # Iterate over data\n",
        "            for inputs, labels in dataloaders[phase]:\n",
        "                inputs = inputs.to(device)\n",
        "                labels = labels.to(device)\n",
        "\n",
        "                # Zero the parameter gradients\n",
        "                optimizer.zero_grad()\n",
        "\n",
        "                # Forward pass\n",
        "                with torch.set_grad_enabled(phase == 'train'):\n",
        "                    outputs = model(inputs)\n",
        "                    _, preds = torch.max(outputs, 1)\n",
        "                    loss = criterion(outputs, labels)\n",
        "\n",
        "                    # Backward + optimize only if in training phase\n",
        "                    if phase == 'train':\n",
        "                        loss.backward()\n",
        "                        optimizer.step()\n",
        "\n",
        "                # Statistics\n",
        "                running_loss += loss.item() * inputs.size(0)\n",
        "                running_corrects += torch.sum(preds == labels.data)\n",
        "\n",
        "            epoch_loss = running_loss / dataset_sizes[phase]\n",
        "            epoch_acc = running_corrects.double() / dataset_sizes[phase]\n",
        "\n",
        "            print(f'{phase} Loss: {epoch_loss:.4f} Acc: {epoch_acc:.4f}')\n",
        "\n",
        "            # Deep copy the model if accuracy improves on validation\n",
        "            if phase == 'val' and epoch_acc > best_acc:\n",
        "                best_acc = epoch_acc\n",
        "                best_model_wts = copy.deepcopy(model.state_dict())\n",
        "                early_stop_counter = 0  # Reset patience counter\n",
        "            elif phase == 'val':\n",
        "                early_stop_counter += 1  # Increase patience counter\n",
        "\n",
        "            if early_stop_counter >= patience:\n",
        "                print(f\"Early stopping at epoch {epoch}\")\n",
        "                model.load_state_dict(best_model_wts)\n",
        "                return model  # Stop training early if no improvement\n",
        "\n",
        "        scheduler.step()\n",
        "\n",
        "    print(f'Best val Acc: {best_acc:.4f}')\n",
        "    model.load_state_dict(best_model_wts)\n",
        "    return model\n",
        "\n",
        "# Training the ResNet50 model\n",
        "best_model = train_model(model_ft, dataloaders, criterion, optimizer_ft, exp_lr_scheduler)\n",
        "\n",
        "# Save the best model\n",
        "torch.save(best_model.state_dict(), 'best_resnet50_model.pth')\n",
        "print(\"Best model saved as 'best_resnet50_model.pth'\")"
      ],
      "metadata": {
        "colab": {
          "base_uri": "https://localhost:8080/"
        },
        "id": "LhbVbdu2WDGH",
        "outputId": "4fdaa723-98ba-4226-a8b7-c2ce73c61e5f"
      },
      "execution_count": null,
      "outputs": [
        {
          "output_type": "stream",
          "name": "stderr",
          "text": [
            "/usr/local/lib/python3.10/dist-packages/torch/utils/data/dataloader.py:557: UserWarning: This DataLoader will create 4 worker processes in total. Our suggested max number of worker in current system is 2, which is smaller than what this DataLoader is going to create. Please be aware that excessive worker creation might get DataLoader running slow or even freeze, lower the worker number to avoid potential slowness/freeze if necessary.\n",
            "  warnings.warn(_create_warning_msg(\n",
            "/usr/local/lib/python3.10/dist-packages/torchvision/models/_utils.py:208: UserWarning: The parameter 'pretrained' is deprecated since 0.13 and may be removed in the future, please use 'weights' instead.\n",
            "  warnings.warn(\n",
            "/usr/local/lib/python3.10/dist-packages/torchvision/models/_utils.py:223: UserWarning: Arguments other than a weight enum or `None` for 'weights' are deprecated since 0.13 and may be removed in the future. The current behavior is equivalent to passing `weights=ResNet50_Weights.IMAGENET1K_V1`. You can also use `weights=ResNet50_Weights.DEFAULT` to get the most up-to-date weights.\n",
            "  warnings.warn(msg)\n",
            "Downloading: \"https://download.pytorch.org/models/resnet50-0676ba61.pth\" to /root/.cache/torch/hub/checkpoints/resnet50-0676ba61.pth\n",
            "100%|██████████| 97.8M/97.8M [00:00<00:00, 148MB/s]\n"
          ]
        },
        {
          "output_type": "stream",
          "name": "stdout",
          "text": [
            "Epoch 0/49\n",
            "----------\n",
            "train Loss: 2.1945 Acc: 0.1562\n",
            "val Loss: 1.9778 Acc: 0.2625\n",
            "Epoch 1/49\n",
            "----------\n",
            "train Loss: 1.9128 Acc: 0.2531\n",
            "val Loss: 1.8033 Acc: 0.3188\n",
            "Epoch 2/49\n",
            "----------\n",
            "train Loss: 1.8274 Acc: 0.2812\n",
            "val Loss: 1.7542 Acc: 0.3063\n",
            "Epoch 3/49\n",
            "----------\n",
            "train Loss: 1.6928 Acc: 0.3531\n",
            "val Loss: 1.6177 Acc: 0.4125\n",
            "Epoch 4/49\n",
            "----------\n",
            "train Loss: 1.6370 Acc: 0.3969\n",
            "val Loss: 1.4886 Acc: 0.4813\n",
            "Epoch 5/49\n",
            "----------\n",
            "train Loss: 1.5913 Acc: 0.3953\n",
            "val Loss: 1.4865 Acc: 0.4688\n",
            "Epoch 6/49\n",
            "----------\n",
            "train Loss: 1.5571 Acc: 0.4219\n",
            "val Loss: 1.4150 Acc: 0.5062\n",
            "Epoch 7/49\n",
            "----------\n",
            "train Loss: 1.5430 Acc: 0.4250\n",
            "val Loss: 1.3744 Acc: 0.5625\n",
            "Epoch 8/49\n",
            "----------\n",
            "train Loss: 1.5353 Acc: 0.4266\n",
            "val Loss: 1.3753 Acc: 0.5500\n",
            "Epoch 9/49\n",
            "----------\n",
            "train Loss: 1.5108 Acc: 0.4625\n",
            "val Loss: 1.3661 Acc: 0.5250\n",
            "Epoch 10/49\n",
            "----------\n",
            "train Loss: 1.4453 Acc: 0.4734\n",
            "val Loss: 1.3592 Acc: 0.5062\n",
            "Epoch 11/49\n",
            "----------\n",
            "train Loss: 1.4539 Acc: 0.4688\n",
            "val Loss: 1.4236 Acc: 0.5188\n",
            "Epoch 12/49\n",
            "----------\n",
            "train Loss: 1.4412 Acc: 0.4641\n",
            "val Loss: 1.2884 Acc: 0.5875\n",
            "Epoch 13/49\n",
            "----------\n",
            "train Loss: 1.4176 Acc: 0.4828\n",
            "val Loss: 1.4267 Acc: 0.4938\n",
            "Epoch 14/49\n",
            "----------\n",
            "train Loss: 1.4400 Acc: 0.4563\n",
            "val Loss: 1.3976 Acc: 0.5250\n",
            "Epoch 15/49\n",
            "----------\n",
            "train Loss: 1.4108 Acc: 0.4938\n",
            "val Loss: 1.3452 Acc: 0.5062\n",
            "Epoch 16/49\n",
            "----------\n",
            "train Loss: 1.4366 Acc: 0.4641\n",
            "val Loss: 1.3223 Acc: 0.5563\n",
            "Epoch 17/49\n",
            "----------\n",
            "train Loss: 1.4075 Acc: 0.4906\n",
            "val Loss: 1.4404 Acc: 0.4625\n",
            "Epoch 18/49\n",
            "----------\n",
            "train Loss: 1.4246 Acc: 0.4797\n",
            "val Loss: 1.3075 Acc: 0.5438\n",
            "Epoch 19/49\n",
            "----------\n",
            "train Loss: 1.4495 Acc: 0.4656\n",
            "val Loss: 1.3886 Acc: 0.4625\n",
            "Epoch 20/49\n",
            "----------\n",
            "train Loss: 1.4255 Acc: 0.4797\n",
            "val Loss: 1.3553 Acc: 0.5125\n",
            "Epoch 21/49\n",
            "----------\n",
            "train Loss: 1.4239 Acc: 0.4781\n",
            "val Loss: 1.3400 Acc: 0.5188\n",
            "Epoch 22/49\n",
            "----------\n",
            "train Loss: 1.4459 Acc: 0.4594\n",
            "val Loss: 1.3254 Acc: 0.4938\n",
            "Early stopping at epoch 22\n",
            "Best model saved as 'best_resnet50_model.pth'\n"
          ]
        }
      ]
    },
    {
      "cell_type": "code",
      "source": [
        "def train_model(model, dataloaders, criterion, optimizer, scheduler, num_epochs=50, patience=10):\n",
        "    best_model_wts = copy.deepcopy(model.state_dict())\n",
        "    best_acc = 0.0\n",
        "    early_stop_counter = 0\n",
        "\n",
        "    train_loss_history = []\n",
        "    val_loss_history = []\n",
        "    train_acc_history = []\n",
        "    val_acc_history = []\n",
        "\n",
        "    for epoch in range(num_epochs):\n",
        "        print(f'Epoch {epoch}/{num_epochs - 1}')\n",
        "        print('-' * 10)\n",
        "\n",
        "        # Each epoch has a training and validation phase\n",
        "        for phase in ['train', 'val']:\n",
        "            if phase == 'train':\n",
        "                model.train()  # Set model to training mode\n",
        "            else:\n",
        "                model.eval()   # Set model to evaluate mode\n",
        "\n",
        "            running_loss = 0.0\n",
        "            running_corrects = 0\n",
        "\n",
        "            # Iterate over data\n",
        "            for inputs, labels in dataloaders[phase]:\n",
        "                inputs = inputs.to(device)\n",
        "                labels = labels.to(device)\n",
        "\n",
        "                # Zero the parameter gradients\n",
        "                optimizer.zero_grad()\n",
        "\n",
        "                # Forward pass\n",
        "                with torch.set_grad_enabled(phase == 'train'):\n",
        "                    outputs = model(inputs)\n",
        "                    _, preds = torch.max(outputs, 1)\n",
        "                    loss = criterion(outputs, labels)\n",
        "\n",
        "                    # Backward + optimize only if in training phase\n",
        "                    if phase == 'train':\n",
        "                        loss.backward()\n",
        "                        optimizer.step()\n",
        "\n",
        "                # Statistics\n",
        "                running_loss += loss.item() * inputs.size(0)\n",
        "                running_corrects += torch.sum(preds == labels.data)\n",
        "\n",
        "            epoch_loss = running_loss / dataset_sizes[phase]\n",
        "            epoch_acc = running_corrects.double() / dataset_sizes[phase]\n",
        "\n",
        "            print(f'{phase} Loss: {epoch_loss:.4f} Acc: {epoch_acc:.4f}')\n",
        "\n",
        "            # Save loss and accuracy for plotting later\n",
        "            if phase == 'train':\n",
        "                train_loss_history.append(epoch_loss)\n",
        "                train_acc_history.append(epoch_acc)\n",
        "            else:\n",
        "                val_loss_history.append(epoch_loss)\n",
        "                val_acc_history.append(epoch_acc)\n",
        "\n",
        "            # Deep copy the model if accuracy improves on validation\n",
        "            if phase == 'val' and epoch_acc > best_acc:\n",
        "                best_acc = epoch_acc\n",
        "                best_model_wts = copy.deepcopy(model.state_dict())\n",
        "                early_stop_counter = 0  # Reset patience counter\n",
        "            elif phase == 'val':\n",
        "                early_stop_counter += 1  # Increase patience counter\n",
        "\n",
        "            if early_stop_counter >= patience:\n",
        "                print(f\"Early stopping at epoch {epoch}\")\n",
        "                model.load_state_dict(best_model_wts)\n",
        "                return model, train_loss_history, val_loss_history, train_acc_history, val_acc_history\n",
        "\n",
        "        scheduler.step()\n",
        "\n",
        "    print(f'Best val Acc: {best_acc:.4f}')\n",
        "    model.load_state_dict(best_model_wts)\n",
        "    return model, train_loss_history, val_loss_history, train_acc_history, val_acc_history\n",
        "\n",
        "# Train the model and save history\n",
        "best_model, train_loss_history, val_loss_history, train_acc_history, val_acc_history = train_model(model_ft, dataloaders, criterion, optimizer_ft, exp_lr_scheduler)\n",
        "\n",
        "# Save the best model\n",
        "torch.save(best_model.state_dict(), 'best_resnet50_model.pth')\n",
        "\n",
        "# Save the training/validation history to visualize later\n",
        "torch.save({\n",
        "    'train_loss': train_loss_history,\n",
        "    'val_loss': val_loss_history,\n",
        "    'train_acc': train_acc_history,\n",
        "    'val_acc': val_acc_history\n",
        "}, 'training_history.pth')\n",
        "\n",
        "print(\"Training history saved as 'training_history.pth'\")"
      ],
      "metadata": {
        "colab": {
          "base_uri": "https://localhost:8080/"
        },
        "id": "XCteHEAmXYpd",
        "outputId": "16ea5b6c-3378-4d3a-e4fe-ca83e47f686f"
      },
      "execution_count": null,
      "outputs": [
        {
          "output_type": "stream",
          "name": "stdout",
          "text": [
            "Epoch 0/49\n",
            "----------\n",
            "train Loss: 1.5050 Acc: 0.4344\n",
            "val Loss: 1.3691 Acc: 0.5312\n",
            "Epoch 1/49\n",
            "----------\n",
            "train Loss: 1.4437 Acc: 0.4750\n",
            "val Loss: 1.3552 Acc: 0.5250\n",
            "Epoch 2/49\n",
            "----------\n",
            "train Loss: 1.4647 Acc: 0.4500\n",
            "val Loss: 1.4082 Acc: 0.4688\n",
            "Epoch 3/49\n",
            "----------\n",
            "train Loss: 1.3706 Acc: 0.5031\n",
            "val Loss: 1.4463 Acc: 0.4625\n",
            "Epoch 4/49\n",
            "----------\n",
            "train Loss: 1.4450 Acc: 0.4641\n",
            "val Loss: 1.3609 Acc: 0.5062\n",
            "Epoch 5/49\n",
            "----------\n",
            "train Loss: 1.3979 Acc: 0.4938\n",
            "val Loss: 1.4422 Acc: 0.4688\n",
            "Epoch 6/49\n",
            "----------\n",
            "train Loss: 1.5186 Acc: 0.4313\n",
            "val Loss: 1.4170 Acc: 0.4563\n",
            "Epoch 7/49\n",
            "----------\n",
            "train Loss: 1.4344 Acc: 0.4578\n",
            "val Loss: 1.3049 Acc: 0.5500\n",
            "Epoch 8/49\n",
            "----------\n",
            "train Loss: 1.4120 Acc: 0.5016\n",
            "val Loss: 1.3900 Acc: 0.5125\n",
            "Epoch 9/49\n",
            "----------\n",
            "train Loss: 1.4477 Acc: 0.4656\n",
            "val Loss: 1.3725 Acc: 0.5563\n",
            "Epoch 10/49\n",
            "----------\n",
            "train Loss: 1.4289 Acc: 0.4734\n",
            "val Loss: 1.3804 Acc: 0.5250\n",
            "Epoch 11/49\n",
            "----------\n",
            "train Loss: 1.4566 Acc: 0.4547\n",
            "val Loss: 1.3335 Acc: 0.5000\n",
            "Epoch 12/49\n",
            "----------\n",
            "train Loss: 1.4237 Acc: 0.4953\n",
            "val Loss: 1.3538 Acc: 0.5188\n",
            "Epoch 13/49\n",
            "----------\n",
            "train Loss: 1.4450 Acc: 0.4750\n",
            "val Loss: 1.3615 Acc: 0.5250\n",
            "Epoch 14/49\n",
            "----------\n",
            "train Loss: 1.4861 Acc: 0.4453\n",
            "val Loss: 1.3976 Acc: 0.5312\n",
            "Epoch 15/49\n",
            "----------\n",
            "train Loss: 1.4559 Acc: 0.4797\n",
            "val Loss: 1.4042 Acc: 0.5062\n",
            "Epoch 16/49\n",
            "----------\n",
            "train Loss: 1.4345 Acc: 0.5141\n",
            "val Loss: 1.3801 Acc: 0.5000\n",
            "Epoch 17/49\n",
            "----------\n",
            "train Loss: 1.4507 Acc: 0.4734\n",
            "val Loss: 1.4196 Acc: 0.4875\n",
            "Epoch 18/49\n",
            "----------\n",
            "train Loss: 1.4962 Acc: 0.4406\n",
            "val Loss: 1.3923 Acc: 0.5125\n",
            "Epoch 19/49\n",
            "----------\n",
            "train Loss: 1.4473 Acc: 0.4641\n",
            "val Loss: 1.3717 Acc: 0.5500\n",
            "Early stopping at epoch 19\n",
            "Training history saved as 'training_history.pth'\n"
          ]
        }
      ]
    },
    {
      "cell_type": "code",
      "source": [
        "import torch\n",
        "import matplotlib.pyplot as plt\n",
        "\n",
        "# Load the training and validation history\n",
        "history = torch.load('training_history.pth')\n",
        "\n",
        "train_loss = history['train_loss']\n",
        "val_loss = history['val_loss']\n",
        "train_acc = history['train_acc']\n",
        "val_acc = history['val_acc']\n",
        "\n",
        "# Convert tensors to lists for plotting\n",
        "train_acc = [acc.cpu().item() for acc in train_acc]\n",
        "val_acc = [acc.cpu().item() for acc in val_acc]\n",
        "\n",
        "# Plot Loss Curves\n",
        "plt.figure(figsize=(10, 5))\n",
        "plt.plot(train_loss, label='Training Loss')\n",
        "plt.plot(val_loss, label='Validation Loss')\n",
        "plt.title('Loss Curve')\n",
        "plt.xlabel('Epochs')\n",
        "plt.ylabel('Loss')\n",
        "plt.legend()\n",
        "plt.grid(True)\n",
        "plt.show()\n",
        "\n",
        "# Plot Accuracy Curves\n",
        "plt.figure(figsize=(10, 5))\n",
        "plt.plot(train_acc, label='Training Accuracy')\n",
        "plt.plot(val_acc, label='Validation Accuracy')\n",
        "plt.title('Accuracy Curve')\n",
        "plt.xlabel('Epochs')\n",
        "plt.ylabel('Accuracy')\n",
        "plt.legend()\n",
        "plt.grid(True)\n",
        "plt.show()\n"
      ],
      "metadata": {
        "colab": {
          "base_uri": "https://localhost:8080/",
          "height": 1000
        },
        "id": "xFT3CE5XaCNr",
        "outputId": "88d3c369-aa45-4a0c-b4ce-34a443eb685a"
      },
      "execution_count": null,
      "outputs": [
        {
          "output_type": "stream",
          "name": "stderr",
          "text": [
            "<ipython-input-8-5de29a083410>:5: FutureWarning: You are using `torch.load` with `weights_only=False` (the current default value), which uses the default pickle module implicitly. It is possible to construct malicious pickle data which will execute arbitrary code during unpickling (See https://github.com/pytorch/pytorch/blob/main/SECURITY.md#untrusted-models for more details). In a future release, the default value for `weights_only` will be flipped to `True`. This limits the functions that could be executed during unpickling. Arbitrary objects will no longer be allowed to be loaded via this mode unless they are explicitly allowlisted by the user via `torch.serialization.add_safe_globals`. We recommend you start setting `weights_only=True` for any use case where you don't have full control of the loaded file. Please open an issue on GitHub for any issues related to this experimental feature.\n",
            "  history = torch.load('training_history.pth')\n"
          ]
        },
        {
          "output_type": "display_data",
          "data": {
            "text/plain": [
              "<Figure size 1000x500 with 1 Axes>"
            ],
            "image/png": "[encoded data removed]"
          },
          "metadata": {}
        },
        {
          "output_type": "display_data",
          "data": {
            "text/plain": [
              "<Figure size 1000x500 with 1 Axes>"
            ],
            "image/png": "[encoded data removed]"
          },
          "metadata": {}
        }
      ]
    },
    {
      "cell_type": "markdown",
      "source": [
        "**Resnet50 (worked well)**"
      ],
      "metadata": {
        "id": "J2VBZzjBQTHG"
      }
    },
    {
      "cell_type": "code",
      "source": [
        "import torch\n",
        "import torch.nn as nn\n",
        "import torch.optim as optim\n",
        "from torch.optim import lr_scheduler\n",
        "from torchvision import datasets, models, transforms\n",
        "from torch.utils.data import DataLoader, WeightedRandomSampler, random_split\n",
        "import os\n",
        "import copy\n",
        "import numpy as np\n",
        "import matplotlib.pyplot as plt\n",
        "\n",
        "device = torch.device(\"cuda:0\" if torch.cuda.is_available() else \"cpu\")\n",
        "\n",
        "# Data augmentation and normalization for training and validation\n",
        "data_transforms = {\n",
        "    'train': transforms.Compose([\n",
        "        transforms.RandomResizedCrop(224),\n",
        "        transforms.RandomHorizontalFlip(),\n",
        "        transforms.RandomRotation(20),\n",
        "        transforms.ColorJitter(brightness=0.2, contrast=0.2, saturation=0.2, hue=0.2),\n",
        "        transforms.ToTensor(),\n",
        "        transforms.Normalize([0.485, 0.456, 0.406], [0.229, 0.224, 0.225])\n",
        "    ]),\n",
        "    'val': transforms.Compose([\n",
        "        transforms.Resize(256),\n",
        "        transforms.CenterCrop(224),\n",
        "        transforms.ToTensor(),\n",
        "        transforms.Normalize([0.485, 0.456, 0.406], [0.229, 0.224, 0.225])\n",
        "    ]),\n",
        "}\n",
        "\n",
        "data_dir = '/content/drive/MyDrive/clothing_data'\n",
        "dataset = datasets.ImageFolder(data_dir, data_transforms['train'])\n",
        "\n",
        "# 80/20 split for training and validation sets\n",
        "train_size = int(0.8 * len(dataset))\n",
        "val_size = len(dataset) - train_size\n",
        "train_dataset, val_dataset = random_split(dataset, [train_size, val_size])\n",
        "\n",
        "# Balancing classes in training set\n",
        "train_targets = [dataset.targets[i] for i in train_dataset.indices]\n",
        "class_counts = np.bincount(train_targets)\n",
        "class_weights = 1. / class_counts\n",
        "sample_weights = [class_weights[t] for t in train_targets]\n",
        "sampler = WeightedRandomSampler(sample_weights, len(sample_weights))\n",
        "\n",
        "# Create dataloaders\n",
        "dataloaders = {\n",
        "    'train': DataLoader(train_dataset, batch_size=32, sampler=sampler, num_workers=4),\n",
        "    'val': DataLoader(val_dataset, batch_size=32, shuffle=False, num_workers=4)\n",
        "}\n",
        "dataset_sizes = {'train': len(train_dataset), 'val': len(val_dataset)}\n",
        "class_names = dataset.classes\n",
        "\n",
        "# Load ResNet50 pretrained model\n",
        "model_ft = models.resnet50(pretrained=True)\n",
        "\n",
        "# Modify the fully connected layer to match the number of classes\n",
        "num_ftrs = model_ft.fc.in_features\n",
        "model_ft.fc = nn.Sequential(\n",
        "    nn.Linear(num_ftrs, 512),\n",
        "    nn.ReLU(),\n",
        "    nn.Dropout(0.5),  # Dropout added to reduce overfitting\n",
        "    nn.Linear(512, len(class_names))  # Adjust for the number of classes\n",
        ")\n",
        "\n",
        "model_ft = model_ft.to(device)\n",
        "\n",
        "# Freeze some of the layers and unfreeze the later ones\n",
        "ct = 0\n",
        "for child in model_ft.children():\n",
        "    ct += 1\n",
        "    if ct < 7:  # Freeze layers 1 to 6\n",
        "        for param in child.parameters():\n",
        "            param.requires_grad = False\n",
        "\n",
        "# Loss function and optimizer\n",
        "criterion = nn.CrossEntropyLoss()\n",
        "\n",
        "# Adam optimizer with lower learning rate and weight decay for regularization\n",
        "optimizer_ft = optim.Adam(model_ft.parameters(), lr=1e-4, weight_decay=1e-5)\n",
        "\n",
        "# Learning rate scheduler\n",
        "exp_lr_scheduler = lr_scheduler.StepLR(optimizer_ft, step_size=7, gamma=0.1)\n",
        "\n",
        "# Early stopping parameters\n",
        "patience = 10\n",
        "early_stop_counter = 0\n",
        "best_model_wts = copy.deepcopy(model_ft.state_dict())\n",
        "best_acc = 0.0\n",
        "\n",
        "# Training function with early stopping and gradient clipping\n",
        "def train_model(model, criterion, optimizer, scheduler, num_epochs=50):\n",
        "    global early_stop_counter, best_acc, best_model_wts\n",
        "    train_loss_history = []\n",
        "    val_loss_history = []\n",
        "    train_acc_history = []\n",
        "    val_acc_history = []\n",
        "\n",
        "    for epoch in range(num_epochs):\n",
        "        print(f'Epoch {epoch}/{num_epochs - 1}')\n",
        "        print('-' * 10)\n",
        "\n",
        "        for phase in ['train', 'val']:\n",
        "            if phase == 'train':\n",
        "                model.train()  # Set model to training mode\n",
        "            else:\n",
        "                model.eval()   # Set model to evaluate mode\n",
        "\n",
        "            running_loss = 0.0\n",
        "            running_corrects = 0\n",
        "\n",
        "            for inputs, labels in dataloaders[phase]:\n",
        "                inputs = inputs.to(device)\n",
        "                labels = labels.to(device)\n",
        "\n",
        "                optimizer.zero_grad()\n",
        "\n",
        "                with torch.set_grad_enabled(phase == 'train'):\n",
        "                    outputs = model(inputs)\n",
        "                    _, preds = torch.max(outputs, 1)\n",
        "                    loss = criterion(outputs, labels)\n",
        "\n",
        "                    if phase == 'train':\n",
        "                        loss.backward()\n",
        "                        torch.nn.utils.clip_grad_norm_(model.parameters(), max_norm=1.0)  # Gradient clipping\n",
        "                        optimizer.step()\n",
        "\n",
        "                running_loss += loss.item() * inputs.size(0)\n",
        "                running_corrects += torch.sum(preds == labels.data)\n",
        "\n",
        "            epoch_loss = running_loss / dataset_sizes[phase]\n",
        "            epoch_acc = running_corrects.double() / dataset_sizes[phase]\n",
        "\n",
        "            if phase == 'train':\n",
        "                scheduler.step()\n",
        "\n",
        "            print(f'{phase} Loss: {epoch_loss:.4f} Acc: {epoch_acc:.4f}')\n",
        "\n",
        "            # Save losses and accuracies for plotting\n",
        "            if phase == 'train':\n",
        "                train_loss_history.append(epoch_loss)\n",
        "                train_acc_history.append(epoch_acc.item())\n",
        "            else:\n",
        "                val_loss_history.append(epoch_loss)\n",
        "                val_acc_history.append(epoch_acc.item())\n",
        "\n",
        "            # Deep copy the model if it has the best accuracy so far\n",
        "            if phase == 'val' and epoch_acc > best_acc:\n",
        "                best_acc = epoch_acc\n",
        "                best_model_wts = copy.deepcopy(model.state_dict())\n",
        "                early_stop_counter = 0\n",
        "            elif phase == 'val':\n",
        "                early_stop_counter += 1\n",
        "\n",
        "        # Early stopping\n",
        "        if early_stop_counter >= patience:\n",
        "            print(\"Early stopping triggered\")\n",
        "            break\n",
        "\n",
        "    print('Best val Acc: {:4f}'.format(best_acc))\n",
        "\n",
        "    # Load best model weights\n",
        "    model.load_state_dict(best_model_wts)\n",
        "\n",
        "    return model, train_loss_history, val_loss_history, train_acc_history, val_acc_history\n",
        "\n",
        "# Train the model\n",
        "model_ft, train_loss, val_loss, train_acc, val_acc = train_model(\n",
        "    model_ft, criterion, optimizer_ft, exp_lr_scheduler, num_epochs=50\n",
        ")\n",
        "\n",
        "# Plot accuracy and loss curves\n",
        "def plot_curves(train_loss, val_loss, train_acc, val_acc):\n",
        "    plt.figure(figsize=(10, 10))\n",
        "\n",
        "    # Plot Loss Curve\n",
        "    plt.subplot(2, 1, 1)\n",
        "    plt.plot(train_loss, label='Training Loss')\n",
        "    plt.plot(val_loss, label='Validation Loss')\n",
        "    plt.xlabel('Epochs')\n",
        "    plt.ylabel('Loss')\n",
        "    plt.title('Loss Curve')\n",
        "    plt.legend()\n",
        "\n",
        "    # Plot Accuracy Curve\n",
        "    plt.subplot(2, 1, 2)\n",
        "    plt.plot(train_acc, label='Training Accuracy')\n",
        "    plt.plot(val_acc, label='Validation Accuracy')\n",
        "    plt.xlabel('Epochs')\n",
        "    plt.ylabel('Accuracy')\n",
        "    plt.title('Accuracy Curve')\n",
        "    plt.legend()\n",
        "\n",
        "    plt.tight_layout()\n",
        "    plt.show()\n",
        "\n",
        "# Call plot function to visualize results\n",
        "plot_curves(train_loss, val_loss, train_acc, val_acc)"
      ],
      "metadata": {
        "id": "dTkIvoU7a__8",
        "colab": {
          "base_uri": "https://localhost:8080/",
          "height": 1000
        },
        "outputId": "9b49765d-18e4-4887-e7e0-3cd3ead69f5f"
      },
      "execution_count": null,
      "outputs": [
        {
          "output_type": "stream",
          "name": "stderr",
          "text": [
            "/usr/local/lib/python3.10/dist-packages/torch/utils/data/dataloader.py:557: UserWarning: This DataLoader will create 4 worker processes in total. Our suggested max number of worker in current system is 2, which is smaller than what this DataLoader is going to create. Please be aware that excessive worker creation might get DataLoader running slow or even freeze, lower the worker number to avoid potential slowness/freeze if necessary.\n",
            "  warnings.warn(_create_warning_msg(\n",
            "/usr/local/lib/python3.10/dist-packages/torchvision/models/_utils.py:208: UserWarning: The parameter 'pretrained' is deprecated since 0.13 and may be removed in the future, please use 'weights' instead.\n",
            "  warnings.warn(\n",
            "/usr/local/lib/python3.10/dist-packages/torchvision/models/_utils.py:223: UserWarning: Arguments other than a weight enum or `None` for 'weights' are deprecated since 0.13 and may be removed in the future. The current behavior is equivalent to passing `weights=ResNet50_Weights.IMAGENET1K_V1`. You can also use `weights=ResNet50_Weights.DEFAULT` to get the most up-to-date weights.\n",
            "  warnings.warn(msg)\n",
            "Downloading: \"https://download.pytorch.org/models/resnet50-0676ba61.pth\" to /root/.cache/torch/hub/checkpoints/resnet50-0676ba61.pth\n",
            "100%|██████████| 97.8M/97.8M [00:01<00:00, 76.4MB/s]\n"
          ]
        },
        {
          "output_type": "stream",
          "name": "stdout",
          "text": [
            "Epoch 0/49\n",
            "----------\n",
            "train Loss: 1.9166 Acc: 0.2828\n",
            "val Loss: 1.6254 Acc: 0.4625\n",
            "Epoch 1/49\n",
            "----------\n",
            "train Loss: 1.4089 Acc: 0.5438\n",
            "val Loss: 1.2099 Acc: 0.6063\n",
            "Epoch 2/49\n",
            "----------\n",
            "train Loss: 1.1282 Acc: 0.5906\n",
            "val Loss: 0.9445 Acc: 0.6813\n",
            "Epoch 3/49\n",
            "----------\n",
            "train Loss: 0.8870 Acc: 0.6875\n",
            "val Loss: 0.9730 Acc: 0.6438\n",
            "Epoch 4/49\n",
            "----------\n",
            "train Loss: 0.8313 Acc: 0.6828\n",
            "val Loss: 0.8147 Acc: 0.7125\n",
            "Epoch 5/49\n",
            "----------\n",
            "train Loss: 0.8549 Acc: 0.7016\n",
            "val Loss: 0.8178 Acc: 0.6938\n",
            "Epoch 6/49\n",
            "----------\n",
            "train Loss: 0.6751 Acc: 0.7625\n",
            "val Loss: 0.8156 Acc: 0.7125\n",
            "Epoch 7/49\n",
            "----------\n",
            "train Loss: 0.6441 Acc: 0.7734\n",
            "val Loss: 0.7125 Acc: 0.7500\n",
            "Epoch 8/49\n",
            "----------\n",
            "train Loss: 0.6729 Acc: 0.7547\n",
            "val Loss: 0.7429 Acc: 0.6938\n",
            "Epoch 9/49\n",
            "----------\n",
            "train Loss: 0.6482 Acc: 0.7703\n",
            "val Loss: 0.6212 Acc: 0.7688\n",
            "Epoch 10/49\n",
            "----------\n",
            "train Loss: 0.5450 Acc: 0.8234\n",
            "val Loss: 0.6478 Acc: 0.7625\n",
            "Epoch 11/49\n",
            "----------\n",
            "train Loss: 0.5817 Acc: 0.7906\n",
            "val Loss: 0.7581 Acc: 0.7313\n",
            "Epoch 12/49\n",
            "----------\n",
            "train Loss: 0.5647 Acc: 0.8203\n",
            "val Loss: 0.7931 Acc: 0.6938\n",
            "Epoch 13/49\n",
            "----------\n",
            "train Loss: 0.5247 Acc: 0.8203\n",
            "val Loss: 0.7348 Acc: 0.7188\n",
            "Epoch 14/49\n",
            "----------\n",
            "train Loss: 0.5212 Acc: 0.8281\n",
            "val Loss: 0.7530 Acc: 0.7313\n",
            "Epoch 15/49\n",
            "----------\n",
            "train Loss: 0.5289 Acc: 0.8188\n",
            "val Loss: 0.7307 Acc: 0.7500\n",
            "Epoch 16/49\n",
            "----------\n",
            "train Loss: 0.5388 Acc: 0.8328\n",
            "val Loss: 0.6762 Acc: 0.7688\n",
            "Epoch 17/49\n",
            "----------\n",
            "train Loss: 0.5856 Acc: 0.7969\n",
            "val Loss: 0.6713 Acc: 0.7875\n",
            "Epoch 18/49\n",
            "----------\n",
            "train Loss: 0.5398 Acc: 0.8328\n",
            "val Loss: 0.7739 Acc: 0.7313\n",
            "Epoch 19/49\n",
            "----------\n",
            "train Loss: 0.5549 Acc: 0.8188\n",
            "val Loss: 0.6219 Acc: 0.7875\n",
            "Epoch 20/49\n",
            "----------\n",
            "train Loss: 0.5389 Acc: 0.8313\n",
            "val Loss: 0.6521 Acc: 0.7875\n",
            "Epoch 21/49\n",
            "----------\n",
            "train Loss: 0.4469 Acc: 0.8547\n",
            "val Loss: 0.7540 Acc: 0.7438\n",
            "Epoch 22/49\n",
            "----------\n",
            "train Loss: 0.5441 Acc: 0.7953\n",
            "val Loss: 0.6413 Acc: 0.7750\n",
            "Epoch 23/49\n",
            "----------\n",
            "train Loss: 0.5184 Acc: 0.8375\n",
            "val Loss: 0.6896 Acc: 0.7313\n",
            "Epoch 24/49\n",
            "----------\n",
            "train Loss: 0.4619 Acc: 0.8453\n",
            "val Loss: 0.7653 Acc: 0.7313\n",
            "Epoch 25/49\n",
            "----------\n",
            "train Loss: 0.4918 Acc: 0.8234\n",
            "val Loss: 0.7850 Acc: 0.7375\n",
            "Epoch 26/49\n",
            "----------\n",
            "train Loss: 0.4481 Acc: 0.8641\n",
            "val Loss: 0.7566 Acc: 0.7313\n",
            "Epoch 27/49\n",
            "----------\n",
            "train Loss: 0.5188 Acc: 0.8297\n",
            "val Loss: 0.7135 Acc: 0.7188\n",
            "Early stopping triggered\n",
            "Best val Acc: 0.787500\n"
          ]
        },
        {
          "output_type": "display_data",
          "data": {
            "text/plain": [
              "<Figure size 1000x1000 with 2 Axes>"
            ],
            "image/png": "[encoded data removed]"
          },
          "metadata": {}
        }
      ]
    },
    {
      "cell_type": "markdown",
      "source": [
        "ViT(used vit_b_16)"
      ],
      "metadata": {
        "id": "HyUsJd8xQhTb"
      }
    },
    {
      "cell_type": "code",
      "source": [
        "import torch\n",
        "import torch.nn as nn\n",
        "import torch.optim as optim\n",
        "from torch.optim import lr_scheduler\n",
        "from torchvision import datasets, transforms, models\n",
        "from torch.utils.data import DataLoader, random_split, WeightedRandomSampler\n",
        "import matplotlib.pyplot as plt\n",
        "import os\n",
        "import copy\n",
        "import numpy as np\n",
        "\n",
        "device = torch.device(\"cuda:0\" if torch.cuda.is_available() else \"cpu\")\n",
        "\n",
        "# Data augmentation and normalization for training and validation\n",
        "data_transforms = {\n",
        "    'train': transforms.Compose([\n",
        "        transforms.RandomResizedCrop(224),\n",
        "        transforms.RandomHorizontalFlip(),\n",
        "        transforms.RandomRotation(20),\n",
        "        transforms.ColorJitter(brightness=0.2, contrast=0.2, saturation=0.2, hue=0.2),\n",
        "        transforms.ToTensor(),\n",
        "        transforms.Normalize([0.485, 0.456, 0.406], [0.229, 0.224, 0.225])\n",
        "    ]),\n",
        "    'val': transforms.Compose([\n",
        "        transforms.Resize(256),\n",
        "        transforms.CenterCrop(224),\n",
        "        transforms.ToTensor(),\n",
        "        transforms.Normalize([0.485, 0.456, 0.406], [0.229, 0.224, 0.225])\n",
        "    ]),\n",
        "}\n",
        "\n",
        "data_dir = '/content/drive/MyDrive/clothing_data'\n",
        "dataset = datasets.ImageFolder(data_dir, data_transforms['train'])\n",
        "\n",
        "# 80/20 split for training and validation sets\n",
        "train_size = int(0.8 * len(dataset))\n",
        "val_size = len(dataset) - train_size\n",
        "train_dataset, val_dataset = random_split(dataset, [train_size, val_size])\n",
        "\n",
        "# Balancing classes in training set\n",
        "train_targets = [dataset.targets[i] for i in train_dataset.indices]\n",
        "class_counts = np.bincount(train_targets)\n",
        "class_weights = 1. / class_counts\n",
        "sample_weights = [class_weights[t] for t in train_targets]\n",
        "sampler = WeightedRandomSampler(sample_weights, len(sample_weights))\n",
        "\n",
        "# Create dataloaders\n",
        "dataloaders = {\n",
        "    'train': DataLoader(train_dataset, batch_size=32, sampler=sampler, num_workers=4),\n",
        "    'val': DataLoader(val_dataset, batch_size=32, shuffle=False, num_workers=4)\n",
        "}\n",
        "dataset_sizes = {'train': len(train_dataset), 'val': len(val_dataset)}\n",
        "class_names = dataset.classes\n",
        "\n",
        "# Load Vision Transformer (ViT) pretrained model\n",
        "vit_model = models.vit_b_16(pretrained=True)  # Use pre-trained ViT base model\n",
        "\n",
        "# Modify the classifier to match the number of classes in your dataset\n",
        "vit_model.heads = nn.Sequential(\n",
        "    nn.Linear(vit_model.heads.head.in_features, 512),\n",
        "    nn.ReLU(),\n",
        "    nn.Dropout(0.5),  # Dropout to reduce overfitting\n",
        "    nn.Linear(512, len(class_names))  # Output layer matching number of classes\n",
        ")\n",
        "\n",
        "vit_model = vit_model.to(device)\n",
        "\n",
        "# Freeze all layers except the classification head\n",
        "for param in vit_model.parameters():\n",
        "    param.requires_grad = False\n",
        "\n",
        "# Unfreeze the classification head\n",
        "for param in vit_model.heads.parameters():\n",
        "    param.requires_grad = True\n",
        "\n",
        "# Loss function and optimizer\n",
        "criterion = nn.CrossEntropyLoss()\n",
        "\n",
        "# Adam optimizer with learning rate and weight decay for regularization\n",
        "optimizer_ft = optim.Adam(vit_model.heads.parameters(), lr=1e-4, weight_decay=1e-5)\n",
        "\n",
        "# Learning rate scheduler\n",
        "exp_lr_scheduler = lr_scheduler.StepLR(optimizer_ft, step_size=7, gamma=0.1)\n",
        "\n",
        "# Early stopping parameters\n",
        "patience = 10\n",
        "early_stop_counter = 0\n",
        "best_model_wts = copy.deepcopy(vit_model.state_dict())\n",
        "best_acc = 0.0\n",
        "\n",
        "# Training function with early stopping and gradient clipping\n",
        "def train_model(model, criterion, optimizer, scheduler, num_epochs=50):\n",
        "    global early_stop_counter, best_acc, best_model_wts\n",
        "    train_loss_history = []\n",
        "    val_loss_history = []\n",
        "    train_acc_history = []\n",
        "    val_acc_history = []\n",
        "\n",
        "    for epoch in range(num_epochs):\n",
        "        print(f'Epoch {epoch}/{num_epochs - 1}')\n",
        "        print('-' * 10)\n",
        "\n",
        "        for phase in ['train', 'val']:\n",
        "            if phase == 'train':\n",
        "                model.train()  # Set model to training mode\n",
        "            else:\n",
        "                model.eval()   # Set model to evaluate mode\n",
        "\n",
        "            running_loss = 0.0\n",
        "            running_corrects = 0\n",
        "\n",
        "            for inputs, labels in dataloaders[phase]:\n",
        "                inputs = inputs.to(device)\n",
        "                labels = labels.to(device)\n",
        "\n",
        "                optimizer.zero_grad()\n",
        "\n",
        "                with torch.set_grad_enabled(phase == 'train'):\n",
        "                    outputs = model(inputs)\n",
        "                    _, preds = torch.max(outputs, 1)\n",
        "                    loss = criterion(outputs, labels)\n",
        "\n",
        "                    if phase == 'train':\n",
        "                        loss.backward()\n",
        "                        torch.nn.utils.clip_grad_norm_(model.parameters(), max_norm=1.0)  # Gradient clipping\n",
        "                        optimizer.step()\n",
        "\n",
        "                running_loss += loss.item() * inputs.size(0)\n",
        "                running_corrects += torch.sum(preds == labels.data)\n",
        "\n",
        "            epoch_loss = running_loss / dataset_sizes[phase]\n",
        "            epoch_acc = running_corrects.double() / dataset_sizes[phase]\n",
        "\n",
        "            if phase == 'train':\n",
        "                scheduler.step()\n",
        "\n",
        "            print(f'{phase} Loss: {epoch_loss:.4f} Acc: {epoch_acc:.4f}')\n",
        "\n",
        "            # Save losses and accuracies for plotting\n",
        "            if phase == 'train':\n",
        "                train_loss_history.append(epoch_loss)\n",
        "                train_acc_history.append(epoch_acc.item())\n",
        "            else:\n",
        "                val_loss_history.append(epoch_loss)\n",
        "                val_acc_history.append(epoch_acc.item())\n",
        "\n",
        "            # Deep copy the model if it has the best accuracy so far\n",
        "            if phase == 'val' and epoch_acc > best_acc:\n",
        "                best_acc = epoch_acc\n",
        "                best_model_wts = copy.deepcopy(model.state_dict())\n",
        "                early_stop_counter = 0\n",
        "            elif phase == 'val':\n",
        "                early_stop_counter += 1\n",
        "\n",
        "        # Early stopping\n",
        "        if early_stop_counter >= patience:\n",
        "            print(\"Early stopping triggered\")\n",
        "            break\n",
        "\n",
        "    print('Best val Acc: {:4f}'.format(best_acc))\n",
        "\n",
        "    # Load best model weights\n",
        "    model.load_state_dict(best_model_wts)\n",
        "\n",
        "    return model, train_loss_history, val_loss_history, train_acc_history, val_acc_history\n",
        "\n",
        "# Train the model\n",
        "vit_model, train_loss, val_loss, train_acc, val_acc = train_model(\n",
        "    vit_model, criterion, optimizer_ft, exp_lr_scheduler, num_epochs=50\n",
        ")\n",
        "\n",
        "# Plot accuracy and loss curves\n",
        "def plot_curves(train_loss, val_loss, train_acc, val_acc):\n",
        "    plt.figure(figsize=(10, 10))\n",
        "\n",
        "    # Plot Loss Curve\n",
        "    plt.subplot(2, 1, 1)\n",
        "    plt.plot(train_loss, label='Training Loss')\n",
        "    plt.plot(val_loss, label='Validation Loss')\n",
        "    plt.xlabel('Epochs')\n",
        "    plt.ylabel('Loss')\n",
        "    plt.title('Loss Curve')\n",
        "    plt.legend()\n",
        "\n",
        "    # Plot Accuracy Curve\n",
        "    plt.subplot(2, 1, 2)\n",
        "    plt.plot(train_acc, label='Training Accuracy')\n",
        "    plt.plot(val_acc, label='Validation Accuracy')\n",
        "    plt.xlabel('Epochs')\n",
        "    plt.ylabel('Accuracy')\n",
        "    plt.title('Accuracy Curve')\n",
        "    plt.legend()\n",
        "\n",
        "    plt.tight_layout()\n",
        "    plt.show()\n",
        "\n",
        "# Call plot function to visualize results\n",
        "plot_curves(train_loss, val_loss, train_acc, val_acc)\n"
      ],
      "metadata": {
        "colab": {
          "base_uri": "https://localhost:8080/",
          "height": 1000
        },
        "id": "izLdjn2dZTU8",
        "outputId": "2aea49f1-9047-4080-a111-dbcdc2d0ec1a"
      },
      "execution_count": null,
      "outputs": [
        {
          "output_type": "stream",
          "name": "stderr",
          "text": [
            "/usr/local/lib/python3.10/dist-packages/torchvision/models/_utils.py:223: UserWarning: Arguments other than a weight enum or `None` for 'weights' are deprecated since 0.13 and may be removed in the future. The current behavior is equivalent to passing `weights=ViT_B_16_Weights.IMAGENET1K_V1`. You can also use `weights=ViT_B_16_Weights.DEFAULT` to get the most up-to-date weights.\n",
            "  warnings.warn(msg)\n",
            "Downloading: \"https://download.pytorch.org/models/vit_b_16-c867db91.pth\" to /root/.cache/torch/hub/checkpoints/vit_b_16-c867db91.pth\n",
            "100%|██████████| 330M/330M [00:05<00:00, 59.3MB/s]\n"
          ]
        },
        {
          "output_type": "stream",
          "name": "stdout",
          "text": [
            "Epoch 0/49\n",
            "----------\n",
            "train Loss: 2.0054 Acc: 0.2687\n",
            "val Loss: 1.9052 Acc: 0.4188\n",
            "Epoch 1/49\n",
            "----------\n",
            "train Loss: 1.8001 Acc: 0.4609\n",
            "val Loss: 1.7295 Acc: 0.5500\n",
            "Epoch 2/49\n",
            "----------\n",
            "train Loss: 1.6317 Acc: 0.5281\n",
            "val Loss: 1.5343 Acc: 0.5687\n",
            "Epoch 3/49\n",
            "----------\n",
            "train Loss: 1.4772 Acc: 0.5563\n",
            "val Loss: 1.4170 Acc: 0.5750\n",
            "Epoch 4/49\n",
            "----------\n",
            "train Loss: 1.3038 Acc: 0.6219\n",
            "val Loss: 1.2977 Acc: 0.6250\n",
            "Epoch 5/49\n",
            "----------\n",
            "train Loss: 1.1883 Acc: 0.6641\n",
            "val Loss: 1.1824 Acc: 0.6375\n",
            "Epoch 6/49\n",
            "----------\n",
            "train Loss: 1.1543 Acc: 0.6438\n",
            "val Loss: 1.1117 Acc: 0.6500\n",
            "Epoch 7/49\n",
            "----------\n",
            "train Loss: 1.0708 Acc: 0.6656\n",
            "val Loss: 1.0667 Acc: 0.6750\n",
            "Epoch 8/49\n",
            "----------\n",
            "train Loss: 1.0768 Acc: 0.6625\n",
            "val Loss: 1.1172 Acc: 0.6313\n",
            "Epoch 9/49\n",
            "----------\n",
            "train Loss: 1.0979 Acc: 0.6406\n",
            "val Loss: 1.0931 Acc: 0.7000\n",
            "Epoch 10/49\n",
            "----------\n",
            "train Loss: 1.0456 Acc: 0.6719\n",
            "val Loss: 1.1047 Acc: 0.6250\n",
            "Epoch 11/49\n",
            "----------\n",
            "train Loss: 1.0676 Acc: 0.6484\n",
            "val Loss: 1.0940 Acc: 0.6938\n",
            "Epoch 12/49\n",
            "----------\n",
            "train Loss: 1.0601 Acc: 0.6734\n",
            "val Loss: 1.1356 Acc: 0.6438\n",
            "Epoch 13/49\n",
            "----------\n",
            "train Loss: 1.0562 Acc: 0.6484\n",
            "val Loss: 1.0688 Acc: 0.6688\n",
            "Epoch 14/49\n",
            "----------\n",
            "train Loss: 1.0453 Acc: 0.6734\n",
            "val Loss: 1.0877 Acc: 0.6250\n",
            "Epoch 15/49\n",
            "----------\n",
            "train Loss: 1.0379 Acc: 0.6969\n",
            "val Loss: 1.0804 Acc: 0.7000\n",
            "Epoch 16/49\n",
            "----------\n",
            "train Loss: 1.0348 Acc: 0.6797\n",
            "val Loss: 1.0781 Acc: 0.6813\n",
            "Epoch 17/49\n",
            "----------\n",
            "train Loss: 1.0426 Acc: 0.6938\n",
            "val Loss: 1.1231 Acc: 0.6125\n",
            "Epoch 18/49\n",
            "----------\n",
            "train Loss: 1.0698 Acc: 0.6313\n",
            "val Loss: 1.0301 Acc: 0.6375\n",
            "Epoch 19/49\n",
            "----------\n",
            "train Loss: 1.0507 Acc: 0.6672\n",
            "val Loss: 1.1068 Acc: 0.6688\n",
            "Early stopping triggered\n",
            "Best val Acc: 0.700000\n"
          ]
        },
        {
          "output_type": "display_data",
          "data": {
            "text/plain": [
              "<Figure size 1000x1000 with 2 Axes>"
            ],
            "image/png": "[encoded data removed]"
          },
          "metadata": {}
        }
      ]
    },
    {
      "cell_type": "markdown",
      "source": [
        "ViT (increased batch size)"
      ],
      "metadata": {
        "id": "qscu5twkRGTJ"
      }
    },
    {
      "cell_type": "code",
      "source": [
        "import torch\n",
        "import torch.nn as nn\n",
        "import torch.optim as optim\n",
        "from torch.optim import lr_scheduler\n",
        "from torchvision import datasets, transforms, models\n",
        "from torch.utils.data import DataLoader, random_split, WeightedRandomSampler\n",
        "import matplotlib.pyplot as plt\n",
        "import os\n",
        "import copy\n",
        "import numpy as np\n",
        "\n",
        "device = torch.device(\"cuda:0\" if torch.cuda.is_available() else \"cpu\")\n",
        "\n",
        "# Data augmentation and normalization\n",
        "data_transforms = {\n",
        "    'train': transforms.Compose([\n",
        "        transforms.RandomResizedCrop(224),\n",
        "        transforms.RandomHorizontalFlip(),\n",
        "        transforms.RandomRotation(20),\n",
        "        transforms.ColorJitter(brightness=0.2, contrast=0.2, saturation=0.2, hue=0.2),\n",
        "        transforms.ToTensor(),\n",
        "        transforms.Normalize([0.485, 0.456, 0.406], [0.229, 0.224, 0.225])\n",
        "    ]),\n",
        "    'val': transforms.Compose([\n",
        "        transforms.Resize(256),\n",
        "        transforms.CenterCrop(224),\n",
        "        transforms.ToTensor(),\n",
        "        transforms.Normalize([0.485, 0.456, 0.406], [0.229, 0.224, 0.225])\n",
        "    ]),\n",
        "}\n",
        "\n",
        "data_dir = '/content/drive/MyDrive/clothing_data'\n",
        "dataset = datasets.ImageFolder(data_dir, data_transforms['train'])\n",
        "\n",
        "# 80/20 split for training and validation sets\n",
        "train_size = int(0.8 * len(dataset))\n",
        "val_size = len(dataset) - train_size\n",
        "train_dataset, val_dataset = random_split(dataset, [train_size, val_size])\n",
        "\n",
        "# Balancing classes in training set\n",
        "train_targets = [dataset.targets[i] for i in train_dataset.indices]\n",
        "class_counts = np.bincount(train_targets)\n",
        "class_weights = 1. / class_counts\n",
        "sample_weights = [class_weights[t] for t in train_targets]\n",
        "sampler = WeightedRandomSampler(sample_weights, len(sample_weights))\n",
        "\n",
        "# Create dataloaders\n",
        "dataloaders = {\n",
        "    'train': DataLoader(train_dataset, batch_size=64, sampler=sampler, num_workers=4),  # Increased batch size\n",
        "    'val': DataLoader(val_dataset, batch_size=64, shuffle=False, num_workers=4)\n",
        "}\n",
        "dataset_sizes = {'train': len(train_dataset), 'val': len(val_dataset)}\n",
        "class_names = dataset.classes\n",
        "\n",
        "# Load Vision Transformer (ViT) pretrained model\n",
        "vit_model = models.vit_b_16(pretrained=True)\n",
        "\n",
        "# Unfreeze the last 2 transformer layers + classification head for fine-tuning\n",
        "for name, param in vit_model.named_parameters():\n",
        "    if 'encoder.layer.10' in name or 'encoder.layer.11' in name or 'heads' in name:\n",
        "        param.requires_grad = True\n",
        "    else:\n",
        "        param.requires_grad = False\n",
        "\n",
        "# Modify the classifier to match the number of classes in your dataset\n",
        "vit_model.heads = nn.Sequential(\n",
        "    nn.Linear(vit_model.heads.head.in_features, 512),\n",
        "    nn.ReLU(),\n",
        "    nn.Dropout(0.5),  # Dropout to reduce overfitting\n",
        "    nn.Linear(512, len(class_names))  # Output layer matching number of classes\n",
        ")\n",
        "\n",
        "vit_model = vit_model.to(device)\n",
        "\n",
        "# Loss function and optimizer (AdamW is better suited for transformers)\n",
        "criterion = nn.CrossEntropyLoss()\n",
        "optimizer_ft = optim.AdamW(vit_model.parameters(), lr=1e-4, weight_decay=1e-5)\n",
        "\n",
        "# Cosine Annealing Scheduler\n",
        "exp_lr_scheduler = lr_scheduler.CosineAnnealingLR(optimizer_ft, T_max=10)\n",
        "\n",
        "# Training function with early stopping and gradient accumulation\n",
        "def train_model(model, criterion, optimizer, scheduler, num_epochs=50, patience=10, accumulation_steps=2):\n",
        "    best_model_wts = copy.deepcopy(model.state_dict())\n",
        "    best_acc = 0.0\n",
        "    early_stop_counter = 0\n",
        "    train_loss_history, val_loss_history, train_acc_history, val_acc_history = [], [], [], []\n",
        "\n",
        "    for epoch in range(num_epochs):\n",
        "        print(f'Epoch {epoch}/{num_epochs - 1}')\n",
        "        print('-' * 10)\n",
        "\n",
        "        for phase in ['train', 'val']:\n",
        "            if phase == 'train':\n",
        "                model.train()\n",
        "            else:\n",
        "                model.eval()\n",
        "\n",
        "            running_loss = 0.0\n",
        "            running_corrects = 0\n",
        "\n",
        "            for i, (inputs, labels) in enumerate(dataloaders[phase]):\n",
        "                inputs = inputs.to(device)\n",
        "                labels = labels.to(device)\n",
        "                optimizer.zero_grad()\n",
        "\n",
        "                # Gradient accumulation logic\n",
        "                with torch.set_grad_enabled(phase == 'train'):\n",
        "                    outputs = model(inputs)\n",
        "                    _, preds = torch.max(outputs, 1)\n",
        "                    loss = criterion(outputs, labels)\n",
        "\n",
        "                    if phase == 'train':\n",
        "                        loss.backward()\n",
        "                        if (i + 1) % accumulation_steps == 0:  # Simulate larger batch size\n",
        "                            torch.nn.utils.clip_grad_norm_(model.parameters(), max_norm=1.0)\n",
        "                            optimizer.step()\n",
        "\n",
        "                running_loss += loss.item() * inputs.size(0)\n",
        "                running_corrects += torch.sum(preds == labels.data)\n",
        "\n",
        "            epoch_loss = running_loss / dataset_sizes[phase]\n",
        "            epoch_acc = running_corrects.double() / dataset_sizes[phase]\n",
        "\n",
        "            if phase == 'train':\n",
        "                scheduler.step()\n",
        "\n",
        "            print(f'{phase} Loss: {epoch_loss:.4f} Acc: {epoch_acc:.4f}')\n",
        "\n",
        "            if phase == 'train':\n",
        "                train_loss_history.append(epoch_loss)\n",
        "                train_acc_history.append(epoch_acc.item())\n",
        "            else:\n",
        "                val_loss_history.append(epoch_loss)\n",
        "                val_acc_history.append(epoch_acc.item())\n",
        "\n",
        "            # Early stopping and saving best model\n",
        "            if phase == 'val' and epoch_acc > best_acc:\n",
        "                best_acc = epoch_acc\n",
        "                best_model_wts = copy.deepcopy(model.state_dict())\n",
        "                early_stop_counter = 0\n",
        "            elif phase == 'val':\n",
        "                early_stop_counter += 1\n",
        "\n",
        "        if early_stop_counter >= patience:\n",
        "            print(\"Early stopping triggered\")\n",
        "            break\n",
        "\n",
        "    print('Best val Acc: {:4f}'.format(best_acc))\n",
        "    model.load_state_dict(best_model_wts)\n",
        "    return model, train_loss_history, val_loss_history, train_acc_history, val_acc_history\n",
        "\n",
        "# Train the model\n",
        "vit_model, train_loss, val_loss, train_acc, val_acc = train_model(\n",
        "    vit_model, criterion, optimizer_ft, exp_lr_scheduler, num_epochs=50\n",
        ")\n",
        "\n",
        "# Plot accuracy and loss curves\n",
        "def plot_curves(train_loss, val_loss, train_acc, val_acc):\n",
        "    plt.figure(figsize=(10, 10))\n",
        "\n",
        "    # Plot Loss Curve\n",
        "    plt.subplot(2, 1, 1)\n",
        "    plt.plot(train_loss, label='Training Loss')\n",
        "    plt.plot(val_loss, label='Validation Loss')\n",
        "    plt.xlabel('Epochs')\n",
        "    plt.ylabel('Loss')\n",
        "    plt.title('Loss Curve')\n",
        "    plt.legend()\n",
        "\n",
        "    # Plot Accuracy Curve\n",
        "    plt.subplot(2, 1, 2)\n",
        "    plt.plot(train_acc, label='Training Accuracy')\n",
        "    plt.plot(val_acc, label='Validation Accuracy')\n",
        "    plt.xlabel('Epochs')\n",
        "    plt.ylabel('Accuracy')\n",
        "    plt.title('Accuracy Curve')\n",
        "    plt.legend()\n",
        "\n",
        "    plt.tight_layout()\n",
        "    plt.show()\n",
        "\n",
        "# Call plot function to visualize results\n",
        "plot_curves(train_loss, val_loss, train_acc, val_acc)\n"
      ],
      "metadata": {
        "colab": {
          "base_uri": "https://localhost:8080/",
          "height": 1000
        },
        "id": "HmWbWiTEfzK4",
        "outputId": "fc28a5c1-67f0-4918-f1a3-718178c940b3"
      },
      "execution_count": null,
      "outputs": [
        {
          "output_type": "stream",
          "name": "stderr",
          "text": [
            "/usr/local/lib/python3.10/dist-packages/torchvision/models/_utils.py:223: UserWarning: Arguments other than a weight enum or `None` for 'weights' are deprecated since 0.13 and may be removed in the future. The current behavior is equivalent to passing `weights=ViT_B_16_Weights.IMAGENET1K_V1`. You can also use `weights=ViT_B_16_Weights.DEFAULT` to get the most up-to-date weights.\n",
            "  warnings.warn(msg)\n"
          ]
        },
        {
          "output_type": "stream",
          "name": "stdout",
          "text": [
            "Epoch 0/49\n",
            "----------\n",
            "train Loss: 2.0805 Acc: 0.1266\n",
            "val Loss: 2.0179 Acc: 0.2125\n",
            "Epoch 1/49\n",
            "----------\n",
            "train Loss: 2.0042 Acc: 0.2188\n",
            "val Loss: 1.9479 Acc: 0.3500\n",
            "Epoch 2/49\n",
            "----------\n",
            "train Loss: 1.9264 Acc: 0.3109\n",
            "val Loss: 1.9037 Acc: 0.3938\n",
            "Epoch 3/49\n",
            "----------\n",
            "train Loss: 1.8826 Acc: 0.3828\n",
            "val Loss: 1.8551 Acc: 0.4688\n",
            "Epoch 4/49\n",
            "----------\n",
            "train Loss: 1.8415 Acc: 0.4219\n",
            "val Loss: 1.8361 Acc: 0.4563\n",
            "Epoch 5/49\n",
            "----------\n",
            "train Loss: 1.7958 Acc: 0.4578\n",
            "val Loss: 1.7859 Acc: 0.4375\n",
            "Epoch 6/49\n",
            "----------\n",
            "train Loss: 1.7767 Acc: 0.4750\n",
            "val Loss: 1.7601 Acc: 0.5188\n",
            "Epoch 7/49\n",
            "----------\n",
            "train Loss: 1.7379 Acc: 0.5000\n",
            "val Loss: 1.7671 Acc: 0.5000\n",
            "Epoch 8/49\n",
            "----------\n",
            "train Loss: 1.7224 Acc: 0.5234\n",
            "val Loss: 1.7581 Acc: 0.4750\n",
            "Epoch 9/49\n",
            "----------\n",
            "train Loss: 1.7647 Acc: 0.4641\n",
            "val Loss: 1.7345 Acc: 0.4875\n",
            "Epoch 10/49\n",
            "----------\n",
            "train Loss: 1.7218 Acc: 0.5375\n",
            "val Loss: 1.7529 Acc: 0.5125\n",
            "Epoch 11/49\n",
            "----------\n",
            "train Loss: 1.7258 Acc: 0.5078\n",
            "val Loss: 1.7357 Acc: 0.5250\n",
            "Epoch 12/49\n",
            "----------\n",
            "train Loss: 1.7219 Acc: 0.5109\n",
            "val Loss: 1.7353 Acc: 0.4938\n",
            "Epoch 13/49\n",
            "----------\n",
            "train Loss: 1.7312 Acc: 0.5016\n",
            "val Loss: 1.7379 Acc: 0.4688\n",
            "Epoch 14/49\n",
            "----------\n",
            "train Loss: 1.7369 Acc: 0.4531\n",
            "val Loss: 1.7134 Acc: 0.5250\n",
            "Epoch 15/49\n",
            "----------\n",
            "train Loss: 1.6924 Acc: 0.5219\n",
            "val Loss: 1.6860 Acc: 0.5188\n",
            "Epoch 16/49\n",
            "----------\n",
            "train Loss: 1.6531 Acc: 0.5016\n",
            "val Loss: 1.6649 Acc: 0.5312\n",
            "Epoch 17/49\n",
            "----------\n",
            "train Loss: 1.6125 Acc: 0.5375\n",
            "val Loss: 1.6023 Acc: 0.5438\n",
            "Epoch 18/49\n",
            "----------\n",
            "train Loss: 1.5736 Acc: 0.5422\n",
            "val Loss: 1.5854 Acc: 0.5250\n",
            "Epoch 19/49\n",
            "----------\n",
            "train Loss: 1.5243 Acc: 0.5781\n",
            "val Loss: 1.4571 Acc: 0.6188\n",
            "Epoch 20/49\n",
            "----------\n",
            "train Loss: 1.4426 Acc: 0.6016\n",
            "val Loss: 1.4495 Acc: 0.6313\n",
            "Epoch 21/49\n",
            "----------\n",
            "train Loss: 1.4081 Acc: 0.6000\n",
            "val Loss: 1.3909 Acc: 0.5938\n",
            "Epoch 22/49\n",
            "----------\n",
            "train Loss: 1.3404 Acc: 0.6219\n",
            "val Loss: 1.3719 Acc: 0.5687\n",
            "Epoch 23/49\n",
            "----------\n",
            "train Loss: 1.3281 Acc: 0.6344\n",
            "val Loss: 1.3768 Acc: 0.5312\n",
            "Epoch 24/49\n",
            "----------\n",
            "train Loss: 1.3018 Acc: 0.6391\n",
            "val Loss: 1.3371 Acc: 0.6250\n",
            "Epoch 25/49\n",
            "----------\n",
            "train Loss: 1.2551 Acc: 0.6484\n",
            "val Loss: 1.2675 Acc: 0.6063\n",
            "Epoch 26/49\n",
            "----------\n",
            "train Loss: 1.2613 Acc: 0.6625\n",
            "val Loss: 1.2280 Acc: 0.6250\n",
            "Epoch 27/49\n",
            "----------\n",
            "train Loss: 1.2644 Acc: 0.6172\n",
            "val Loss: 1.2937 Acc: 0.6313\n",
            "Epoch 28/49\n",
            "----------\n",
            "train Loss: 1.2221 Acc: 0.6703\n",
            "val Loss: 1.3063 Acc: 0.5938\n",
            "Epoch 29/49\n",
            "----------\n",
            "train Loss: 1.2059 Acc: 0.6484\n",
            "val Loss: 1.2397 Acc: 0.6438\n",
            "Epoch 30/49\n",
            "----------\n",
            "train Loss: 1.2556 Acc: 0.6391\n",
            "val Loss: 1.2717 Acc: 0.5938\n",
            "Epoch 31/49\n",
            "----------\n",
            "train Loss: 1.2555 Acc: 0.6219\n",
            "val Loss: 1.2521 Acc: 0.6313\n",
            "Epoch 32/49\n",
            "----------\n",
            "train Loss: 1.2054 Acc: 0.6562\n",
            "val Loss: 1.2512 Acc: 0.6313\n",
            "Epoch 33/49\n",
            "----------\n",
            "train Loss: 1.2398 Acc: 0.6281\n",
            "val Loss: 1.2973 Acc: 0.6188\n",
            "Epoch 34/49\n",
            "----------\n",
            "train Loss: 1.2302 Acc: 0.6438\n",
            "val Loss: 1.2410 Acc: 0.5813\n",
            "Epoch 35/49\n",
            "----------\n",
            "train Loss: 1.2209 Acc: 0.6281\n",
            "val Loss: 1.2186 Acc: 0.6313\n",
            "Epoch 36/49\n",
            "----------\n",
            "train Loss: 1.2108 Acc: 0.6281\n",
            "val Loss: 1.2585 Acc: 0.5687\n",
            "Epoch 37/49\n",
            "----------\n",
            "train Loss: 1.1565 Acc: 0.6828\n",
            "val Loss: 1.2026 Acc: 0.6188\n",
            "Epoch 38/49\n",
            "----------\n",
            "train Loss: 1.2172 Acc: 0.6281\n",
            "val Loss: 1.2036 Acc: 0.6375\n",
            "Epoch 39/49\n",
            "----------\n",
            "train Loss: 1.1546 Acc: 0.6000\n",
            "val Loss: 1.1535 Acc: 0.6313\n",
            "Early stopping triggered\n",
            "Best val Acc: 0.643750\n"
          ]
        },
        {
          "output_type": "display_data",
          "data": {
            "text/plain": [
              "<Figure size 1000x1000 with 2 Axes>"
            ],
            "image/png": "[encoded data removed]"
          },
          "metadata": {}
        }
      ]
    },
    {
      "cell_type": "code",
      "source": [],
      "metadata": {
        "id": "GwPGIGailzY7"
      },
      "execution_count": null,
      "outputs": []
    },
    {
      "cell_type": "markdown",
      "source": [
        "Combined models"
      ],
      "metadata": {
        "id": "QvLo5Uh6RSyR"
      }
    },
    {
      "cell_type": "code",
      "source": [
        "import torch\n",
        "import torch.nn as nn\n",
        "from torchvision import models\n",
        "\n",
        "# Define a custom model that combines DenseNet and MobileNetV3\n",
        "class CombinedModel(nn.Module):\n",
        "    def __init__(self, num_classes):\n",
        "        super(CombinedModel, self).__init__()\n",
        "\n",
        "        # Load pre-trained DenseNet (from torchvision)\n",
        "        self.densenet = models.densenet121(weights=models.DenseNet121_Weights.IMAGENET1K_V1)  # You can choose different variants\n",
        "        self.densenet_features = nn.Sequential(*list(self.densenet.children())[:-1])  # Remove the classifier\n",
        "\n",
        "        # Load pre-trained MobileNetV3 from torchvision\n",
        "        self.mobilenet = models.mobilenet_v3_large(weights=models.MobileNet_V3_Large_Weights.IMAGENET1K_V1)\n",
        "        self.mobilenet_features = nn.Sequential(*list(self.mobilenet.children())[:-1])  # Remove the classifier\n",
        "\n",
        "        # Combine feature maps from both models\n",
        "        # Calculate the actual combined_feature_size after flattening and concatenating\n",
        "        dummy_input = torch.randn(1, 3, 224, 224)  # Example input\n",
        "        densenet_features_shape = self.densenet_features(dummy_input).view(1, -1).shape[1]\n",
        "        mobilenet_features_shape = self.mobilenet_features(dummy_input).view(1, -1).shape[1]\n",
        "        self.combined_feature_size = densenet_features_shape + mobilenet_features_shape\n",
        "\n",
        "\n",
        "        # New classification head that combines both feature extractors\n",
        "        self.classifier = nn.Sequential(\n",
        "            nn.Linear(self.combined_feature_size, 512), # Adjust the input size of the first Linear layer\n",
        "            nn.ReLU(),\n",
        "            nn.Dropout(0.4),\n",
        "            nn.Linear(512, num_classes)\n",
        "        )\n",
        "\n",
        "    def forward(self, x):\n",
        "        # Extract features from DenseNet\n",
        "        densenet_features = self.densenet_features(x)\n",
        "        densenet_features = densenet_features.view(densenet_features.size(0), -1)\n",
        "\n",
        "        # Extract features from MobileNetV3\n",
        "        mobilenet_features = self.mobilenet_features(x)\n",
        "        mobilenet_features = mobilenet_features.view(mobilenet_features.size(0), -1)\n",
        "\n",
        "        # Concatenate features from both models\n",
        "        combined_features = torch.cat((densenet_features, mobilenet_features), dim=1)\n",
        "\n",
        "        # Pass through classifier\n",
        "        out = self.classifier(combined_features)\n",
        "        return out\n",
        "\n",
        "# Create the model\n",
        "num_classes = 8  # Adjust this based on the number of classes in your dataset\n",
        "model = CombinedModel(num_classes)"
      ],
      "metadata": {
        "id": "x8Babe0_qyu0"
      },
      "execution_count": null,
      "outputs": []
    },
    {
      "cell_type": "code",
      "source": [
        "from torchvision import datasets, transforms\n",
        "from torch.utils.data import DataLoader, random_split\n",
        "\n",
        "# Define dataset path (replace 'your_dataset_folder' with the actual folder path)\n",
        "data_dir = '/content/drive/MyDrive/clothing_data'  # Path to your dataset folder where each class is a subfolder\n",
        "\n",
        "# Define transformations (resize to 224x224 for DenseNet and MobileNet, normalize)\n",
        "transform = transforms.Compose([\n",
        "    transforms.Resize((224, 224)),  # Both models expect 224x224 input size\n",
        "    transforms.ToTensor(),\n",
        "    transforms.Normalize((0.5, 0.5, 0.5), (0.5, 0.5, 0.5))  # Adjust these values based on your dataset's mean/std\n",
        "])\n",
        "\n",
        "# Load dataset using ImageFolder\n",
        "dataset = datasets.ImageFolder(root=data_dir, transform=transform)\n",
        "\n",
        "# Split the dataset into train and test sets (80% train, 20% test)\n",
        "train_size = int(0.8 * len(dataset))\n",
        "test_size = len(dataset) - train_size\n",
        "train_dataset, test_dataset = random_split(dataset, [train_size, test_size])\n",
        "\n",
        "# Create data loaders for training and testing\n",
        "train_loader = DataLoader(train_dataset, batch_size=32, shuffle=True)\n",
        "test_loader = DataLoader(test_dataset, batch_size=32, shuffle=False)\n",
        "\n",
        "# Print dataset info\n",
        "print(f'Total images: {len(dataset)}, Train size: {train_size}, Test size: {test_size}')\n"
      ],
      "metadata": {
        "colab": {
          "base_uri": "https://localhost:8080/"
        },
        "id": "rwnU078Hqzmr",
        "outputId": "c4967906-5163-4599-dc73-c16b3c2234de"
      },
      "execution_count": null,
      "outputs": [
        {
          "output_type": "stream",
          "name": "stdout",
          "text": [
            "Total images: 800, Train size: 640, Test size: 160\n"
          ]
        }
      ]
    },
    {
      "cell_type": "code",
      "source": [
        "import torch.optim as optim\n",
        "from sklearn.metrics import accuracy_score\n",
        "\n",
        "# Loss function and optimizer\n",
        "criterion = nn.CrossEntropyLoss()\n",
        "optimizer = optim.Adam(model.parameters(), lr=0.001)\n",
        "\n",
        "# Training function\n",
        "def train_model(model, train_loader, criterion, optimizer, num_epochs=10):\n",
        "    model.train()\n",
        "    for epoch in range(num_epochs):\n",
        "        running_loss = 0.0\n",
        "        for images, labels in train_loader:\n",
        "            images, labels = images.cuda(), labels.cuda()  # Move data to GPU if available\n",
        "\n",
        "            optimizer.zero_grad()\n",
        "\n",
        "            outputs = model(images)\n",
        "            loss = criterion(outputs, labels)\n",
        "            loss.backward()\n",
        "            optimizer.step()\n",
        "\n",
        "            running_loss += loss.item()\n",
        "\n",
        "        print(f'Epoch [{epoch+1}/{num_epochs}], Loss: {running_loss/len(train_loader)}')\n",
        "\n",
        "# Evaluation function\n",
        "def evaluate_model(model, test_loader):\n",
        "    model.eval()\n",
        "    y_true = []\n",
        "    y_pred = []\n",
        "\n",
        "    with torch.no_grad():\n",
        "        for images, labels in test_loader:\n",
        "            images, labels = images.cuda(), labels.cuda()\n",
        "\n",
        "            outputs = model(images)\n",
        "            _, predicted = torch.max(outputs.data, 1)\n",
        "\n",
        "            y_true.extend(labels.cpu().numpy())\n",
        "            y_pred.extend(predicted.cpu().numpy())\n",
        "\n",
        "    accuracy = accuracy_score(y_true, y_pred)\n",
        "    print(f'Accuracy: {accuracy * 100:.2f}%')\n",
        "\n",
        "# Move model to GPU if available\n",
        "device = torch.device('cuda' if torch.cuda.is_available() else 'cpu')\n",
        "model = model.to(device)\n",
        "\n",
        "# Train the model\n",
        "train_model(model, train_loader, criterion, optimizer, num_epochs=50)\n",
        "\n",
        "# Evaluate the model\n",
        "evaluate_model(model, test_loader)\n"
      ],
      "metadata": {
        "colab": {
          "base_uri": "https://localhost:8080/"
        },
        "id": "PB50CqkYsodn",
        "outputId": "d5aee657-4bfa-4e4e-dafc-667ac7202a9b"
      },
      "execution_count": null,
      "outputs": [
        {
          "output_type": "stream",
          "name": "stdout",
          "text": [
            "Epoch [1/50], Loss: 0.9406458265264519\n",
            "Epoch [2/50], Loss: 0.8567812746390701\n",
            "Epoch [3/50], Loss: 0.6796706192195415\n",
            "Epoch [4/50], Loss: 0.4863005498424172\n",
            "Epoch [5/50], Loss: 0.3449641834944487\n",
            "Epoch [6/50], Loss: 0.5019818891771137\n",
            "Epoch [7/50], Loss: 0.7176395894959569\n",
            "Epoch [8/50], Loss: 0.6250823875889182\n",
            "Epoch [9/50], Loss: 0.3687117577530444\n",
            "Epoch [10/50], Loss: 0.5490681458730251\n",
            "Epoch [11/50], Loss: 0.551289788633585\n",
            "Epoch [12/50], Loss: 0.3234083809889853\n",
            "Epoch [13/50], Loss: 0.47628267370164395\n",
            "Epoch [14/50], Loss: 0.4041450074175373\n",
            "Epoch [15/50], Loss: 0.40891858004033566\n",
            "Epoch [16/50], Loss: 0.36071891337633133\n",
            "Epoch [17/50], Loss: 0.18090791168506257\n",
            "Epoch [18/50], Loss: 0.5593602817156352\n",
            "Epoch [19/50], Loss: 0.5402995761483907\n",
            "Epoch [20/50], Loss: 0.5216265772702172\n",
            "Epoch [21/50], Loss: 0.49028128702193496\n",
            "Epoch [22/50], Loss: 0.2057692177593708\n",
            "Epoch [23/50], Loss: 0.21383328361989698\n",
            "Epoch [24/50], Loss: 0.13980010193481576\n",
            "Epoch [25/50], Loss: 0.14325192144679022\n",
            "Epoch [26/50], Loss: 0.10564519907493378\n",
            "Epoch [27/50], Loss: 0.21242044726359383\n",
            "Epoch [28/50], Loss: 0.22714367407606914\n",
            "Epoch [29/50], Loss: 0.18342551470268517\n",
            "Epoch [30/50], Loss: 0.09618972950847819\n",
            "Epoch [31/50], Loss: 0.06783512841220726\n",
            "Epoch [32/50], Loss: 0.10054701704648324\n",
            "Epoch [33/50], Loss: 0.09861104415344926\n",
            "Epoch [34/50], Loss: 0.057785548032188674\n",
            "Epoch [35/50], Loss: 0.01565429652291641\n",
            "Epoch [36/50], Loss: 0.060700173992518106\n",
            "Epoch [37/50], Loss: 0.031542310714712585\n",
            "Epoch [38/50], Loss: 0.03420079461507157\n",
            "Epoch [39/50], Loss: 0.022952335288573524\n",
            "Epoch [40/50], Loss: 0.06957337675512747\n",
            "Epoch [41/50], Loss: 0.02910583854528852\n",
            "Epoch [42/50], Loss: 0.04801634695677422\n",
            "Epoch [43/50], Loss: 0.062325760159728814\n",
            "Epoch [44/50], Loss: 0.045266465155054905\n",
            "Epoch [45/50], Loss: 0.04189221358610666\n",
            "Epoch [46/50], Loss: 0.03868912478319544\n",
            "Epoch [47/50], Loss: 0.12092509188273652\n",
            "Epoch [48/50], Loss: 0.1997202995746193\n",
            "Epoch [49/50], Loss: 0.13968227839795871\n",
            "Epoch [50/50], Loss: 0.20761023867344192\n",
            "Accuracy: 76.25%\n"
          ]
        }
      ]
    },
    {
      "cell_type": "code",
      "source": [
        "import torch\n",
        "import torch.nn as nn\n",
        "import torch.optim as optim\n",
        "from torchvision import datasets, transforms, models\n",
        "from torch.utils.data import DataLoader, random_split\n",
        "from sklearn.metrics import accuracy_score, roc_auc_score, roc_curve, classification_report, confusion_matrix\n",
        "import matplotlib.pyplot as plt\n",
        "import seaborn as sns\n",
        "import numpy as np\n",
        "import os\n",
        "\n",
        "# Additional imports for ROC, AUC, and Confusion Matrix\n",
        "from sklearn.preprocessing import label_binarize\n",
        "from itertools import cycle\n",
        "\n",
        "# Define Attention Layer (Squeeze-and-Excitation style)\n",
        "class AttentionLayer(nn.Module):\n",
        "    def __init__(self, input_size, reduction=16):\n",
        "        super(AttentionLayer, self).__init__()\n",
        "        self.fc1 = nn.Linear(input_size, input_size // reduction, bias=False)\n",
        "        self.relu = nn.ReLU()\n",
        "        self.fc2 = nn.Linear(input_size // reduction, input_size, bias=False)\n",
        "        self.sigmoid = nn.Sigmoid()\n",
        "\n",
        "    def forward(self, x):\n",
        "        attn = self.fc1(x)\n",
        "        attn = self.relu(attn)\n",
        "        attn = self.fc2(attn)\n",
        "        attn = self.sigmoid(attn)\n",
        "        return x * attn  # Scale the features with attention weights\n",
        "\n",
        "# Combined DenseNet and MobileNet model with Attention, Dropout, and Regularization\n",
        "class CombinedModel(nn.Module):\n",
        "    def __init__(self, num_classes):\n",
        "        super(CombinedModel, self).__init__()\n",
        "\n",
        "        # Load pre-trained DenseNet (from torchvision)\n",
        "        self.densenet = models.densenet121(weights=models.DenseNet121_Weights.IMAGENET1K_V1)\n",
        "        self.densenet_features = nn.Sequential(*list(self.densenet.children())[:-1])  # Remove classifier\n",
        "\n",
        "        # Load pre-trained MobileNetV3 from torchvision\n",
        "        self.mobilenet = models.mobilenet_v3_large(weights=models.MobileNet_V3_Large_Weights.IMAGENET1K_V1)\n",
        "        self.mobilenet_features = nn.Sequential(*list(self.mobilenet.children())[:-1])  # Remove classifier\n",
        "\n",
        "        # Global Average Pooling (GAP) after feature extraction\n",
        "        self.gap = nn.AdaptiveAvgPool2d(1)  # Adaptive pooling to (1, 1)\n",
        "\n",
        "        # Calculate the actual combined feature size dynamically based on the models\n",
        "        self.densenet_feature_size = self.densenet.classifier.in_features\n",
        "        self.mobilenet_feature_size = self.mobilenet.classifier[0].in_features\n",
        "        self.combined_feature_size = self.densenet_feature_size + self.mobilenet_feature_size\n",
        "\n",
        "        # Attention layer for combined features\n",
        "        self.attention = AttentionLayer(self.combined_feature_size)\n",
        "\n",
        "        # Classification head (with dropout to avoid overfitting)\n",
        "        self.classifier = nn.Sequential(\n",
        "            nn.Linear(self.combined_feature_size, 1024),\n",
        "            nn.ReLU(),\n",
        "            nn.Dropout(0.5),  # Increase dropout for regularization\n",
        "            nn.Linear(1024, 512),\n",
        "            nn.ReLU(),\n",
        "            nn.Dropout(0.5),  # Another dropout layer\n",
        "            nn.Linear(512, num_classes)\n",
        "        )\n",
        "\n",
        "    def forward(self, x):\n",
        "        # Extract features from DenseNet\n",
        "        densenet_features = self.densenet_features(x)\n",
        "        densenet_features = self.gap(densenet_features)  # Apply GAP\n",
        "        densenet_features = densenet_features.view(densenet_features.size(0), -1)\n",
        "\n",
        "        # Extract features from MobileNet\n",
        "        mobilenet_features = self.mobilenet_features(x)\n",
        "        mobilenet_features = self.gap(mobilenet_features)  # Apply GAP\n",
        "        mobilenet_features = mobilenet_features.view(mobilenet_features.size(0), -1)\n",
        "\n",
        "        # Concatenate the feature maps\n",
        "        combined_features = torch.cat((densenet_features, mobilenet_features), dim=1)\n",
        "\n",
        "        # Pass through attention mechanism\n",
        "        combined_features = self.attention(combined_features)\n",
        "\n",
        "        # Classification head\n",
        "        out = self.classifier(combined_features)\n",
        "        return out\n",
        "\n",
        "# Data Augmentation: Enhanced with random cropping, color jitter, etc.\n",
        "train_transform = transforms.Compose([\n",
        "    transforms.RandomResizedCrop(224),  # Random crop and resize to 224x224\n",
        "    transforms.RandomHorizontalFlip(),  # Random horizontal flip\n",
        "    transforms.ColorJitter(brightness=0.4, contrast=0.4, saturation=0.4, hue=0.2),  # Random color jitter\n",
        "    transforms.ToTensor(),\n",
        "    transforms.Normalize((0.5, 0.5, 0.5), (0.5, 0.5, 0.5))\n",
        "])\n",
        "\n",
        "test_transform = transforms.Compose([\n",
        "    transforms.Resize((224, 224)),  # Resize for consistency\n",
        "    transforms.ToTensor(),\n",
        "    transforms.Normalize((0.5, 0.5, 0.5), (0.5, 0.5, 0.5))\n",
        "])\n",
        "\n",
        "# Load dataset using ImageFolder\n",
        "data_dir = '/content/drive/MyDrive/clothing_data'\n",
        "dataset = datasets.ImageFolder(root=data_dir, transform=train_transform)\n",
        "\n",
        "# Split the dataset into train and test sets\n",
        "train_size = int(0.8 * len(dataset))\n",
        "test_size = len(dataset) - train_size\n",
        "train_dataset, test_dataset = random_split(dataset, [train_size, test_size])\n",
        "\n",
        "# DataLoader\n",
        "train_loader = DataLoader(train_dataset, batch_size=32, shuffle=True)\n",
        "test_loader = DataLoader(test_dataset, batch_size=32, shuffle=False)\n",
        "\n",
        "# Model Checkpointing (save the model with the lowest validation loss)\n",
        "def save_model(model, optimizer, epoch, loss, path='best_model.pth'):\n",
        "    state = {\n",
        "        'model': model.state_dict(),\n",
        "        'optimizer': optimizer.state_dict(),\n",
        "        'epoch': epoch,\n",
        "        'loss': loss\n",
        "    }\n",
        "    torch.save(state, path)\n",
        "\n",
        "# Training and Evaluation Functions\n",
        "def train_model(model, train_loader, test_loader, criterion, optimizer, num_epochs=10):\n",
        "    best_loss = float('inf')\n",
        "    for epoch in range(num_epochs):\n",
        "        model.train()\n",
        "        running_loss = 0.0\n",
        "        for images, labels in train_loader:\n",
        "            images, labels = images.cuda(), labels.cuda()\n",
        "\n",
        "            optimizer.zero_grad()\n",
        "            outputs = model(images)\n",
        "            loss = criterion(outputs, labels)\n",
        "            loss.backward()\n",
        "            optimizer.step()\n",
        "\n",
        "            running_loss += loss.item()\n",
        "\n",
        "        avg_train_loss = running_loss / len(train_loader)\n",
        "        print(f'Epoch [{epoch+1}/{num_epochs}], Train Loss: {avg_train_loss:.4f}')\n",
        "\n",
        "        # Validate model after each epoch\n",
        "        avg_val_loss = validate_model(model, test_loader, criterion)\n",
        "        print(f'Epoch [{epoch+1}/{num_epochs}], Val Loss: {avg_val_loss:.4f}')\n",
        "\n",
        "        # Save the model with the lowest validation loss\n",
        "        if avg_val_loss < best_loss:\n",
        "            best_loss = avg_val_loss\n",
        "            save_model(model, optimizer, epoch, best_loss)\n",
        "            print(f\"Model saved at epoch {epoch+1} with validation loss {best_loss:.4f}\")\n",
        "\n",
        "def validate_model(model, test_loader, criterion):\n",
        "    model.eval()\n",
        "    val_loss = 0.0\n",
        "    with torch.no_grad():\n",
        "        for images, labels in test_loader:\n",
        "            images, labels = images.cuda(), labels.cuda()\n",
        "            outputs = model(images)\n",
        "            loss = criterion(outputs, labels)\n",
        "            val_loss += loss.item()\n",
        "    return val_loss / len(test_loader)\n",
        "\n",
        "def evaluate_model(model, test_loader):\n",
        "    model.eval()\n",
        "    y_true = []\n",
        "    y_pred = []\n",
        "    with torch.no_grad():\n",
        "        for images, labels in test_loader:\n",
        "            images, labels = images.cuda(), labels.cuda()\n",
        "            outputs = model(images)\n",
        "            _, predicted = torch.max(outputs, 1)\n",
        "            y_true.extend(labels.cpu().numpy())\n",
        "            y_pred.extend(predicted.cpu().numpy())\n",
        "\n",
        "    accuracy = accuracy_score(y_true, y_pred)\n",
        "    print(f'Accuracy: {accuracy * 100:.2f}%')\n",
        "\n",
        "# Instantiate the model, criterion, and optimizer\n",
        "num_classes = 8  # Adjust this based on your dataset\n",
        "model = CombinedModel(num_classes).cuda()\n",
        "\n",
        "# Use CrossEntropyLoss and Adam optimizer with weight decay (L2 regularization)\n",
        "criterion = nn.CrossEntropyLoss()\n",
        "optimizer = optim.Adam(model.parameters(), lr=0.001, weight_decay=1e-4)\n",
        "\n",
        "# Train and Evaluate the Model\n",
        "train_model(model, train_loader, test_loader, criterion, optimizer, num_epochs=10)\n",
        "\n",
        "# Load the best saved model for final evaluation\n",
        "checkpoint = torch.load('best_model.pth')\n",
        "model.load_state_dict(checkpoint['model'])\n",
        "evaluate_model(model, test_loader)\n",
        "\n",
        "# Evaluation function to include AUC, ROC, Classification Report, and Confusion Matrix\n",
        "def evaluate_model(model, test_loader, num_classes):\n",
        "    model.eval()\n",
        "    y_true = []\n",
        "    y_pred = []\n",
        "    y_prob = []\n",
        "\n",
        "    with torch.no_grad():\n",
        "        for images, labels in test_loader:\n",
        "            images, labels = images.cuda(), labels.cuda()\n",
        "\n",
        "            outputs = model(images)\n",
        "            probabilities = torch.softmax(outputs, dim=1)  # Get probabilities for AUC/ROC\n",
        "\n",
        "            _, predicted = torch.max(outputs, 1)\n",
        "\n",
        "            y_true.extend(labels.cpu().numpy())\n",
        "            y_pred.extend(predicted.cpu().numpy())\n",
        "            y_prob.extend(probabilities.cpu().numpy())\n",
        "\n",
        "    # Classification Report\n",
        "    print(\"Classification Report:\\n\")\n",
        "    print(classification_report(y_true, y_pred))\n",
        "\n",
        "    # Confusion Matrix\n",
        "    print(\"Confusion Matrix:\\n\")\n",
        "    cm = confusion_matrix(y_true, y_pred)\n",
        "    plt.figure(figsize=(8, 6))\n",
        "    sns.heatmap(cm, annot=True, fmt='d', cmap='Blues', xticklabels=range(num_classes), yticklabels=range(num_classes))\n",
        "    plt.title('Confusion Matrix')\n",
        "    plt.ylabel('True Label')\n",
        "    plt.xlabel('Predicted Label')\n",
        "    plt.show()\n",
        "\n",
        "    # ROC Curve and AUC for each class\n",
        "    y_true_bin = label_binarize(y_true, classes=range(num_classes))  # Binarize labels for multi-class ROC\n",
        "    fpr = dict()\n",
        "    tpr = dict()\n",
        "    roc_auc = dict()\n",
        "\n",
        "    for i in range(num_classes):\n",
        "        fpr[i], tpr[i], _ = roc_curve(y_true_bin[:, i], np.array(y_prob)[:, i])\n",
        "        roc_auc[i] = roc_auc_score(y_true_bin[:, i], np.array(y_prob)[:, i])\n",
        "\n",
        "    # Plot ROC curve for each class\n",
        "    plt.figure()\n",
        "    colors = cycle(['aqua', 'darkorange', 'cornflowerblue', 'red', 'green', 'purple', 'brown', 'pink', 'gray', 'yellow'])\n",
        "    for i, color in zip(range(num_classes), colors):\n",
        "        plt.plot(fpr[i], tpr[i], color=color, lw=2, label=f'Class {i} (area = {roc_auc[i]:.2f})')\n",
        "\n",
        "    plt.plot([0, 1], [0, 1], 'k--', lw=2)\n",
        "    plt.xlim([0.0, 1.0])\n",
        "    plt.ylim([0.0, 1.05])\n",
        "    plt.xlabel('False Positive Rate')\n",
        "    plt.ylabel('True Positive Rate')\n",
        "    plt.title('Receiver Operating Characteristic (ROC) Curve')\n",
        "    plt.legend(loc=\"lower right\")\n",
        "    plt.show()\n",
        "\n",
        "    # AUC Score (micro-average)\n",
        "    print(f'AUC (micro-average): {roc_auc_score(y_true_bin, y_prob, average=\"micro\"):.4f}')\n",
        "\n",
        "# Train and Validate as before (without changes)\n",
        "\n",
        "# Load the best saved model for final evaluation\n",
        "checkpoint = torch.load('best_model.pth')\n",
        "model.load_state_dict(checkpoint['model'])\n",
        "\n",
        "# Evaluate the model with AUC, ROC, and Confusion Matrix\n",
        "evaluate_model(model, test_loader, num_classes=num_classes)"
      ],
      "metadata": {
        "colab": {
          "base_uri": "https://localhost:8080/",
          "height": 408
        },
        "id": "XS8XyDZEsufq",
        "outputId": "910e3d23-1435-4d48-9cf2-3101c7b4df2b"
      },
      "execution_count": null,
      "outputs": [
        {
          "output_type": "error",
          "ename": "OutOfMemoryError",
          "evalue": "CUDA out of memory. Tried to allocate 14.00 MiB. GPU 0 has a total capacity of 14.75 GiB of which 1.06 MiB is free. Process 4280 has 14.74 GiB memory in use. Of the allocated memory 14.12 GiB is allocated by PyTorch, and 503.69 MiB is reserved by PyTorch but unallocated. If reserved but unallocated memory is large try setting PYTORCH_CUDA_ALLOC_CONF=expandable_segments:True to avoid fragmentation.  See documentation for Memory Management  (https://pytorch.org/docs/stable/notes/cuda.html#environment-variables)",
          "traceback": [
            "\u001b[0;31m---------------------------------------------------------------------------\u001b[0m",
            "\u001b[0;31mOutOfMemoryError\u001b[0m                          Traceback (most recent call last)",
            "\u001b[0;32m<ipython-input-20-27a6dd2204aa>\u001b[0m in \u001b[0;36m<cell line: 191>\u001b[0;34m()\u001b[0m\n\u001b[1;32m    189\u001b[0m \u001b[0;34m\u001b[0m\u001b[0m\n\u001b[1;32m    190\u001b[0m \u001b[0;31m# Train and Evaluate the Model\u001b[0m\u001b[0;34m\u001b[0m\u001b[0;34m\u001b[0m\u001b[0m\n\u001b[0;32m--> 191\u001b[0;31m \u001b[0mtrain_model\u001b[0m\u001b[0;34m(\u001b[0m\u001b[0mmodel\u001b[0m\u001b[0;34m,\u001b[0m \u001b[0mtrain_loader\u001b[0m\u001b[0;34m,\u001b[0m \u001b[0mtest_loader\u001b[0m\u001b[0;34m,\u001b[0m \u001b[0mcriterion\u001b[0m\u001b[0;34m,\u001b[0m \u001b[0moptimizer\u001b[0m\u001b[0;34m,\u001b[0m \u001b[0mnum_epochs\u001b[0m\u001b[0;34m=\u001b[0m\u001b[0;36m10\u001b[0m\u001b[0;34m)\u001b[0m\u001b[0;34m\u001b[0m\u001b[0;34m\u001b[0m\u001b[0m\n\u001b[0m\u001b[1;32m    192\u001b[0m \u001b[0;34m\u001b[0m\u001b[0m\n\u001b[1;32m    193\u001b[0m \u001b[0;31m# Load the best saved model for final evaluation\u001b[0m\u001b[0;34m\u001b[0m\u001b[0;34m\u001b[0m\u001b[0m\n",
            "\u001b[0;32m<ipython-input-20-27a6dd2204aa>\u001b[0m in \u001b[0;36mtrain_model\u001b[0;34m(model, train_loader, test_loader, criterion, optimizer, num_epochs)\u001b[0m\n\u001b[1;32m    134\u001b[0m \u001b[0;34m\u001b[0m\u001b[0m\n\u001b[1;32m    135\u001b[0m             \u001b[0moptimizer\u001b[0m\u001b[0;34m.\u001b[0m\u001b[0mzero_grad\u001b[0m\u001b[0;34m(\u001b[0m\u001b[0;34m)\u001b[0m\u001b[0;34m\u001b[0m\u001b[0;34m\u001b[0m\u001b[0m\n\u001b[0;32m--> 136\u001b[0;31m             \u001b[0moutputs\u001b[0m \u001b[0;34m=\u001b[0m \u001b[0mmodel\u001b[0m\u001b[0;34m(\u001b[0m\u001b[0mimages\u001b[0m\u001b[0;34m)\u001b[0m\u001b[0;34m\u001b[0m\u001b[0;34m\u001b[0m\u001b[0m\n\u001b[0m\u001b[1;32m    137\u001b[0m             \u001b[0mloss\u001b[0m \u001b[0;34m=\u001b[0m \u001b[0mcriterion\u001b[0m\u001b[0;34m(\u001b[0m\u001b[0moutputs\u001b[0m\u001b[0;34m,\u001b[0m \u001b[0mlabels\u001b[0m\u001b[0;34m)\u001b[0m\u001b[0;34m\u001b[0m\u001b[0;34m\u001b[0m\u001b[0m\n\u001b[1;32m    138\u001b[0m             \u001b[0mloss\u001b[0m\u001b[0;34m.\u001b[0m\u001b[0mbackward\u001b[0m\u001b[0;34m(\u001b[0m\u001b[0;34m)\u001b[0m\u001b[0;34m\u001b[0m\u001b[0;34m\u001b[0m\u001b[0m\n",
            "\u001b[0;32m/usr/local/lib/python3.10/dist-packages/torch/nn/modules/module.py\u001b[0m in \u001b[0;36m_wrapped_call_impl\u001b[0;34m(self, *args, **kwargs)\u001b[0m\n\u001b[1;32m   1551\u001b[0m             \u001b[0;32mreturn\u001b[0m \u001b[0mself\u001b[0m\u001b[0;34m.\u001b[0m\u001b[0m_compiled_call_impl\u001b[0m\u001b[0;34m(\u001b[0m\u001b[0;34m*\u001b[0m\u001b[0margs\u001b[0m\u001b[0;34m,\u001b[0m \u001b[0;34m**\u001b[0m\u001b[0mkwargs\u001b[0m\u001b[0;34m)\u001b[0m  \u001b[0;31m# type: ignore[misc]\u001b[0m\u001b[0;34m\u001b[0m\u001b[0;34m\u001b[0m\u001b[0m\n\u001b[1;32m   1552\u001b[0m         \u001b[0;32melse\u001b[0m\u001b[0;34m:\u001b[0m\u001b[0;34m\u001b[0m\u001b[0;34m\u001b[0m\u001b[0m\n\u001b[0;32m-> 1553\u001b[0;31m             \u001b[0;32mreturn\u001b[0m \u001b[0mself\u001b[0m\u001b[0;34m.\u001b[0m\u001b[0m_call_impl\u001b[0m\u001b[0;34m(\u001b[0m\u001b[0;34m*\u001b[0m\u001b[0margs\u001b[0m\u001b[0;34m,\u001b[0m \u001b[0;34m**\u001b[0m\u001b[0mkwargs\u001b[0m\u001b[0;34m)\u001b[0m\u001b[0;34m\u001b[0m\u001b[0;34m\u001b[0m\u001b[0m\n\u001b[0m\u001b[1;32m   1554\u001b[0m \u001b[0;34m\u001b[0m\u001b[0m\n\u001b[1;32m   1555\u001b[0m     \u001b[0;32mdef\u001b[0m \u001b[0m_call_impl\u001b[0m\u001b[0;34m(\u001b[0m\u001b[0mself\u001b[0m\u001b[0;34m,\u001b[0m \u001b[0;34m*\u001b[0m\u001b[0margs\u001b[0m\u001b[0;34m,\u001b[0m \u001b[0;34m**\u001b[0m\u001b[0mkwargs\u001b[0m\u001b[0;34m)\u001b[0m\u001b[0;34m:\u001b[0m\u001b[0;34m\u001b[0m\u001b[0;34m\u001b[0m\u001b[0m\n",
            "\u001b[0;32m/usr/local/lib/python3.10/dist-packages/torch/nn/modules/module.py\u001b[0m in \u001b[0;36m_call_impl\u001b[0;34m(self, *args, **kwargs)\u001b[0m\n\u001b[1;32m   1560\u001b[0m                 \u001b[0;32mor\u001b[0m \u001b[0m_global_backward_pre_hooks\u001b[0m \u001b[0;32mor\u001b[0m \u001b[0m_global_backward_hooks\u001b[0m\u001b[0;34m\u001b[0m\u001b[0;34m\u001b[0m\u001b[0m\n\u001b[1;32m   1561\u001b[0m                 or _global_forward_hooks or _global_forward_pre_hooks):\n\u001b[0;32m-> 1562\u001b[0;31m             \u001b[0;32mreturn\u001b[0m \u001b[0mforward_call\u001b[0m\u001b[0;34m(\u001b[0m\u001b[0;34m*\u001b[0m\u001b[0margs\u001b[0m\u001b[0;34m,\u001b[0m \u001b[0;34m**\u001b[0m\u001b[0mkwargs\u001b[0m\u001b[0;34m)\u001b[0m\u001b[0;34m\u001b[0m\u001b[0;34m\u001b[0m\u001b[0m\n\u001b[0m\u001b[1;32m   1563\u001b[0m \u001b[0;34m\u001b[0m\u001b[0m\n\u001b[1;32m   1564\u001b[0m         \u001b[0;32mtry\u001b[0m\u001b[0;34m:\u001b[0m\u001b[0;34m\u001b[0m\u001b[0;34m\u001b[0m\u001b[0m\n",
            "\u001b[0;32m<ipython-input-20-27a6dd2204aa>\u001b[0m in \u001b[0;36mforward\u001b[0;34m(self, x)\u001b[0m\n\u001b[1;32m     67\u001b[0m     \u001b[0;32mdef\u001b[0m \u001b[0mforward\u001b[0m\u001b[0;34m(\u001b[0m\u001b[0mself\u001b[0m\u001b[0;34m,\u001b[0m \u001b[0mx\u001b[0m\u001b[0;34m)\u001b[0m\u001b[0;34m:\u001b[0m\u001b[0;34m\u001b[0m\u001b[0;34m\u001b[0m\u001b[0m\n\u001b[1;32m     68\u001b[0m         \u001b[0;31m# Extract features from DenseNet\u001b[0m\u001b[0;34m\u001b[0m\u001b[0;34m\u001b[0m\u001b[0m\n\u001b[0;32m---> 69\u001b[0;31m         \u001b[0mdensenet_features\u001b[0m \u001b[0;34m=\u001b[0m \u001b[0mself\u001b[0m\u001b[0;34m.\u001b[0m\u001b[0mdensenet_features\u001b[0m\u001b[0;34m(\u001b[0m\u001b[0mx\u001b[0m\u001b[0;34m)\u001b[0m\u001b[0;34m\u001b[0m\u001b[0;34m\u001b[0m\u001b[0m\n\u001b[0m\u001b[1;32m     70\u001b[0m         \u001b[0mdensenet_features\u001b[0m \u001b[0;34m=\u001b[0m \u001b[0mself\u001b[0m\u001b[0;34m.\u001b[0m\u001b[0mgap\u001b[0m\u001b[0;34m(\u001b[0m\u001b[0mdensenet_features\u001b[0m\u001b[0;34m)\u001b[0m  \u001b[0;31m# Apply GAP\u001b[0m\u001b[0;34m\u001b[0m\u001b[0;34m\u001b[0m\u001b[0m\n\u001b[1;32m     71\u001b[0m         \u001b[0mdensenet_features\u001b[0m \u001b[0;34m=\u001b[0m \u001b[0mdensenet_features\u001b[0m\u001b[0;34m.\u001b[0m\u001b[0mview\u001b[0m\u001b[0;34m(\u001b[0m\u001b[0mdensenet_features\u001b[0m\u001b[0;34m.\u001b[0m\u001b[0msize\u001b[0m\u001b[0;34m(\u001b[0m\u001b[0;36m0\u001b[0m\u001b[0;34m)\u001b[0m\u001b[0;34m,\u001b[0m \u001b[0;34m-\u001b[0m\u001b[0;36m1\u001b[0m\u001b[0;34m)\u001b[0m\u001b[0;34m\u001b[0m\u001b[0;34m\u001b[0m\u001b[0m\n",
            "\u001b[0;32m/usr/local/lib/python3.10/dist-packages/torch/nn/modules/module.py\u001b[0m in \u001b[0;36m_wrapped_call_impl\u001b[0;34m(self, *args, **kwargs)\u001b[0m\n\u001b[1;32m   1551\u001b[0m             \u001b[0;32mreturn\u001b[0m \u001b[0mself\u001b[0m\u001b[0;34m.\u001b[0m\u001b[0m_compiled_call_impl\u001b[0m\u001b[0;34m(\u001b[0m\u001b[0;34m*\u001b[0m\u001b[0margs\u001b[0m\u001b[0;34m,\u001b[0m \u001b[0;34m**\u001b[0m\u001b[0mkwargs\u001b[0m\u001b[0;34m)\u001b[0m  \u001b[0;31m# type: ignore[misc]\u001b[0m\u001b[0;34m\u001b[0m\u001b[0;34m\u001b[0m\u001b[0m\n\u001b[1;32m   1552\u001b[0m         \u001b[0;32melse\u001b[0m\u001b[0;34m:\u001b[0m\u001b[0;34m\u001b[0m\u001b[0;34m\u001b[0m\u001b[0m\n\u001b[0;32m-> 1553\u001b[0;31m             \u001b[0;32mreturn\u001b[0m \u001b[0mself\u001b[0m\u001b[0;34m.\u001b[0m\u001b[0m_call_impl\u001b[0m\u001b[0;34m(\u001b[0m\u001b[0;34m*\u001b[0m\u001b[0margs\u001b[0m\u001b[0;34m,\u001b[0m \u001b[0;34m**\u001b[0m\u001b[0mkwargs\u001b[0m\u001b[0;34m)\u001b[0m\u001b[0;34m\u001b[0m\u001b[0;34m\u001b[0m\u001b[0m\n\u001b[0m\u001b[1;32m   1554\u001b[0m \u001b[0;34m\u001b[0m\u001b[0m\n\u001b[1;32m   1555\u001b[0m     \u001b[0;32mdef\u001b[0m \u001b[0m_call_impl\u001b[0m\u001b[0;34m(\u001b[0m\u001b[0mself\u001b[0m\u001b[0;34m,\u001b[0m \u001b[0;34m*\u001b[0m\u001b[0margs\u001b[0m\u001b[0;34m,\u001b[0m \u001b[0;34m**\u001b[0m\u001b[0mkwargs\u001b[0m\u001b[0;34m)\u001b[0m\u001b[0;34m:\u001b[0m\u001b[0;34m\u001b[0m\u001b[0;34m\u001b[0m\u001b[0m\n",
            "\u001b[0;32m/usr/local/lib/python3.10/dist-packages/torch/nn/modules/module.py\u001b[0m in \u001b[0;36m_call_impl\u001b[0;34m(self, *args, **kwargs)\u001b[0m\n\u001b[1;32m   1560\u001b[0m                 \u001b[0;32mor\u001b[0m \u001b[0m_global_backward_pre_hooks\u001b[0m \u001b[0;32mor\u001b[0m \u001b[0m_global_backward_hooks\u001b[0m\u001b[0;34m\u001b[0m\u001b[0;34m\u001b[0m\u001b[0m\n\u001b[1;32m   1561\u001b[0m                 or _global_forward_hooks or _global_forward_pre_hooks):\n\u001b[0;32m-> 1562\u001b[0;31m             \u001b[0;32mreturn\u001b[0m \u001b[0mforward_call\u001b[0m\u001b[0;34m(\u001b[0m\u001b[0;34m*\u001b[0m\u001b[0margs\u001b[0m\u001b[0;34m,\u001b[0m \u001b[0;34m**\u001b[0m\u001b[0mkwargs\u001b[0m\u001b[0;34m)\u001b[0m\u001b[0;34m\u001b[0m\u001b[0;34m\u001b[0m\u001b[0m\n\u001b[0m\u001b[1;32m   1563\u001b[0m \u001b[0;34m\u001b[0m\u001b[0m\n\u001b[1;32m   1564\u001b[0m         \u001b[0;32mtry\u001b[0m\u001b[0;34m:\u001b[0m\u001b[0;34m\u001b[0m\u001b[0;34m\u001b[0m\u001b[0m\n",
            "\u001b[0;32m/usr/local/lib/python3.10/dist-packages/torch/nn/modules/container.py\u001b[0m in \u001b[0;36mforward\u001b[0;34m(self, input)\u001b[0m\n\u001b[1;32m    217\u001b[0m     \u001b[0;32mdef\u001b[0m \u001b[0mforward\u001b[0m\u001b[0;34m(\u001b[0m\u001b[0mself\u001b[0m\u001b[0;34m,\u001b[0m \u001b[0minput\u001b[0m\u001b[0;34m)\u001b[0m\u001b[0;34m:\u001b[0m\u001b[0;34m\u001b[0m\u001b[0;34m\u001b[0m\u001b[0m\n\u001b[1;32m    218\u001b[0m         \u001b[0;32mfor\u001b[0m \u001b[0mmodule\u001b[0m \u001b[0;32min\u001b[0m \u001b[0mself\u001b[0m\u001b[0;34m:\u001b[0m\u001b[0;34m\u001b[0m\u001b[0;34m\u001b[0m\u001b[0m\n\u001b[0;32m--> 219\u001b[0;31m             \u001b[0minput\u001b[0m \u001b[0;34m=\u001b[0m \u001b[0mmodule\u001b[0m\u001b[0;34m(\u001b[0m\u001b[0minput\u001b[0m\u001b[0;34m)\u001b[0m\u001b[0;34m\u001b[0m\u001b[0;34m\u001b[0m\u001b[0m\n\u001b[0m\u001b[1;32m    220\u001b[0m         \u001b[0;32mreturn\u001b[0m \u001b[0minput\u001b[0m\u001b[0;34m\u001b[0m\u001b[0;34m\u001b[0m\u001b[0m\n\u001b[1;32m    221\u001b[0m \u001b[0;34m\u001b[0m\u001b[0m\n",
            "\u001b[0;32m/usr/local/lib/python3.10/dist-packages/torch/nn/modules/module.py\u001b[0m in \u001b[0;36m_wrapped_call_impl\u001b[0;34m(self, *args, **kwargs)\u001b[0m\n\u001b[1;32m   1551\u001b[0m             \u001b[0;32mreturn\u001b[0m \u001b[0mself\u001b[0m\u001b[0;34m.\u001b[0m\u001b[0m_compiled_call_impl\u001b[0m\u001b[0;34m(\u001b[0m\u001b[0;34m*\u001b[0m\u001b[0margs\u001b[0m\u001b[0;34m,\u001b[0m \u001b[0;34m**\u001b[0m\u001b[0mkwargs\u001b[0m\u001b[0;34m)\u001b[0m  \u001b[0;31m# type: ignore[misc]\u001b[0m\u001b[0;34m\u001b[0m\u001b[0;34m\u001b[0m\u001b[0m\n\u001b[1;32m   1552\u001b[0m         \u001b[0;32melse\u001b[0m\u001b[0;34m:\u001b[0m\u001b[0;34m\u001b[0m\u001b[0;34m\u001b[0m\u001b[0m\n\u001b[0;32m-> 1553\u001b[0;31m             \u001b[0;32mreturn\u001b[0m \u001b[0mself\u001b[0m\u001b[0;34m.\u001b[0m\u001b[0m_call_impl\u001b[0m\u001b[0;34m(\u001b[0m\u001b[0;34m*\u001b[0m\u001b[0margs\u001b[0m\u001b[0;34m,\u001b[0m \u001b[0;34m**\u001b[0m\u001b[0mkwargs\u001b[0m\u001b[0;34m)\u001b[0m\u001b[0;34m\u001b[0m\u001b[0;34m\u001b[0m\u001b[0m\n\u001b[0m\u001b[1;32m   1554\u001b[0m \u001b[0;34m\u001b[0m\u001b[0m\n\u001b[1;32m   1555\u001b[0m     \u001b[0;32mdef\u001b[0m \u001b[0m_call_impl\u001b[0m\u001b[0;34m(\u001b[0m\u001b[0mself\u001b[0m\u001b[0;34m,\u001b[0m \u001b[0;34m*\u001b[0m\u001b[0margs\u001b[0m\u001b[0;34m,\u001b[0m \u001b[0;34m**\u001b[0m\u001b[0mkwargs\u001b[0m\u001b[0;34m)\u001b[0m\u001b[0;34m:\u001b[0m\u001b[0;34m\u001b[0m\u001b[0;34m\u001b[0m\u001b[0m\n",
            "\u001b[0;32m/usr/local/lib/python3.10/dist-packages/torch/nn/modules/module.py\u001b[0m in \u001b[0;36m_call_impl\u001b[0;34m(self, *args, **kwargs)\u001b[0m\n\u001b[1;32m   1560\u001b[0m                 \u001b[0;32mor\u001b[0m \u001b[0m_global_backward_pre_hooks\u001b[0m \u001b[0;32mor\u001b[0m \u001b[0m_global_backward_hooks\u001b[0m\u001b[0;34m\u001b[0m\u001b[0;34m\u001b[0m\u001b[0m\n\u001b[1;32m   1561\u001b[0m                 or _global_forward_hooks or _global_forward_pre_hooks):\n\u001b[0;32m-> 1562\u001b[0;31m             \u001b[0;32mreturn\u001b[0m \u001b[0mforward_call\u001b[0m\u001b[0;34m(\u001b[0m\u001b[0;34m*\u001b[0m\u001b[0margs\u001b[0m\u001b[0;34m,\u001b[0m \u001b[0;34m**\u001b[0m\u001b[0mkwargs\u001b[0m\u001b[0;34m)\u001b[0m\u001b[0;34m\u001b[0m\u001b[0;34m\u001b[0m\u001b[0m\n\u001b[0m\u001b[1;32m   1563\u001b[0m \u001b[0;34m\u001b[0m\u001b[0m\n\u001b[1;32m   1564\u001b[0m         \u001b[0;32mtry\u001b[0m\u001b[0;34m:\u001b[0m\u001b[0;34m\u001b[0m\u001b[0;34m\u001b[0m\u001b[0m\n",
            "\u001b[0;32m/usr/local/lib/python3.10/dist-packages/torch/nn/modules/container.py\u001b[0m in \u001b[0;36mforward\u001b[0;34m(self, input)\u001b[0m\n\u001b[1;32m    217\u001b[0m     \u001b[0;32mdef\u001b[0m \u001b[0mforward\u001b[0m\u001b[0;34m(\u001b[0m\u001b[0mself\u001b[0m\u001b[0;34m,\u001b[0m \u001b[0minput\u001b[0m\u001b[0;34m)\u001b[0m\u001b[0;34m:\u001b[0m\u001b[0;34m\u001b[0m\u001b[0;34m\u001b[0m\u001b[0m\n\u001b[1;32m    218\u001b[0m         \u001b[0;32mfor\u001b[0m \u001b[0mmodule\u001b[0m \u001b[0;32min\u001b[0m \u001b[0mself\u001b[0m\u001b[0;34m:\u001b[0m\u001b[0;34m\u001b[0m\u001b[0;34m\u001b[0m\u001b[0m\n\u001b[0;32m--> 219\u001b[0;31m             \u001b[0minput\u001b[0m \u001b[0;34m=\u001b[0m \u001b[0mmodule\u001b[0m\u001b[0;34m(\u001b[0m\u001b[0minput\u001b[0m\u001b[0;34m)\u001b[0m\u001b[0;34m\u001b[0m\u001b[0;34m\u001b[0m\u001b[0m\n\u001b[0m\u001b[1;32m    220\u001b[0m         \u001b[0;32mreturn\u001b[0m \u001b[0minput\u001b[0m\u001b[0;34m\u001b[0m\u001b[0;34m\u001b[0m\u001b[0m\n\u001b[1;32m    221\u001b[0m \u001b[0;34m\u001b[0m\u001b[0m\n",
            "\u001b[0;32m/usr/local/lib/python3.10/dist-packages/torch/nn/modules/module.py\u001b[0m in \u001b[0;36m_wrapped_call_impl\u001b[0;34m(self, *args, **kwargs)\u001b[0m\n\u001b[1;32m   1551\u001b[0m             \u001b[0;32mreturn\u001b[0m \u001b[0mself\u001b[0m\u001b[0;34m.\u001b[0m\u001b[0m_compiled_call_impl\u001b[0m\u001b[0;34m(\u001b[0m\u001b[0;34m*\u001b[0m\u001b[0margs\u001b[0m\u001b[0;34m,\u001b[0m \u001b[0;34m**\u001b[0m\u001b[0mkwargs\u001b[0m\u001b[0;34m)\u001b[0m  \u001b[0;31m# type: ignore[misc]\u001b[0m\u001b[0;34m\u001b[0m\u001b[0;34m\u001b[0m\u001b[0m\n\u001b[1;32m   1552\u001b[0m         \u001b[0;32melse\u001b[0m\u001b[0;34m:\u001b[0m\u001b[0;34m\u001b[0m\u001b[0;34m\u001b[0m\u001b[0m\n\u001b[0;32m-> 1553\u001b[0;31m             \u001b[0;32mreturn\u001b[0m \u001b[0mself\u001b[0m\u001b[0;34m.\u001b[0m\u001b[0m_call_impl\u001b[0m\u001b[0;34m(\u001b[0m\u001b[0;34m*\u001b[0m\u001b[0margs\u001b[0m\u001b[0;34m,\u001b[0m \u001b[0;34m**\u001b[0m\u001b[0mkwargs\u001b[0m\u001b[0;34m)\u001b[0m\u001b[0;34m\u001b[0m\u001b[0;34m\u001b[0m\u001b[0m\n\u001b[0m\u001b[1;32m   1554\u001b[0m \u001b[0;34m\u001b[0m\u001b[0m\n\u001b[1;32m   1555\u001b[0m     \u001b[0;32mdef\u001b[0m \u001b[0m_call_impl\u001b[0m\u001b[0;34m(\u001b[0m\u001b[0mself\u001b[0m\u001b[0;34m,\u001b[0m \u001b[0;34m*\u001b[0m\u001b[0margs\u001b[0m\u001b[0;34m,\u001b[0m \u001b[0;34m**\u001b[0m\u001b[0mkwargs\u001b[0m\u001b[0;34m)\u001b[0m\u001b[0;34m:\u001b[0m\u001b[0;34m\u001b[0m\u001b[0;34m\u001b[0m\u001b[0m\n",
            "\u001b[0;32m/usr/local/lib/python3.10/dist-packages/torch/nn/modules/module.py\u001b[0m in \u001b[0;36m_call_impl\u001b[0;34m(self, *args, **kwargs)\u001b[0m\n\u001b[1;32m   1560\u001b[0m                 \u001b[0;32mor\u001b[0m \u001b[0m_global_backward_pre_hooks\u001b[0m \u001b[0;32mor\u001b[0m \u001b[0m_global_backward_hooks\u001b[0m\u001b[0;34m\u001b[0m\u001b[0;34m\u001b[0m\u001b[0m\n\u001b[1;32m   1561\u001b[0m                 or _global_forward_hooks or _global_forward_pre_hooks):\n\u001b[0;32m-> 1562\u001b[0;31m             \u001b[0;32mreturn\u001b[0m \u001b[0mforward_call\u001b[0m\u001b[0;34m(\u001b[0m\u001b[0;34m*\u001b[0m\u001b[0margs\u001b[0m\u001b[0;34m,\u001b[0m \u001b[0;34m**\u001b[0m\u001b[0mkwargs\u001b[0m\u001b[0;34m)\u001b[0m\u001b[0;34m\u001b[0m\u001b[0;34m\u001b[0m\u001b[0m\n\u001b[0m\u001b[1;32m   1563\u001b[0m \u001b[0;34m\u001b[0m\u001b[0m\n\u001b[1;32m   1564\u001b[0m         \u001b[0;32mtry\u001b[0m\u001b[0;34m:\u001b[0m\u001b[0;34m\u001b[0m\u001b[0;34m\u001b[0m\u001b[0m\n",
            "\u001b[0;32m/usr/local/lib/python3.10/dist-packages/torchvision/models/densenet.py\u001b[0m in \u001b[0;36mforward\u001b[0;34m(self, init_features)\u001b[0m\n\u001b[1;32m    120\u001b[0m         \u001b[0mfeatures\u001b[0m \u001b[0;34m=\u001b[0m \u001b[0;34m[\u001b[0m\u001b[0minit_features\u001b[0m\u001b[0;34m]\u001b[0m\u001b[0;34m\u001b[0m\u001b[0;34m\u001b[0m\u001b[0m\n\u001b[1;32m    121\u001b[0m         \u001b[0;32mfor\u001b[0m \u001b[0mname\u001b[0m\u001b[0;34m,\u001b[0m \u001b[0mlayer\u001b[0m \u001b[0;32min\u001b[0m \u001b[0mself\u001b[0m\u001b[0;34m.\u001b[0m\u001b[0mitems\u001b[0m\u001b[0;34m(\u001b[0m\u001b[0;34m)\u001b[0m\u001b[0;34m:\u001b[0m\u001b[0;34m\u001b[0m\u001b[0;34m\u001b[0m\u001b[0m\n\u001b[0;32m--> 122\u001b[0;31m             \u001b[0mnew_features\u001b[0m \u001b[0;34m=\u001b[0m \u001b[0mlayer\u001b[0m\u001b[0;34m(\u001b[0m\u001b[0mfeatures\u001b[0m\u001b[0;34m)\u001b[0m\u001b[0;34m\u001b[0m\u001b[0;34m\u001b[0m\u001b[0m\n\u001b[0m\u001b[1;32m    123\u001b[0m             \u001b[0mfeatures\u001b[0m\u001b[0;34m.\u001b[0m\u001b[0mappend\u001b[0m\u001b[0;34m(\u001b[0m\u001b[0mnew_features\u001b[0m\u001b[0;34m)\u001b[0m\u001b[0;34m\u001b[0m\u001b[0;34m\u001b[0m\u001b[0m\n\u001b[1;32m    124\u001b[0m         \u001b[0;32mreturn\u001b[0m \u001b[0mtorch\u001b[0m\u001b[0;34m.\u001b[0m\u001b[0mcat\u001b[0m\u001b[0;34m(\u001b[0m\u001b[0mfeatures\u001b[0m\u001b[0;34m,\u001b[0m \u001b[0;36m1\u001b[0m\u001b[0;34m)\u001b[0m\u001b[0;34m\u001b[0m\u001b[0;34m\u001b[0m\u001b[0m\n",
            "\u001b[0;32m/usr/local/lib/python3.10/dist-packages/torch/nn/modules/module.py\u001b[0m in \u001b[0;36m_wrapped_call_impl\u001b[0;34m(self, *args, **kwargs)\u001b[0m\n\u001b[1;32m   1551\u001b[0m             \u001b[0;32mreturn\u001b[0m \u001b[0mself\u001b[0m\u001b[0;34m.\u001b[0m\u001b[0m_compiled_call_impl\u001b[0m\u001b[0;34m(\u001b[0m\u001b[0;34m*\u001b[0m\u001b[0margs\u001b[0m\u001b[0;34m,\u001b[0m \u001b[0;34m**\u001b[0m\u001b[0mkwargs\u001b[0m\u001b[0;34m)\u001b[0m  \u001b[0;31m# type: ignore[misc]\u001b[0m\u001b[0;34m\u001b[0m\u001b[0;34m\u001b[0m\u001b[0m\n\u001b[1;32m   1552\u001b[0m         \u001b[0;32melse\u001b[0m\u001b[0;34m:\u001b[0m\u001b[0;34m\u001b[0m\u001b[0;34m\u001b[0m\u001b[0m\n\u001b[0;32m-> 1553\u001b[0;31m             \u001b[0;32mreturn\u001b[0m \u001b[0mself\u001b[0m\u001b[0;34m.\u001b[0m\u001b[0m_call_impl\u001b[0m\u001b[0;34m(\u001b[0m\u001b[0;34m*\u001b[0m\u001b[0margs\u001b[0m\u001b[0;34m,\u001b[0m \u001b[0;34m**\u001b[0m\u001b[0mkwargs\u001b[0m\u001b[0;34m)\u001b[0m\u001b[0;34m\u001b[0m\u001b[0;34m\u001b[0m\u001b[0m\n\u001b[0m\u001b[1;32m   1554\u001b[0m \u001b[0;34m\u001b[0m\u001b[0m\n\u001b[1;32m   1555\u001b[0m     \u001b[0;32mdef\u001b[0m \u001b[0m_call_impl\u001b[0m\u001b[0;34m(\u001b[0m\u001b[0mself\u001b[0m\u001b[0;34m,\u001b[0m \u001b[0;34m*\u001b[0m\u001b[0margs\u001b[0m\u001b[0;34m,\u001b[0m \u001b[0;34m**\u001b[0m\u001b[0mkwargs\u001b[0m\u001b[0;34m)\u001b[0m\u001b[0;34m:\u001b[0m\u001b[0;34m\u001b[0m\u001b[0;34m\u001b[0m\u001b[0m\n",
            "\u001b[0;32m/usr/local/lib/python3.10/dist-packages/torch/nn/modules/module.py\u001b[0m in \u001b[0;36m_call_impl\u001b[0;34m(self, *args, **kwargs)\u001b[0m\n\u001b[1;32m   1560\u001b[0m                 \u001b[0;32mor\u001b[0m \u001b[0m_global_backward_pre_hooks\u001b[0m \u001b[0;32mor\u001b[0m \u001b[0m_global_backward_hooks\u001b[0m\u001b[0;34m\u001b[0m\u001b[0;34m\u001b[0m\u001b[0m\n\u001b[1;32m   1561\u001b[0m                 or _global_forward_hooks or _global_forward_pre_hooks):\n\u001b[0;32m-> 1562\u001b[0;31m             \u001b[0;32mreturn\u001b[0m \u001b[0mforward_call\u001b[0m\u001b[0;34m(\u001b[0m\u001b[0;34m*\u001b[0m\u001b[0margs\u001b[0m\u001b[0;34m,\u001b[0m \u001b[0;34m**\u001b[0m\u001b[0mkwargs\u001b[0m\u001b[0;34m)\u001b[0m\u001b[0;34m\u001b[0m\u001b[0;34m\u001b[0m\u001b[0m\n\u001b[0m\u001b[1;32m   1563\u001b[0m \u001b[0;34m\u001b[0m\u001b[0m\n\u001b[1;32m   1564\u001b[0m         \u001b[0;32mtry\u001b[0m\u001b[0;34m:\u001b[0m\u001b[0;34m\u001b[0m\u001b[0;34m\u001b[0m\u001b[0m\n",
            "\u001b[0;32m/usr/local/lib/python3.10/dist-packages/torchvision/models/densenet.py\u001b[0m in \u001b[0;36mforward\u001b[0;34m(self, input)\u001b[0m\n\u001b[1;32m     86\u001b[0m             \u001b[0mbottleneck_output\u001b[0m \u001b[0;34m=\u001b[0m \u001b[0mself\u001b[0m\u001b[0;34m.\u001b[0m\u001b[0mcall_checkpoint_bottleneck\u001b[0m\u001b[0;34m(\u001b[0m\u001b[0mprev_features\u001b[0m\u001b[0;34m)\u001b[0m\u001b[0;34m\u001b[0m\u001b[0;34m\u001b[0m\u001b[0m\n\u001b[1;32m     87\u001b[0m         \u001b[0;32melse\u001b[0m\u001b[0;34m:\u001b[0m\u001b[0;34m\u001b[0m\u001b[0;34m\u001b[0m\u001b[0m\n\u001b[0;32m---> 88\u001b[0;31m             \u001b[0mbottleneck_output\u001b[0m \u001b[0;34m=\u001b[0m \u001b[0mself\u001b[0m\u001b[0;34m.\u001b[0m\u001b[0mbn_function\u001b[0m\u001b[0;34m(\u001b[0m\u001b[0mprev_features\u001b[0m\u001b[0;34m)\u001b[0m\u001b[0;34m\u001b[0m\u001b[0;34m\u001b[0m\u001b[0m\n\u001b[0m\u001b[1;32m     89\u001b[0m \u001b[0;34m\u001b[0m\u001b[0m\n\u001b[1;32m     90\u001b[0m         \u001b[0mnew_features\u001b[0m \u001b[0;34m=\u001b[0m \u001b[0mself\u001b[0m\u001b[0;34m.\u001b[0m\u001b[0mconv2\u001b[0m\u001b[0;34m(\u001b[0m\u001b[0mself\u001b[0m\u001b[0;34m.\u001b[0m\u001b[0mrelu2\u001b[0m\u001b[0;34m(\u001b[0m\u001b[0mself\u001b[0m\u001b[0;34m.\u001b[0m\u001b[0mnorm2\u001b[0m\u001b[0;34m(\u001b[0m\u001b[0mbottleneck_output\u001b[0m\u001b[0;34m)\u001b[0m\u001b[0;34m)\u001b[0m\u001b[0;34m)\u001b[0m\u001b[0;34m\u001b[0m\u001b[0;34m\u001b[0m\u001b[0m\n",
            "\u001b[0;32m/usr/local/lib/python3.10/dist-packages/torchvision/models/densenet.py\u001b[0m in \u001b[0;36mbn_function\u001b[0;34m(self, inputs)\u001b[0m\n\u001b[1;32m     47\u001b[0m     \u001b[0;32mdef\u001b[0m \u001b[0mbn_function\u001b[0m\u001b[0;34m(\u001b[0m\u001b[0mself\u001b[0m\u001b[0;34m,\u001b[0m \u001b[0minputs\u001b[0m\u001b[0;34m:\u001b[0m \u001b[0mList\u001b[0m\u001b[0;34m[\u001b[0m\u001b[0mTensor\u001b[0m\u001b[0;34m]\u001b[0m\u001b[0;34m)\u001b[0m \u001b[0;34m->\u001b[0m \u001b[0mTensor\u001b[0m\u001b[0;34m:\u001b[0m\u001b[0;34m\u001b[0m\u001b[0;34m\u001b[0m\u001b[0m\n\u001b[1;32m     48\u001b[0m         \u001b[0mconcated_features\u001b[0m \u001b[0;34m=\u001b[0m \u001b[0mtorch\u001b[0m\u001b[0;34m.\u001b[0m\u001b[0mcat\u001b[0m\u001b[0;34m(\u001b[0m\u001b[0minputs\u001b[0m\u001b[0;34m,\u001b[0m \u001b[0;36m1\u001b[0m\u001b[0;34m)\u001b[0m\u001b[0;34m\u001b[0m\u001b[0;34m\u001b[0m\u001b[0m\n\u001b[0;32m---> 49\u001b[0;31m         \u001b[0mbottleneck_output\u001b[0m \u001b[0;34m=\u001b[0m \u001b[0mself\u001b[0m\u001b[0;34m.\u001b[0m\u001b[0mconv1\u001b[0m\u001b[0;34m(\u001b[0m\u001b[0mself\u001b[0m\u001b[0;34m.\u001b[0m\u001b[0mrelu1\u001b[0m\u001b[0;34m(\u001b[0m\u001b[0mself\u001b[0m\u001b[0;34m.\u001b[0m\u001b[0mnorm1\u001b[0m\u001b[0;34m(\u001b[0m\u001b[0mconcated_features\u001b[0m\u001b[0;34m)\u001b[0m\u001b[0;34m)\u001b[0m\u001b[0;34m)\u001b[0m  \u001b[0;31m# noqa: T484\u001b[0m\u001b[0;34m\u001b[0m\u001b[0;34m\u001b[0m\u001b[0m\n\u001b[0m\u001b[1;32m     50\u001b[0m         \u001b[0;32mreturn\u001b[0m \u001b[0mbottleneck_output\u001b[0m\u001b[0;34m\u001b[0m\u001b[0;34m\u001b[0m\u001b[0m\n\u001b[1;32m     51\u001b[0m \u001b[0;34m\u001b[0m\u001b[0m\n",
            "\u001b[0;32m/usr/local/lib/python3.10/dist-packages/torch/nn/modules/module.py\u001b[0m in \u001b[0;36m_wrapped_call_impl\u001b[0;34m(self, *args, **kwargs)\u001b[0m\n\u001b[1;32m   1551\u001b[0m             \u001b[0;32mreturn\u001b[0m \u001b[0mself\u001b[0m\u001b[0;34m.\u001b[0m\u001b[0m_compiled_call_impl\u001b[0m\u001b[0;34m(\u001b[0m\u001b[0;34m*\u001b[0m\u001b[0margs\u001b[0m\u001b[0;34m,\u001b[0m \u001b[0;34m**\u001b[0m\u001b[0mkwargs\u001b[0m\u001b[0;34m)\u001b[0m  \u001b[0;31m# type: ignore[misc]\u001b[0m\u001b[0;34m\u001b[0m\u001b[0;34m\u001b[0m\u001b[0m\n\u001b[1;32m   1552\u001b[0m         \u001b[0;32melse\u001b[0m\u001b[0;34m:\u001b[0m\u001b[0;34m\u001b[0m\u001b[0;34m\u001b[0m\u001b[0m\n\u001b[0;32m-> 1553\u001b[0;31m             \u001b[0;32mreturn\u001b[0m \u001b[0mself\u001b[0m\u001b[0;34m.\u001b[0m\u001b[0m_call_impl\u001b[0m\u001b[0;34m(\u001b[0m\u001b[0;34m*\u001b[0m\u001b[0margs\u001b[0m\u001b[0;34m,\u001b[0m \u001b[0;34m**\u001b[0m\u001b[0mkwargs\u001b[0m\u001b[0;34m)\u001b[0m\u001b[0;34m\u001b[0m\u001b[0;34m\u001b[0m\u001b[0m\n\u001b[0m\u001b[1;32m   1554\u001b[0m \u001b[0;34m\u001b[0m\u001b[0m\n\u001b[1;32m   1555\u001b[0m     \u001b[0;32mdef\u001b[0m \u001b[0m_call_impl\u001b[0m\u001b[0;34m(\u001b[0m\u001b[0mself\u001b[0m\u001b[0;34m,\u001b[0m \u001b[0;34m*\u001b[0m\u001b[0margs\u001b[0m\u001b[0;34m,\u001b[0m \u001b[0;34m**\u001b[0m\u001b[0mkwargs\u001b[0m\u001b[0;34m)\u001b[0m\u001b[0;34m:\u001b[0m\u001b[0;34m\u001b[0m\u001b[0;34m\u001b[0m\u001b[0m\n",
            "\u001b[0;32m/usr/local/lib/python3.10/dist-packages/torch/nn/modules/module.py\u001b[0m in \u001b[0;36m_call_impl\u001b[0;34m(self, *args, **kwargs)\u001b[0m\n\u001b[1;32m   1560\u001b[0m                 \u001b[0;32mor\u001b[0m \u001b[0m_global_backward_pre_hooks\u001b[0m \u001b[0;32mor\u001b[0m \u001b[0m_global_backward_hooks\u001b[0m\u001b[0;34m\u001b[0m\u001b[0;34m\u001b[0m\u001b[0m\n\u001b[1;32m   1561\u001b[0m                 or _global_forward_hooks or _global_forward_pre_hooks):\n\u001b[0;32m-> 1562\u001b[0;31m             \u001b[0;32mreturn\u001b[0m \u001b[0mforward_call\u001b[0m\u001b[0;34m(\u001b[0m\u001b[0;34m*\u001b[0m\u001b[0margs\u001b[0m\u001b[0;34m,\u001b[0m \u001b[0;34m**\u001b[0m\u001b[0mkwargs\u001b[0m\u001b[0;34m)\u001b[0m\u001b[0;34m\u001b[0m\u001b[0;34m\u001b[0m\u001b[0m\n\u001b[0m\u001b[1;32m   1563\u001b[0m \u001b[0;34m\u001b[0m\u001b[0m\n\u001b[1;32m   1564\u001b[0m         \u001b[0;32mtry\u001b[0m\u001b[0;34m:\u001b[0m\u001b[0;34m\u001b[0m\u001b[0;34m\u001b[0m\u001b[0m\n",
            "\u001b[0;32m/usr/local/lib/python3.10/dist-packages/torch/nn/modules/conv.py\u001b[0m in \u001b[0;36mforward\u001b[0;34m(self, input)\u001b[0m\n\u001b[1;32m    456\u001b[0m \u001b[0;34m\u001b[0m\u001b[0m\n\u001b[1;32m    457\u001b[0m     \u001b[0;32mdef\u001b[0m \u001b[0mforward\u001b[0m\u001b[0;34m(\u001b[0m\u001b[0mself\u001b[0m\u001b[0;34m,\u001b[0m \u001b[0minput\u001b[0m\u001b[0;34m:\u001b[0m \u001b[0mTensor\u001b[0m\u001b[0;34m)\u001b[0m \u001b[0;34m->\u001b[0m \u001b[0mTensor\u001b[0m\u001b[0;34m:\u001b[0m\u001b[0;34m\u001b[0m\u001b[0;34m\u001b[0m\u001b[0m\n\u001b[0;32m--> 458\u001b[0;31m         \u001b[0;32mreturn\u001b[0m \u001b[0mself\u001b[0m\u001b[0;34m.\u001b[0m\u001b[0m_conv_forward\u001b[0m\u001b[0;34m(\u001b[0m\u001b[0minput\u001b[0m\u001b[0;34m,\u001b[0m \u001b[0mself\u001b[0m\u001b[0;34m.\u001b[0m\u001b[0mweight\u001b[0m\u001b[0;34m,\u001b[0m \u001b[0mself\u001b[0m\u001b[0;34m.\u001b[0m\u001b[0mbias\u001b[0m\u001b[0;34m)\u001b[0m\u001b[0;34m\u001b[0m\u001b[0;34m\u001b[0m\u001b[0m\n\u001b[0m\u001b[1;32m    459\u001b[0m \u001b[0;34m\u001b[0m\u001b[0m\n\u001b[1;32m    460\u001b[0m \u001b[0;32mclass\u001b[0m \u001b[0mConv3d\u001b[0m\u001b[0;34m(\u001b[0m\u001b[0m_ConvNd\u001b[0m\u001b[0;34m)\u001b[0m\u001b[0;34m:\u001b[0m\u001b[0;34m\u001b[0m\u001b[0;34m\u001b[0m\u001b[0m\n",
            "\u001b[0;32m/usr/local/lib/python3.10/dist-packages/torch/nn/modules/conv.py\u001b[0m in \u001b[0;36m_conv_forward\u001b[0;34m(self, input, weight, bias)\u001b[0m\n\u001b[1;32m    452\u001b[0m                             \u001b[0mweight\u001b[0m\u001b[0;34m,\u001b[0m \u001b[0mbias\u001b[0m\u001b[0;34m,\u001b[0m \u001b[0mself\u001b[0m\u001b[0;34m.\u001b[0m\u001b[0mstride\u001b[0m\u001b[0;34m,\u001b[0m\u001b[0;34m\u001b[0m\u001b[0;34m\u001b[0m\u001b[0m\n\u001b[1;32m    453\u001b[0m                             _pair(0), self.dilation, self.groups)\n\u001b[0;32m--> 454\u001b[0;31m         return F.conv2d(input, weight, bias, self.stride,\n\u001b[0m\u001b[1;32m    455\u001b[0m                         self.padding, self.dilation, self.groups)\n\u001b[1;32m    456\u001b[0m \u001b[0;34m\u001b[0m\u001b[0m\n",
            "\u001b[0;31mOutOfMemoryError\u001b[0m: CUDA out of memory. Tried to allocate 14.00 MiB. GPU 0 has a total capacity of 14.75 GiB of which 1.06 MiB is free. Process 4280 has 14.74 GiB memory in use. Of the allocated memory 14.12 GiB is allocated by PyTorch, and 503.69 MiB is reserved by PyTorch but unallocated. If reserved but unallocated memory is large try setting PYTORCH_CUDA_ALLOC_CONF=expandable_segments:True to avoid fragmentation.  See documentation for Memory Management  (https://pytorch.org/docs/stable/notes/cuda.html#environment-variables)"
          ]
        }
      ]
    },
    {
      "cell_type": "code",
      "source": [],
      "metadata": {
        "id": "2MGUGq6p0cCZ"
      },
      "execution_count": null,
      "outputs": []
    }
  ]
}